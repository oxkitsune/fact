{
 "cells": [
  {
   "cell_type": "code",
   "execution_count": 1,
   "id": "3059849b",
   "metadata": {},
   "outputs": [
    {
     "name": "stderr",
     "output_type": "stream",
     "text": [
      "/home/harold/repos/fact/.venv/lib/python3.11/site-packages/tqdm/auto.py:21: TqdmWarning: IProgress not found. Please update jupyter and ipywidgets. See https://ipywidgets.readthedocs.io/en/stable/user_install.html\n",
      "  from .autonotebook import tqdm as notebook_tqdm\n"
     ]
    }
   ],
   "source": [
    "import numpy as np\n",
    "import os\n",
    "from pathlib import Path\n",
    "import sys\n",
    "import torch\n",
    "from models.fair import FairGNNTrainer, FairGNN\n",
    "from dataset import NBA\n",
    "\n",
    "def setup_experiment(seed: int, data_path: str, log_dir: str, device: int = 0):\n",
    "    experiment_dir = Path(\".\")\n",
    "    root_dir = Path(os.path.abspath(f\"{str(experiment_dir)}/..\"))\n",
    "    sys.path.append(str((root_dir / \"src\").resolve()))\n",
    "\n",
    "    data_path = root_dir / data_path\n",
    "    log_dir = root_dir / log_dir\n",
    "    log_dir.mkdir(parents=True, exist_ok=True)\n",
    "\n",
    "    device = torch.device(f\"cuda:{device}\" if torch.cuda.is_available() else \"cpu\")\n",
    "\n",
    "    np.random.seed(seed)\n",
    "    torch.manual_seed(seed)\n",
    "    torch.cuda.manual_seed(seed)\n",
    "    torch.cuda.manual_seed_all(seed)\n",
    "\n",
    "    print(\"Using directories:\")\n",
    "    print(\"root_dir:\", root_dir)\n",
    "    print(\"data_dir:\", data_path)\n",
    "    print(\"log_dir:\", log_dir)\n",
    "    print(\"========================================\")\n",
    "    print(\n",
    "        \"device:\",\n",
    "        device,\n",
    "    )\n",
    "\n",
    "    return root_dir, data_path, log_dir, device\n"
   ]
  },
  {
   "cell_type": "code",
   "execution_count": 2,
   "id": "36490633-6b99-4cda-bbf8-6fba5ebefb38",
   "metadata": {},
   "outputs": [
    {
     "name": "stdout",
     "output_type": "stream",
     "text": [
      "Using directories:\n",
      "root_dir: /home/harold/repos/fact\n",
      "data_dir: /home/harold/repos/fact/dataset/NBA\n",
      "log_dir: /home/harold/repos/fact/experiments/fair_gnn/logs/nba\n",
      "========================================\n",
      "device: cpu\n"
     ]
    }
   ],
   "source": [
    "ROOT_DIR, DATA_PATH, LOG_DIR, DEVICE = setup_experiment(\n",
    "    seed=20, \n",
    "    data_path=\"dataset/NBA\", \n",
    "    log_dir=\"experiments/fair_gnn/logs/nba\", \n",
    "    device=2\n",
    ")"
   ]
  },
  {
   "cell_type": "code",
   "execution_count": 3,
   "id": "85528069-1cf2-4e5a-8d97-56fde897e90a",
   "metadata": {},
   "outputs": [
    {
     "name": "stdout",
     "output_type": "stream",
     "text": [
      "Loaded dataset with 403 nodes and 21645 edges\n",
      "Using feat_drop_rate: 0.3\n"
     ]
    }
   ],
   "source": [
    "# Load in the dataset\n",
    "dataset = NBA(\n",
    "    nodes_path=DATA_PATH / \"nba.csv\",\n",
    "    edges_path=DATA_PATH / \"nba_relationship.txt\",\n",
    "    embedding_path=DATA_PATH / \"nba_embedding10.npy\",\n",
    "    feat_drop_rate=0.3,\n",
    "    device=DEVICE\n",
    ")\n",
    "\n",
    "print(f\"Loaded dataset with {dataset.graph.num_nodes()} nodes and {dataset.graph.num_edges()} edges\")\n",
    "print(f\"Using feat_drop_rate: {dataset.feat_drop_rate}\")"
   ]
  },
  {
   "cell_type": "code",
   "execution_count": 4,
   "id": "c8048c63-8ab5-4df1-9a3a-690b9b7a7f22",
   "metadata": {},
   "outputs": [
    {
     "name": "stdout",
     "output_type": "stream",
     "text": [
      "Created FairAC model with 1 sensitive class\n"
     ]
    }
   ],
   "source": [
    "# Create FairGNN model\n",
    "fair_gnn = FairGNN(\n",
    "    num_features=dataset.features.shape[1],\n",
    "    alpha=10,\n",
    "    beta=1,\n",
    ")\n",
    "\n",
    "print(f\"Created FairAC model with {1} sensitive class\")"
   ]
  },
  {
   "cell_type": "code",
   "execution_count": 5,
   "id": "08da444a-ddb7-4f23-88c0-1b7374308b3a",
   "metadata": {},
   "outputs": [
    {
     "name": "stdout",
     "output_type": "stream",
     "text": [
      "Created trainer with GCN model, using LOG_DIR: /home/harold/repos/fact/experiments/fair_gnn/logs/nba\n"
     ]
    }
   ],
   "source": [
    "trainer = FairGNNTrainer(\n",
    "    fair_gnn=fair_gnn,\n",
    "    # these are not being used\n",
    "    alpha=10,\n",
    "    beta=1,\n",
    "    dataset=dataset,\n",
    "    device=DEVICE,\n",
    "    log_dir=LOG_DIR,\n",
    "    min_acc=0.65,\n",
    "    min_roc=0.69,\n",
    ")\n",
    "\n",
    "print(f\"Created trainer with {'GCN'} model, using LOG_DIR: {LOG_DIR}\")"
   ]
  },
  {
   "cell_type": "code",
   "execution_count": 6,
   "id": "bb52df54-5a2d-43d5-b783-e7e172f6c463",
   "metadata": {},
   "outputs": [
    {
     "name": "stderr",
     "output_type": "stream",
     "text": [
      "Epoch 0:   0%|          | 0/3000 [00:00<?, ?it/s]"
     ]
    },
    {
     "ename": "",
     "evalue": "",
     "output_type": "error",
     "traceback": [
      "\u001b[1;31mThe Kernel crashed while executing code in the the current cell or a previous cell. Please review the code in the cell(s) to identify a possible cause of the failure. Click <a href='https://aka.ms/vscodeJupyterKernelCrash'>here</a> for more info. View Jupyter <a href='command:jupyter.viewOutput'>log</a> for further details."
     ]
    }
   ],
   "source": [
    "# Main training loop, with GNN validation\n",
    "trainer.train(epochs=3000)"
   ]
  }
 ],
 "metadata": {
  "kernelspec": {
   "display_name": "Python 3 (ipykernel)",
   "language": "python",
   "name": "python3"
  },
  "language_info": {
   "codemirror_mode": {
    "name": "ipython",
    "version": 3
   },
   "file_extension": ".py",
   "mimetype": "text/x-python",
   "name": "python",
   "nbconvert_exporter": "python",
   "pygments_lexer": "ipython3",
   "version": "3.11.6"
  }
 },
 "nbformat": 4,
 "nbformat_minor": 5
}
