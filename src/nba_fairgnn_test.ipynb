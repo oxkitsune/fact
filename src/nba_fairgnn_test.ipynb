{
 "cells": [
  {
   "cell_type": "code",
   "execution_count": 1,
   "id": "3059849b",
   "metadata": {},
   "outputs": [],
   "source": [
    "import numpy as np\n",
    "import os\n",
    "from pathlib import Path\n",
    "import sys\n",
    "import torch\n",
    "from models.fair import FairGNNTrainer, FairGNN\n",
    "from dataset import NBA, PokecN, PokecZ, Recidivism, Credit\n",
    "\n",
    "def setup_experiment(seed: int, data_path: str, log_dir: str, device: int = 0):\n",
    "    experiment_dir = Path(\".\")\n",
    "    root_dir = Path(os.path.abspath(f\"{str(experiment_dir)}/..\"))\n",
    "    sys.path.append(str((root_dir / \"src\").resolve()))\n",
    "\n",
    "    data_path = root_dir / data_path\n",
    "    log_dir = root_dir / log_dir\n",
    "    log_dir.mkdir(parents=True, exist_ok=True)\n",
    "\n",
    "    if device != \"cpu\":\n",
    "        device = torch.device(f\"cuda:{device}\" if torch.cuda.is_available() else \"cpu\")\n",
    "    else:\n",
    "        device = torch.device(\"cpu\")\n",
    "\n",
    "    np.random.seed(seed)\n",
    "    torch.manual_seed(seed)\n",
    "    torch.cuda.manual_seed(seed)\n",
    "    torch.cuda.manual_seed_all(seed)\n",
    "\n",
    "    print(\"Using directories:\")\n",
    "    print(\"root_dir:\", root_dir)\n",
    "    print(\"data_dir:\", data_path)\n",
    "    print(\"log_dir:\", log_dir)\n",
    "    print(\"========================================\")\n",
    "    print(\n",
    "        \"device:\",\n",
    "        device,\n",
    "    )\n",
    "\n",
    "    return root_dir, data_path, log_dir, device\n"
   ]
  },
  {
   "cell_type": "code",
   "execution_count": 2,
   "id": "36490633-6b99-4cda-bbf8-6fba5ebefb38",
   "metadata": {},
   "outputs": [
    {
     "name": "stdout",
     "output_type": "stream",
     "text": [
      "Using directories:\n",
      "root_dir: /home/fact21/fact_refactor\n",
      "data_dir: /home/fact21/fact_refactor/dataset/pokec\n",
      "log_dir: /home/fact21/fact_refactor/experiments/fair_gnn/logs/pokec_z\n",
      "========================================\n",
      "device: cuda:1\n"
     ]
    }
   ],
   "source": [
    "NBA_PATH = \"dataset/NBA\"\n",
    "NBA_LOG_DIR = \"experiments/fair_gnn/logs/nba\"\n",
    "\n",
    "POKEC_Z_PATH = \"dataset/pokec\"\n",
    "POKEC_Z_LOG_DIR = \"experiments/fair_gnn/logs/pokec_z\"\n",
    "\n",
    "ROOT_DIR, DATA_PATH, LOG_DIR, DEVICE = setup_experiment(\n",
    "    seed=41,\n",
    "    data_path=POKEC_Z_PATH, \n",
    "    log_dir=POKEC_Z_LOG_DIR, \n",
    "    device=1\n",
    ")"
   ]
  },
  {
   "cell_type": "code",
   "execution_count": 3,
   "id": "85528069-1cf2-4e5a-8d97-56fde897e90a",
   "metadata": {},
   "outputs": [
    {
     "name": "stdout",
     "output_type": "stream",
     "text": [
      "Loaded dataset with 67796 nodes and 1303712 edges\n",
      "Using feat_drop_rate: 0.3\n"
     ]
    }
   ],
   "source": [
    "# Load in the dataset\n",
    "# dataset = NBA(\n",
    "#     nodes_path=DATA_PATH / \"nba.csv\",\n",
    "#     edges_path=DATA_PATH / \"nba_relationship.txt\",\n",
    "#     embedding_path=DATA_PATH / \"nba_embedding10.npy\",\n",
    "#     feat_drop_rate=0.3,\n",
    "#     device=DEVICE,\n",
    "#     data_seed=20\n",
    "# )\n",
    "\n",
    "dataset = PokecZ(\n",
    "    DATA_PATH / \"region_job.csv\",\n",
    "    DATA_PATH / \"region_job_relationship.txt\",\n",
    "    DATA_PATH / \"pokec_z_embedding10.npy\",\n",
    "    feat_drop_rate=0.3,\n",
    "    data_seed=42,\n",
    "    device=DEVICE\n",
    ")\n",
    "\n",
    "print(f\"Loaded dataset with {dataset.graph.num_nodes()} nodes and {dataset.graph.num_edges()} edges\")\n",
    "print(f\"Using feat_drop_rate: {dataset.feat_drop_rate}\")"
   ]
  },
  {
   "cell_type": "code",
   "execution_count": 4,
   "id": "c8048c63-8ab5-4df1-9a3a-690b9b7a7f22",
   "metadata": {},
   "outputs": [
    {
     "name": "stdout",
     "output_type": "stream",
     "text": [
      "Created FairAC model with 1 sensitive class\n"
     ]
    }
   ],
   "source": [
    "# Create FairGNN model\n",
    "fair_gnn = FairGNN(\n",
    "    num_features=dataset.features.shape[1],\n",
    "    alpha=10,\n",
    "    beta=1,\n",
    ")\n",
    "\n",
    "print(f\"Created FairAC model with {1} sensitive class\")"
   ]
  },
  {
   "cell_type": "code",
   "execution_count": 5,
   "id": "08da444a-ddb7-4f23-88c0-1b7374308b3a",
   "metadata": {},
   "outputs": [
    {
     "name": "stdout",
     "output_type": "stream",
     "text": [
      "Created trainer with GCN model, using LOG_DIR: /home/fact21/fact_refactor/experiments/fair_gnn/logs/pokec_z\n"
     ]
    }
   ],
   "source": [
    "trainer = FairGNNTrainer(\n",
    "    fair_gnn=fair_gnn,\n",
    "    dataset=dataset,\n",
    "    device=DEVICE,\n",
    "    log_dir=LOG_DIR,\n",
    "    min_acc=0.65,\n",
    "    min_roc=0.69,\n",
    ")\n",
    "\n",
    "print(f\"Created trainer with {'GCN'} model, using LOG_DIR: {LOG_DIR}\")"
   ]
  },
  {
   "cell_type": "code",
   "execution_count": 6,
   "id": "bb52df54-5a2d-43d5-b783-e7e172f6c463",
   "metadata": {},
   "outputs": [
    {
     "data": {
      "application/json": {
       "ascii": false,
       "bar_format": null,
       "colour": null,
       "elapsed": 0.027112960815429688,
       "initial": 0,
       "n": 0,
       "ncols": null,
       "nrows": null,
       "postfix": null,
       "prefix": "",
       "rate": null,
       "total": 3000,
       "unit": "it",
       "unit_divisor": 1000,
       "unit_scale": false
      },
      "application/vnd.jupyter.widget-view+json": {
       "model_id": "45063683c5b8446a813878b29e1b1753",
       "version_major": 2,
       "version_minor": 0
      },
      "text/plain": [
       "  0%|          | 0/3000 [00:00<?, ?it/s]"
      ]
     },
     "metadata": {},
     "output_type": "display_data"
    },
    {
     "name": "stdout",
     "output_type": "stream",
     "text": [
      "[117] updated to: Metrics(acc=0.6508183943881528, roc=0.6789329685362517, parity=0.0031537090360619913, equality=0.01685304772405105)\n",
      "[337] updated to: Metrics(acc=0.6325019485580671, roc=0.720202877662693, parity=0.004570135746606252, equality=0.036254387222808604)\n",
      "[392] updated to: Metrics(acc=0.6492595479345284, roc=0.7165471711940591, parity=0.013840669134786765, equality=0.049912666937794836)\n",
      "[444] updated to: Metrics(acc=0.6418550272798129, roc=0.7109133769786986, parity=0.0017784176607706925, equality=0.03205346711081547)\n",
      "[871] updated to: Metrics(acc=0.6480904130943103, roc=0.7113866767637287, parity=0.0022857534622240383, equality=0.04916510532860974)\n",
      "[877] updated to: Metrics(acc=0.6508183943881528, roc=0.7068399452804378, parity=0.011160016454134114, equality=0.05076836638981819)\n",
      "[879] updated to: Metrics(acc=0.6484801247077163, roc=0.7045668848934923, parity=0.011181955299602309, equality=0.057237830378741084)\n",
      "[990] updated to: Metrics(acc=0.6461418550272798, roc=0.7085743599765487, parity=0.0023419717537364604, equality=0.04018026108236572)\n",
      "[1032] updated to: Metrics(acc=0.6441932969602494, roc=0.7076106605432871, parity=0.004090223501988233, equality=0.045692940244438485)\n",
      "[1080] updated to: Metrics(acc=0.6391270459859704, roc=0.7044410787570843, parity=0.0010009598244892226, equality=0.0377471596185085)\n",
      "[1972] updated to: Metrics(acc=0.6356196414653157, roc=0.7016916650381083, parity=0.003362128068010395, equality=0.038222025797927994)\n",
      "Finished training!\n",
      "\n",
      "Best fair model:\n",
      "\tacc: 0.6356\n",
      "\troc: 0.7017\n",
      "\tparity: 0.0034\n",
      "\tequality: 0.0382\n"
     ]
    }
   ],
   "source": [
    "# Main training loop, with GNN validation\n",
    "trainer.train(epochs=3000)"
   ]
  }
 ],
 "metadata": {
  "kernelspec": {
   "display_name": "Python 3 (ipykernel)",
   "language": "python",
   "name": "python3"
  },
  "language_info": {
   "codemirror_mode": {
    "name": "ipython",
    "version": 3
   },
   "file_extension": ".py",
   "mimetype": "text/x-python",
   "name": "python",
   "nbconvert_exporter": "python",
   "pygments_lexer": "ipython3",
   "version": "3.8.13"
  }
 },
 "nbformat": 4,
 "nbformat_minor": 5
}
