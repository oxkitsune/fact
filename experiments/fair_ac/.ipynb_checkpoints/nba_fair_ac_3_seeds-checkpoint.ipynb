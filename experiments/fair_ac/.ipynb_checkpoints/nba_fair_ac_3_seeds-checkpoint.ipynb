{
 "cells": [
  {
   "cell_type": "code",
   "execution_count": 1,
   "id": "bb0081b1-96b6-4e7c-8897-c169c2bee04a",
   "metadata": {},
   "outputs": [],
   "source": [
    "import sys\n",
    "import os\n",
    "import torch\n",
    "sys.path.append(os.path.abspath(\"../\"))\n",
    "from base_experiment import ExperimentRunner"
   ]
  },
  {
   "cell_type": "code",
   "execution_count": 2,
   "id": "b42a14e5-a87c-4765-9535-fe27a6c286c7",
   "metadata": {},
   "outputs": [],
   "source": [
    "experiment = ExperimentRunner(\n",
    "    experiment_name = \"nba_fair_ac_main\",\n",
    "    seeds = [40, 41, 42],\n",
    "    data_path = \"dataset/NBA\",\n",
    "    log_dir=\"experiments/fair_ac/logs/nba\", \n",
    "    device=2,\n",
    "    params=[{\"lambda1\": 1.0, \"lambda2\": 1.0}]\n",
    ")\n",
    "\n",
    "# after we set up the experiment, we can import the rest\n",
    "from dataset import NBA\n",
    "from models.gnn import WrappedGNNConfig\n",
    "from models.fair.ac import FairAC, Trainer"
   ]
  },
  {
   "cell_type": "code",
   "execution_count": 3,
   "id": "45424210-ce9a-43dd-9c8a-0f2c09a04f06",
   "metadata": {},
   "outputs": [
    {
     "name": "stdout",
     "output_type": "stream",
     "text": [
      "Loaded dataset with 403 nodes and 21645 edges\n",
      "Using feat_drop_rate: 0.3\n"
     ]
    }
   ],
   "source": [
    "# Load in the dataset\n",
    "dataset = NBA(\n",
    "    nodes_path=experiment.data_path / \"nba.csv\",\n",
    "    edges_path=experiment.data_path / \"nba_relationship.txt\",\n",
    "    embedding_path=experiment.data_path / \"nba_embedding10.npy\",\n",
    "    feat_drop_rate=0.3,\n",
    "    device=experiment.device\n",
    ")\n",
    "\n",
    "print(f\"Loaded dataset with {dataset.graph.num_nodes()} nodes and {dataset.graph.num_edges()} edges\")\n",
    "print(f\"Using feat_drop_rate: {dataset.feat_drop_rate}\")"
   ]
  },
  {
   "cell_type": "code",
   "execution_count": 4,
   "id": "db9a8ab6-c0da-43fd-885b-4a14e14ab392",
   "metadata": {},
   "outputs": [],
   "source": [
    "# Create downstream GNN config\n",
    "gnn_config = WrappedGNNConfig(\n",
    "    hidden_dim=128,\n",
    "    kind=\"GCN\",\n",
    "    lr=1e-3,\n",
    "    weight_decay=1e-5,\n",
    "    kwargs={\"dropout\": 0.5},\n",
    ")"
   ]
  },
  {
   "cell_type": "code",
   "execution_count": 5,
   "id": "13ac7751-fc8f-438c-a28e-05b124ab1c42",
   "metadata": {
    "editable": true,
    "slideshow": {
     "slide_type": ""
    },
    "tags": []
   },
   "outputs": [
    {
     "name": "stdout",
     "output_type": "stream",
     "text": [
      "SETTING SEED TO: 40\n",
      "===========================\n",
      "Running nba_fair_ac_main using seed 40\n",
      "Log directory: /home/fact21/fact_refactor/experiments/fair_ac/logs/nba/nba_fair_ac_main_40_lambda1_1.0_lambda2_1.0\n",
      "Params: {'lambda1': 1.0, 'lambda2': 1.0}\n",
      "===========================\n",
      "Created FairAC model with 1 sensitive class\n",
      "Created trainer with GCN model, using log_dir: /home/fact21/fact_refactor/experiments/fair_ac/logs/nba/nba_fair_ac_main_40_lambda1_1.0_lambda2_1.0\n",
      "Starting pre-training phase\n"
     ]
    },
    {
     "data": {
      "application/json": {
       "ascii": false,
       "bar_format": null,
       "colour": null,
       "elapsed": 0.01048898696899414,
       "initial": 0,
       "n": 0,
       "ncols": null,
       "nrows": 62,
       "postfix": null,
       "prefix": "",
       "rate": null,
       "total": 200,
       "unit": "it",
       "unit_divisor": 1000,
       "unit_scale": false
      },
      "application/vnd.jupyter.widget-view+json": {
       "model_id": "30bf13cc0a3c4b589aee6ce82c02e5b2",
       "version_major": 2,
       "version_minor": 0
      },
      "text/plain": [
       "  0%|          | 0/200 [00:00<?, ?it/s]"
      ]
     },
     "metadata": {},
     "output_type": "display_data"
    },
    {
     "name": "stdout",
     "output_type": "stream",
     "text": [
      "Finished pretraining\n",
      "Starting main training...\n"
     ]
    },
    {
     "data": {
      "application/json": {
       "ascii": false,
       "bar_format": null,
       "colour": null,
       "elapsed": 0.006622314453125,
       "initial": 0,
       "n": 0,
       "ncols": null,
       "nrows": 62,
       "postfix": null,
       "prefix": "",
       "rate": null,
       "total": 2800,
       "unit": "it",
       "unit_divisor": 1000,
       "unit_scale": false
      },
      "application/vnd.jupyter.widget-view+json": {
       "model_id": "78c3997229284e5082e2c36aa7ef2ae2",
       "version_major": 2,
       "version_minor": 0
      },
      "text/plain": [
       "  0%|          | 0/2800 [00:00<?, ?it/s]"
      ]
     },
     "metadata": {},
     "output_type": "display_data"
    },
    {
     "data": {
      "application/json": {
       "ascii": false,
       "bar_format": null,
       "colour": null,
       "elapsed": 0.008164167404174805,
       "initial": 0,
       "n": 0,
       "ncols": null,
       "nrows": 62,
       "postfix": null,
       "prefix": "",
       "rate": null,
       "total": 1000,
       "unit": "it",
       "unit_divisor": 1000,
       "unit_scale": false
      },
      "application/vnd.jupyter.widget-view+json": {
       "model_id": "",
       "version_major": 2,
       "version_minor": 0
      },
      "text/plain": [
       "  0%|          | 0/1000 [00:00<?, ?it/s]"
      ]
     },
     "metadata": {},
     "output_type": "display_data"
    },
    {
     "name": "stdout",
     "output_type": "stream",
     "text": [
      "[1000:177] Found new best fairness of 0.548243\n",
      "[1000:198] Found new best fairness of 0.474542\n",
      "[1000:233] Found new best fairness of 0.425033\n",
      "[1000:557] Found new best fairness of 0.418704\n"
     ]
    },
    {
     "data": {
      "application/json": {
       "ascii": false,
       "bar_format": null,
       "colour": null,
       "elapsed": 0.011199235916137695,
       "initial": 0,
       "n": 0,
       "ncols": null,
       "nrows": 62,
       "postfix": null,
       "prefix": "",
       "rate": null,
       "total": 1000,
       "unit": "it",
       "unit_divisor": 1000,
       "unit_scale": false
      },
      "application/vnd.jupyter.widget-view+json": {
       "model_id": "",
       "version_major": 2,
       "version_minor": 0
      },
      "text/plain": [
       "  0%|          | 0/1000 [00:00<?, ?it/s]"
      ]
     },
     "metadata": {},
     "output_type": "display_data"
    },
    {
     "name": "stdout",
     "output_type": "stream",
     "text": [
      "[1200:182] Found new best fairness of 0.269372\n",
      "[1200:517] Found new best fairness of 0.256396\n",
      "[1200:691] Found new best fairness of 0.250872\n",
      "[1200:719] Found new best fairness of 0.244543\n",
      "[1200:791] Found new best fairness of 0.238532\n",
      "[1200:908] Found new best fairness of 0.225069\n"
     ]
    },
    {
     "data": {
      "application/json": {
       "ascii": false,
       "bar_format": null,
       "colour": null,
       "elapsed": 0.007688999176025391,
       "initial": 0,
       "n": 0,
       "ncols": null,
       "nrows": 62,
       "postfix": null,
       "prefix": "",
       "rate": null,
       "total": 1000,
       "unit": "it",
       "unit_divisor": 1000,
       "unit_scale": false
      },
      "application/vnd.jupyter.widget-view+json": {
       "model_id": "",
       "version_major": 2,
       "version_minor": 0
      },
      "text/plain": [
       "  0%|          | 0/1000 [00:00<?, ?it/s]"
      ]
     },
     "metadata": {},
     "output_type": "display_data"
    },
    {
     "name": "stdout",
     "output_type": "stream",
     "text": [
      "[1400:181] Found new best fairness of 0.174436\n",
      "[1400:190] Found new best fairness of 0.076861\n",
      "[1400:192] Found new best fairness of 0.051545\n",
      "[1400:244] Found new best fairness of 0.049128\n",
      "[1400:251] Found new best fairness of 0.042799\n",
      "[1400:257] Found new best fairness of 0.036470\n",
      "[1400:315] Found new best fairness of 0.023812\n",
      "[1400:382] Found new best fairness of 0.017483\n",
      "[1400:411] Found new best fairness of 0.004594\n",
      "[1400:811] Found new best fairness of 0.004506\n",
      "[1400:819] Found new best fairness of 0.003789\n"
     ]
    },
    {
     "data": {
      "application/json": {
       "ascii": false,
       "bar_format": null,
       "colour": null,
       "elapsed": 0.006994009017944336,
       "initial": 0,
       "n": 0,
       "ncols": null,
       "nrows": 62,
       "postfix": null,
       "prefix": "",
       "rate": null,
       "total": 1000,
       "unit": "it",
       "unit_divisor": 1000,
       "unit_scale": false
      },
      "application/vnd.jupyter.widget-view+json": {
       "model_id": "",
       "version_major": 2,
       "version_minor": 0
      },
      "text/plain": [
       "  0%|          | 0/1000 [00:00<?, ?it/s]"
      ]
     },
     "metadata": {},
     "output_type": "display_data"
    },
    {
     "data": {
      "application/json": {
       "ascii": false,
       "bar_format": null,
       "colour": null,
       "elapsed": 0.00744175910949707,
       "initial": 0,
       "n": 0,
       "ncols": null,
       "nrows": 62,
       "postfix": null,
       "prefix": "",
       "rate": null,
       "total": 1000,
       "unit": "it",
       "unit_divisor": 1000,
       "unit_scale": false
      },
      "application/vnd.jupyter.widget-view+json": {
       "model_id": "",
       "version_major": 2,
       "version_minor": 0
      },
      "text/plain": [
       "  0%|          | 0/1000 [00:00<?, ?it/s]"
      ]
     },
     "metadata": {},
     "output_type": "display_data"
    },
    {
     "data": {
      "application/json": {
       "ascii": false,
       "bar_format": null,
       "colour": null,
       "elapsed": 0.007639408111572266,
       "initial": 0,
       "n": 0,
       "ncols": null,
       "nrows": 62,
       "postfix": null,
       "prefix": "",
       "rate": null,
       "total": 1000,
       "unit": "it",
       "unit_divisor": 1000,
       "unit_scale": false
      },
      "application/vnd.jupyter.widget-view+json": {
       "model_id": "",
       "version_major": 2,
       "version_minor": 0
      },
      "text/plain": [
       "  0%|          | 0/1000 [00:00<?, ?it/s]"
      ]
     },
     "metadata": {},
     "output_type": "display_data"
    },
    {
     "data": {
      "application/json": {
       "ascii": false,
       "bar_format": null,
       "colour": null,
       "elapsed": 0.0074350833892822266,
       "initial": 0,
       "n": 0,
       "ncols": null,
       "nrows": 62,
       "postfix": null,
       "prefix": "",
       "rate": null,
       "total": 1000,
       "unit": "it",
       "unit_divisor": 1000,
       "unit_scale": false
      },
      "application/vnd.jupyter.widget-view+json": {
       "model_id": "",
       "version_major": 2,
       "version_minor": 0
      },
      "text/plain": [
       "  0%|          | 0/1000 [00:00<?, ?it/s]"
      ]
     },
     "metadata": {},
     "output_type": "display_data"
    },
    {
     "data": {
      "application/json": {
       "ascii": false,
       "bar_format": null,
       "colour": null,
       "elapsed": 0.007486820220947266,
       "initial": 0,
       "n": 0,
       "ncols": null,
       "nrows": 62,
       "postfix": null,
       "prefix": "",
       "rate": null,
       "total": 1000,
       "unit": "it",
       "unit_divisor": 1000,
       "unit_scale": false
      },
      "application/vnd.jupyter.widget-view+json": {
       "model_id": "",
       "version_major": 2,
       "version_minor": 0
      },
      "text/plain": [
       "  0%|          | 0/1000 [00:00<?, ?it/s]"
      ]
     },
     "metadata": {},
     "output_type": "display_data"
    },
    {
     "data": {
      "application/json": {
       "ascii": false,
       "bar_format": null,
       "colour": null,
       "elapsed": 0.007343292236328125,
       "initial": 0,
       "n": 0,
       "ncols": null,
       "nrows": 62,
       "postfix": null,
       "prefix": "",
       "rate": null,
       "total": 1000,
       "unit": "it",
       "unit_divisor": 1000,
       "unit_scale": false
      },
      "application/vnd.jupyter.widget-view+json": {
       "model_id": "",
       "version_major": 2,
       "version_minor": 0
      },
      "text/plain": [
       "  0%|          | 0/1000 [00:00<?, ?it/s]"
      ]
     },
     "metadata": {},
     "output_type": "display_data"
    },
    {
     "data": {
      "application/json": {
       "ascii": false,
       "bar_format": null,
       "colour": null,
       "elapsed": 0.006783485412597656,
       "initial": 0,
       "n": 0,
       "ncols": null,
       "nrows": 62,
       "postfix": null,
       "prefix": "",
       "rate": null,
       "total": 1000,
       "unit": "it",
       "unit_divisor": 1000,
       "unit_scale": false
      },
      "application/vnd.jupyter.widget-view+json": {
       "model_id": "",
       "version_major": 2,
       "version_minor": 0
      },
      "text/plain": [
       "  0%|          | 0/1000 [00:00<?, ?it/s]"
      ]
     },
     "metadata": {},
     "output_type": "display_data"
    },
    {
     "name": "stdout",
     "output_type": "stream",
     "text": [
      "Finished training!\n",
      "Best epoch: 1400\n",
      "\n",
      "Best fair model:\n",
      "\tacc: 0.6714\n",
      "\troc: 0.7341\n",
      "\tparity: 0.0018\n",
      "\tequality: 0.0019\n",
      "\tconsistency: 0.0264\n",
      "\n",
      "Best acc model:\n",
      "\tacc: 0.7512\n",
      "\troc: 0.7597\n",
      "\tparity: 0.0929\n",
      "\tequality: 0.1699\n",
      "\n",
      "Best auc model:\n",
      "\tacc: 0.5493\n",
      "\troc: 0.7715\n",
      "\tparity: 0.0586\n",
      "\tequality: 0.1646\n",
      "SETTING SEED TO: 41\n",
      "===========================\n",
      "Running nba_fair_ac_main using seed 41\n",
      "Log directory: /home/fact21/fact_refactor/experiments/fair_ac/logs/nba/nba_fair_ac_main_41_lambda1_1.0_lambda2_1.0\n",
      "Params: {'lambda1': 1.0, 'lambda2': 1.0}\n",
      "===========================\n",
      "Created FairAC model with 1 sensitive class\n",
      "Created trainer with GCN model, using log_dir: /home/fact21/fact_refactor/experiments/fair_ac/logs/nba/nba_fair_ac_main_41_lambda1_1.0_lambda2_1.0\n",
      "Starting pre-training phase\n"
     ]
    },
    {
     "data": {
      "application/json": {
       "ascii": false,
       "bar_format": null,
       "colour": null,
       "elapsed": 0.007284641265869141,
       "initial": 0,
       "n": 0,
       "ncols": null,
       "nrows": 62,
       "postfix": null,
       "prefix": "",
       "rate": null,
       "total": 200,
       "unit": "it",
       "unit_divisor": 1000,
       "unit_scale": false
      },
      "application/vnd.jupyter.widget-view+json": {
       "model_id": "07e633d0c043427db3e3a8eb9c3f4007",
       "version_major": 2,
       "version_minor": 0
      },
      "text/plain": [
       "  0%|          | 0/200 [00:00<?, ?it/s]"
      ]
     },
     "metadata": {},
     "output_type": "display_data"
    },
    {
     "name": "stdout",
     "output_type": "stream",
     "text": [
      "Finished pretraining\n",
      "Starting main training...\n"
     ]
    },
    {
     "data": {
      "application/json": {
       "ascii": false,
       "bar_format": null,
       "colour": null,
       "elapsed": 0.0055234432220458984,
       "initial": 0,
       "n": 0,
       "ncols": null,
       "nrows": 62,
       "postfix": null,
       "prefix": "",
       "rate": null,
       "total": 2800,
       "unit": "it",
       "unit_divisor": 1000,
       "unit_scale": false
      },
      "application/vnd.jupyter.widget-view+json": {
       "model_id": "e1cad9ef0870465b8e6684ef00b5df44",
       "version_major": 2,
       "version_minor": 0
      },
      "text/plain": [
       "  0%|          | 0/2800 [00:00<?, ?it/s]"
      ]
     },
     "metadata": {},
     "output_type": "display_data"
    },
    {
     "data": {
      "application/json": {
       "ascii": false,
       "bar_format": null,
       "colour": null,
       "elapsed": 0.006432771682739258,
       "initial": 0,
       "n": 0,
       "ncols": null,
       "nrows": 62,
       "postfix": null,
       "prefix": "",
       "rate": null,
       "total": 1000,
       "unit": "it",
       "unit_divisor": 1000,
       "unit_scale": false
      },
      "application/vnd.jupyter.widget-view+json": {
       "model_id": "",
       "version_major": 2,
       "version_minor": 0
      },
      "text/plain": [
       "  0%|          | 0/1000 [00:00<?, ?it/s]"
      ]
     },
     "metadata": {},
     "output_type": "display_data"
    },
    {
     "name": "stdout",
     "output_type": "stream",
     "text": [
      "[1000:142] Found new best fairness of 0.175879\n",
      "[1000:170] Found new best fairness of 0.143109\n",
      "[1000:182] Found new best fairness of 0.047287\n",
      "[1000:196] Found new best fairness of 0.040958\n",
      "[1000:232] Found new best fairness of 0.034629\n",
      "[1000:265] Found new best fairness of 0.028300\n",
      "[1000:275] Found new best fairness of 0.007214\n",
      "[1000:715] Found new best fairness of 0.002036\n"
     ]
    },
    {
     "data": {
      "application/json": {
       "ascii": false,
       "bar_format": null,
       "colour": null,
       "elapsed": 0.006737709045410156,
       "initial": 0,
       "n": 0,
       "ncols": null,
       "nrows": 62,
       "postfix": null,
       "prefix": "",
       "rate": null,
       "total": 1000,
       "unit": "it",
       "unit_divisor": 1000,
       "unit_scale": false
      },
      "application/vnd.jupyter.widget-view+json": {
       "model_id": "",
       "version_major": 2,
       "version_minor": 0
      },
      "text/plain": [
       "  0%|          | 0/1000 [00:00<?, ?it/s]"
      ]
     },
     "metadata": {},
     "output_type": "display_data"
    },
    {
     "data": {
      "application/json": {
       "ascii": false,
       "bar_format": null,
       "colour": null,
       "elapsed": 0.0072479248046875,
       "initial": 0,
       "n": 0,
       "ncols": null,
       "nrows": 62,
       "postfix": null,
       "prefix": "",
       "rate": null,
       "total": 1000,
       "unit": "it",
       "unit_divisor": 1000,
       "unit_scale": false
      },
      "application/vnd.jupyter.widget-view+json": {
       "model_id": "",
       "version_major": 2,
       "version_minor": 0
      },
      "text/plain": [
       "  0%|          | 0/1000 [00:00<?, ?it/s]"
      ]
     },
     "metadata": {},
     "output_type": "display_data"
    },
    {
     "data": {
      "application/json": {
       "ascii": false,
       "bar_format": null,
       "colour": null,
       "elapsed": 0.0062596797943115234,
       "initial": 0,
       "n": 0,
       "ncols": null,
       "nrows": 62,
       "postfix": null,
       "prefix": "",
       "rate": null,
       "total": 1000,
       "unit": "it",
       "unit_divisor": 1000,
       "unit_scale": false
      },
      "application/vnd.jupyter.widget-view+json": {
       "model_id": "",
       "version_major": 2,
       "version_minor": 0
      },
      "text/plain": [
       "  0%|          | 0/1000 [00:00<?, ?it/s]"
      ]
     },
     "metadata": {},
     "output_type": "display_data"
    },
    {
     "data": {
      "application/json": {
       "ascii": false,
       "bar_format": null,
       "colour": null,
       "elapsed": 0.008378982543945312,
       "initial": 0,
       "n": 0,
       "ncols": null,
       "nrows": 62,
       "postfix": null,
       "prefix": "",
       "rate": null,
       "total": 1000,
       "unit": "it",
       "unit_divisor": 1000,
       "unit_scale": false
      },
      "application/vnd.jupyter.widget-view+json": {
       "model_id": "",
       "version_major": 2,
       "version_minor": 0
      },
      "text/plain": [
       "  0%|          | 0/1000 [00:00<?, ?it/s]"
      ]
     },
     "metadata": {},
     "output_type": "display_data"
    },
    {
     "data": {
      "application/json": {
       "ascii": false,
       "bar_format": null,
       "colour": null,
       "elapsed": 0.006207942962646484,
       "initial": 0,
       "n": 0,
       "ncols": null,
       "nrows": 62,
       "postfix": null,
       "prefix": "",
       "rate": null,
       "total": 1000,
       "unit": "it",
       "unit_divisor": 1000,
       "unit_scale": false
      },
      "application/vnd.jupyter.widget-view+json": {
       "model_id": "",
       "version_major": 2,
       "version_minor": 0
      },
      "text/plain": [
       "  0%|          | 0/1000 [00:00<?, ?it/s]"
      ]
     },
     "metadata": {},
     "output_type": "display_data"
    },
    {
     "data": {
      "application/json": {
       "ascii": false,
       "bar_format": null,
       "colour": null,
       "elapsed": 0.0071527957916259766,
       "initial": 0,
       "n": 0,
       "ncols": null,
       "nrows": 62,
       "postfix": null,
       "prefix": "",
       "rate": null,
       "total": 1000,
       "unit": "it",
       "unit_divisor": 1000,
       "unit_scale": false
      },
      "application/vnd.jupyter.widget-view+json": {
       "model_id": "",
       "version_major": 2,
       "version_minor": 0
      },
      "text/plain": [
       "  0%|          | 0/1000 [00:00<?, ?it/s]"
      ]
     },
     "metadata": {},
     "output_type": "display_data"
    },
    {
     "data": {
      "application/json": {
       "ascii": false,
       "bar_format": null,
       "colour": null,
       "elapsed": 0.006439208984375,
       "initial": 0,
       "n": 0,
       "ncols": null,
       "nrows": 62,
       "postfix": null,
       "prefix": "",
       "rate": null,
       "total": 1000,
       "unit": "it",
       "unit_divisor": 1000,
       "unit_scale": false
      },
      "application/vnd.jupyter.widget-view+json": {
       "model_id": "",
       "version_major": 2,
       "version_minor": 0
      },
      "text/plain": [
       "  0%|          | 0/1000 [00:00<?, ?it/s]"
      ]
     },
     "metadata": {},
     "output_type": "display_data"
    },
    {
     "data": {
      "application/json": {
       "ascii": false,
       "bar_format": null,
       "colour": null,
       "elapsed": 0.006402015686035156,
       "initial": 0,
       "n": 0,
       "ncols": null,
       "nrows": 62,
       "postfix": null,
       "prefix": "",
       "rate": null,
       "total": 1000,
       "unit": "it",
       "unit_divisor": 1000,
       "unit_scale": false
      },
      "application/vnd.jupyter.widget-view+json": {
       "model_id": "",
       "version_major": 2,
       "version_minor": 0
      },
      "text/plain": [
       "  0%|          | 0/1000 [00:00<?, ?it/s]"
      ]
     },
     "metadata": {},
     "output_type": "display_data"
    },
    {
     "data": {
      "application/json": {
       "ascii": false,
       "bar_format": null,
       "colour": null,
       "elapsed": 0.007001161575317383,
       "initial": 0,
       "n": 0,
       "ncols": null,
       "nrows": 62,
       "postfix": null,
       "prefix": "",
       "rate": null,
       "total": 1000,
       "unit": "it",
       "unit_divisor": 1000,
       "unit_scale": false
      },
      "application/vnd.jupyter.widget-view+json": {
       "model_id": "",
       "version_major": 2,
       "version_minor": 0
      },
      "text/plain": [
       "  0%|          | 0/1000 [00:00<?, ?it/s]"
      ]
     },
     "metadata": {},
     "output_type": "display_data"
    },
    {
     "name": "stdout",
     "output_type": "stream",
     "text": [
      "Finished training!\n",
      "Best epoch: 1000\n",
      "\n",
      "Best fair model:\n",
      "\tacc: 0.6526\n",
      "\troc: 0.7457\n",
      "\tparity: 0.0006\n",
      "\tequality: 0.0015\n",
      "\tconsistency: 0.0264\n",
      "\n",
      "Best acc model:\n",
      "\tacc: 0.7371\n",
      "\troc: 0.7735\n",
      "\tparity: 0.0841\n",
      "\tequality: 0.2731\n",
      "\n",
      "Best auc model:\n",
      "\tacc: 0.5540\n",
      "\troc: 0.7813\n",
      "\tparity: 0.0522\n",
      "\tequality: 0.1646\n",
      "SETTING SEED TO: 42\n",
      "===========================\n",
      "Running nba_fair_ac_main using seed 42\n",
      "Log directory: /home/fact21/fact_refactor/experiments/fair_ac/logs/nba/nba_fair_ac_main_42_lambda1_1.0_lambda2_1.0\n",
      "Params: {'lambda1': 1.0, 'lambda2': 1.0}\n",
      "===========================\n",
      "Created FairAC model with 1 sensitive class\n",
      "Created trainer with GCN model, using log_dir: /home/fact21/fact_refactor/experiments/fair_ac/logs/nba/nba_fair_ac_main_42_lambda1_1.0_lambda2_1.0\n",
      "Starting pre-training phase\n"
     ]
    },
    {
     "data": {
      "application/json": {
       "ascii": false,
       "bar_format": null,
       "colour": null,
       "elapsed": 0.006838083267211914,
       "initial": 0,
       "n": 0,
       "ncols": null,
       "nrows": 62,
       "postfix": null,
       "prefix": "",
       "rate": null,
       "total": 200,
       "unit": "it",
       "unit_divisor": 1000,
       "unit_scale": false
      },
      "application/vnd.jupyter.widget-view+json": {
       "model_id": "f820adc38cd54370a62111c1d93c121f",
       "version_major": 2,
       "version_minor": 0
      },
      "text/plain": [
       "  0%|          | 0/200 [00:00<?, ?it/s]"
      ]
     },
     "metadata": {},
     "output_type": "display_data"
    },
    {
     "name": "stdout",
     "output_type": "stream",
     "text": [
      "Finished pretraining\n",
      "Starting main training...\n"
     ]
    },
    {
     "data": {
      "application/json": {
       "ascii": false,
       "bar_format": null,
       "colour": null,
       "elapsed": 0.00541234016418457,
       "initial": 0,
       "n": 0,
       "ncols": null,
       "nrows": 62,
       "postfix": null,
       "prefix": "",
       "rate": null,
       "total": 2800,
       "unit": "it",
       "unit_divisor": 1000,
       "unit_scale": false
      },
      "application/vnd.jupyter.widget-view+json": {
       "model_id": "57f0213952834717826dde54119cb2b0",
       "version_major": 2,
       "version_minor": 0
      },
      "text/plain": [
       "  0%|          | 0/2800 [00:00<?, ?it/s]"
      ]
     },
     "metadata": {},
     "output_type": "display_data"
    },
    {
     "data": {
      "application/json": {
       "ascii": false,
       "bar_format": null,
       "colour": null,
       "elapsed": 0.006080150604248047,
       "initial": 0,
       "n": 0,
       "ncols": null,
       "nrows": 62,
       "postfix": null,
       "prefix": "",
       "rate": null,
       "total": 1000,
       "unit": "it",
       "unit_divisor": 1000,
       "unit_scale": false
      },
      "application/vnd.jupyter.widget-view+json": {
       "model_id": "",
       "version_major": 2,
       "version_minor": 0
      },
      "text/plain": [
       "  0%|          | 0/1000 [00:00<?, ?it/s]"
      ]
     },
     "metadata": {},
     "output_type": "display_data"
    },
    {
     "name": "stdout",
     "output_type": "stream",
     "text": [
      "[1000:208] Found new best fairness of 0.397468\n",
      "[1000:229] Found new best fairness of 0.126051\n",
      "[1000:296] Found new best fairness of 0.110976\n",
      "[1000:321] Found new best fairness of 0.097999\n",
      "[1000:334] Found new best fairness of 0.041356\n",
      "[1000:366] Found new best fairness of 0.041037\n",
      "[1000:518] Found new best fairness of 0.017217\n",
      "[1000:554] Found new best fairness of 0.006975\n",
      "[1000:648] Found new best fairness of 0.003381\n"
     ]
    },
    {
     "data": {
      "application/json": {
       "ascii": false,
       "bar_format": null,
       "colour": null,
       "elapsed": 0.007140159606933594,
       "initial": 0,
       "n": 0,
       "ncols": null,
       "nrows": 62,
       "postfix": null,
       "prefix": "",
       "rate": null,
       "total": 1000,
       "unit": "it",
       "unit_divisor": 1000,
       "unit_scale": false
      },
      "application/vnd.jupyter.widget-view+json": {
       "model_id": "",
       "version_major": 2,
       "version_minor": 0
      },
      "text/plain": [
       "  0%|          | 0/1000 [00:00<?, ?it/s]"
      ]
     },
     "metadata": {},
     "output_type": "display_data"
    },
    {
     "data": {
      "application/json": {
       "ascii": false,
       "bar_format": null,
       "colour": null,
       "elapsed": 0.006353616714477539,
       "initial": 0,
       "n": 0,
       "ncols": null,
       "nrows": 62,
       "postfix": null,
       "prefix": "",
       "rate": null,
       "total": 1000,
       "unit": "it",
       "unit_divisor": 1000,
       "unit_scale": false
      },
      "application/vnd.jupyter.widget-view+json": {
       "model_id": "",
       "version_major": 2,
       "version_minor": 0
      },
      "text/plain": [
       "  0%|          | 0/1000 [00:00<?, ?it/s]"
      ]
     },
     "metadata": {},
     "output_type": "display_data"
    },
    {
     "data": {
      "application/json": {
       "ascii": false,
       "bar_format": null,
       "colour": null,
       "elapsed": 0.008898496627807617,
       "initial": 0,
       "n": 0,
       "ncols": null,
       "nrows": 62,
       "postfix": null,
       "prefix": "",
       "rate": null,
       "total": 1000,
       "unit": "it",
       "unit_divisor": 1000,
       "unit_scale": false
      },
      "application/vnd.jupyter.widget-view+json": {
       "model_id": "",
       "version_major": 2,
       "version_minor": 0
      },
      "text/plain": [
       "  0%|          | 0/1000 [00:00<?, ?it/s]"
      ]
     },
     "metadata": {},
     "output_type": "display_data"
    },
    {
     "data": {
      "application/json": {
       "ascii": false,
       "bar_format": null,
       "colour": null,
       "elapsed": 0.0065538883209228516,
       "initial": 0,
       "n": 0,
       "ncols": null,
       "nrows": 62,
       "postfix": null,
       "prefix": "",
       "rate": null,
       "total": 1000,
       "unit": "it",
       "unit_divisor": 1000,
       "unit_scale": false
      },
      "application/vnd.jupyter.widget-view+json": {
       "model_id": "",
       "version_major": 2,
       "version_minor": 0
      },
      "text/plain": [
       "  0%|          | 0/1000 [00:00<?, ?it/s]"
      ]
     },
     "metadata": {},
     "output_type": "display_data"
    },
    {
     "data": {
      "application/json": {
       "ascii": false,
       "bar_format": null,
       "colour": null,
       "elapsed": 0.006765842437744141,
       "initial": 0,
       "n": 0,
       "ncols": null,
       "nrows": 62,
       "postfix": null,
       "prefix": "",
       "rate": null,
       "total": 1000,
       "unit": "it",
       "unit_divisor": 1000,
       "unit_scale": false
      },
      "application/vnd.jupyter.widget-view+json": {
       "model_id": "",
       "version_major": 2,
       "version_minor": 0
      },
      "text/plain": [
       "  0%|          | 0/1000 [00:00<?, ?it/s]"
      ]
     },
     "metadata": {},
     "output_type": "display_data"
    },
    {
     "data": {
      "application/json": {
       "ascii": false,
       "bar_format": null,
       "colour": null,
       "elapsed": 0.00697779655456543,
       "initial": 0,
       "n": 0,
       "ncols": null,
       "nrows": 62,
       "postfix": null,
       "prefix": "",
       "rate": null,
       "total": 1000,
       "unit": "it",
       "unit_divisor": 1000,
       "unit_scale": false
      },
      "application/vnd.jupyter.widget-view+json": {
       "model_id": "",
       "version_major": 2,
       "version_minor": 0
      },
      "text/plain": [
       "  0%|          | 0/1000 [00:00<?, ?it/s]"
      ]
     },
     "metadata": {},
     "output_type": "display_data"
    },
    {
     "data": {
      "application/json": {
       "ascii": false,
       "bar_format": null,
       "colour": null,
       "elapsed": 0.006760358810424805,
       "initial": 0,
       "n": 0,
       "ncols": null,
       "nrows": 62,
       "postfix": null,
       "prefix": "",
       "rate": null,
       "total": 1000,
       "unit": "it",
       "unit_divisor": 1000,
       "unit_scale": false
      },
      "application/vnd.jupyter.widget-view+json": {
       "model_id": "",
       "version_major": 2,
       "version_minor": 0
      },
      "text/plain": [
       "  0%|          | 0/1000 [00:00<?, ?it/s]"
      ]
     },
     "metadata": {},
     "output_type": "display_data"
    },
    {
     "name": "stdout",
     "output_type": "stream",
     "text": [
      "[2400:688] Found new best fairness of 0.002983\n"
     ]
    },
    {
     "data": {
      "application/json": {
       "ascii": false,
       "bar_format": null,
       "colour": null,
       "elapsed": 0.007889032363891602,
       "initial": 0,
       "n": 0,
       "ncols": null,
       "nrows": 62,
       "postfix": null,
       "prefix": "",
       "rate": null,
       "total": 1000,
       "unit": "it",
       "unit_divisor": 1000,
       "unit_scale": false
      },
      "application/vnd.jupyter.widget-view+json": {
       "model_id": "",
       "version_major": 2,
       "version_minor": 0
      },
      "text/plain": [
       "  0%|          | 0/1000 [00:00<?, ?it/s]"
      ]
     },
     "metadata": {},
     "output_type": "display_data"
    },
    {
     "data": {
      "application/json": {
       "ascii": false,
       "bar_format": null,
       "colour": null,
       "elapsed": 0.0066983699798583984,
       "initial": 0,
       "n": 0,
       "ncols": null,
       "nrows": 62,
       "postfix": null,
       "prefix": "",
       "rate": null,
       "total": 1000,
       "unit": "it",
       "unit_divisor": 1000,
       "unit_scale": false
      },
      "application/vnd.jupyter.widget-view+json": {
       "model_id": "",
       "version_major": 2,
       "version_minor": 0
      },
      "text/plain": [
       "  0%|          | 0/1000 [00:00<?, ?it/s]"
      ]
     },
     "metadata": {},
     "output_type": "display_data"
    },
    {
     "name": "stdout",
     "output_type": "stream",
     "text": [
      "Finished training!\n",
      "Best epoch: 2400\n",
      "\n",
      "Best fair model:\n",
      "\tacc: 0.6526\n",
      "\troc: 0.7205\n",
      "\tparity: 0.0010\n",
      "\tequality: 0.0019\n",
      "\tconsistency: 0.0264\n",
      "\n",
      "Best acc model:\n",
      "\tacc: 0.7277\n",
      "\troc: 0.7614\n",
      "\tparity: 0.1119\n",
      "\tequality: 0.2084\n",
      "\n",
      "Best auc model:\n",
      "\tacc: 0.5915\n",
      "\troc: 0.7854\n",
      "\tparity: 0.0428\n",
      "\tequality: 0.0993\n"
     ]
    }
   ],
   "source": [
    "for (seed, log_dir, device, params) in experiment.runs():\n",
    "    print(\"===========================\")\n",
    "    print(f\"Running {experiment.experiment_name} using seed {seed}\")\n",
    "    print(f\"Log directory: {log_dir}\")\n",
    "    print(f\"Params: {params}\")\n",
    "    print(\"===========================\")\n",
    "    \n",
    "    # Create FairAC model\n",
    "    fair_ac = FairAC(\n",
    "        feature_dim=dataset.features.shape[1],\n",
    "        transformed_feature_dim=128,\n",
    "        emb_dim=dataset.embeddings.shape[1],\n",
    "        attn_vec_dim=128,\n",
    "        attn_num_heads=1,\n",
    "        dropout=0.5,\n",
    "        num_sensitive_classes=1,\n",
    "    ).to(experiment.device)\n",
    "    print(f\"Created FairAC model with {1} sensitive class\")\n",
    "        \n",
    "    # Create FairAC trainer\n",
    "    trainer = Trainer(\n",
    "        ac_model=fair_ac,\n",
    "        lambda1=params[\"lambda1\"],\n",
    "        lambda2=params[\"lambda2\"],\n",
    "        dataset=dataset,\n",
    "        device=experiment.device,\n",
    "        gnn_config=gnn_config,\n",
    "        log_dir=log_dir,\n",
    "        min_acc=0.65,\n",
    "        min_roc=0.69,\n",
    "    )\n",
    "    print(f\"Created trainer with {'GCN'} model, using log_dir: {log_dir}\")\n",
    "\n",
    "    print(\"Starting pre-training phase\")\n",
    "    # Run pre-training\n",
    "    trainer.pretrain(epochs=200)\n",
    "    print(\"Finished pretraining\")\n",
    "    \n",
    "    # Main training loop, with GNN validation\n",
    "    print(\"Starting main training...\")\n",
    "    trainer.train(val_start_epoch=800, val_epoch_interval=200, epochs=2800)\n"
   ]
  }
 ],
 "metadata": {
  "kernelspec": {
   "display_name": "Python 3 (ipykernel)",
   "language": "python",
   "name": "python3"
  },
  "language_info": {
   "codemirror_mode": {
    "name": "ipython",
    "version": 3
   },
   "file_extension": ".py",
   "mimetype": "text/x-python",
   "name": "python",
   "nbconvert_exporter": "python",
   "pygments_lexer": "ipython3",
   "version": "3.8.13"
  }
 },
 "nbformat": 4,
 "nbformat_minor": 5
}
