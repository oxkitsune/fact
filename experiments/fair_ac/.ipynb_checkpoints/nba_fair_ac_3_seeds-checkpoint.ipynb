{
 "cells": [
  {
   "cell_type": "code",
   "execution_count": 1,
   "id": "bb0081b1-96b6-4e7c-8897-c169c2bee04a",
   "metadata": {},
   "outputs": [],
   "source": [
    "import sys\n",
    "import os\n",
    "import torch\n",
    "sys.path.append(os.path.abspath(\"../\"))\n",
    "from base_experiment import ExperimentRunner"
   ]
  },
  {
   "cell_type": "code",
   "execution_count": 2,
   "id": "b42a14e5-a87c-4765-9535-fe27a6c286c7",
   "metadata": {},
   "outputs": [],
   "source": [
    "experiment = ExperimentRunner(\n",
    "    experiment_name = \"nba_fair_ac_main\",\n",
    "    seeds = [40, 41, 42],\n",
    "    data_path = \"dataset/NBA\",\n",
    "    log_dir=\"experiments/fair_ac/logs/nba\", \n",
    "    device=2,\n",
    "    params=[{\"lambda1\": 1.0, \"lambda2\": 1.0}]\n",
    ")\n",
    "\n",
    "# after we set up the experiment, we can import the rest\n",
    "from dataset import NBA\n",
    "from models.ac import FairAC, Trainer"
   ]
  },
  {
   "cell_type": "code",
   "execution_count": 3,
   "id": "45424210-ce9a-43dd-9c8a-0f2c09a04f06",
   "metadata": {},
   "outputs": [
    {
     "name": "stdout",
     "output_type": "stream",
     "text": [
      "Loaded dataset with 403 nodes and 21645 edges\n",
      "Using feat_drop_rate: 0.3\n"
     ]
    }
   ],
   "source": [
    "# Load in the dataset\n",
    "dataset = NBA(\n",
    "    nodes_path=experiment.data_path / \"nba.csv\",\n",
    "    edges_path=experiment.data_path / \"nba_relationship.txt\",\n",
    "    embedding_path=experiment.data_path / \"nba_embedding10.npy\",\n",
    "    feat_drop_rate=0.3,\n",
    "    device=experiment.device\n",
    ")\n",
    "\n",
    "print(f\"Loaded dataset with {dataset.graph.num_nodes()} nodes and {dataset.graph.num_edges()} edges\")\n",
    "print(f\"Using feat_drop_rate: {dataset.feat_drop_rate}\")"
   ]
  },
  {
   "cell_type": "code",
   "execution_count": null,
   "id": "13ac7751-fc8f-438c-a28e-05b124ab1c42",
   "metadata": {},
   "outputs": [
    {
     "name": "stdout",
     "output_type": "stream",
     "text": [
      "===========================\n",
      "Running nba_fair_ac_main using seed 40\n",
      "Log directory: /home/fact21/fact_refactor/experiments/fair_ac/logs/nba/nba_fair_ac_main_40_lambda1_1.0_lambda2_1.0\n",
      "Params: {'lambda1': 1.0, 'lambda2': 1.0}\n",
      "===========================\n",
      "Created FairAC model with 1 sensitive class\n",
      "Created trainer with GCN model, using log_dir: /home/fact21/fact_refactor/experiments/fair_ac/logs/nba/nba_fair_ac_main_40_lambda1_1.0_lambda2_1.0\n",
      "Starting pre-training phase\n"
     ]
    },
    {
     "data": {
      "application/json": {
       "ascii": false,
       "bar_format": null,
       "colour": null,
       "elapsed": 0.00827336311340332,
       "initial": 0,
       "n": 0,
       "ncols": null,
       "nrows": 66,
       "postfix": null,
       "prefix": "",
       "rate": null,
       "total": 200,
       "unit": "it",
       "unit_divisor": 1000,
       "unit_scale": false
      },
      "application/vnd.jupyter.widget-view+json": {
       "model_id": "1c94462c62ce4d18a48ac0d0c6d6390b",
       "version_major": 2,
       "version_minor": 0
      },
      "text/plain": [
       "  0%|          | 0/200 [00:00<?, ?it/s]"
      ]
     },
     "metadata": {},
     "output_type": "display_data"
    },
    {
     "name": "stdout",
     "output_type": "stream",
     "text": [
      "Finished pretraining\n",
      "Starting main training...\n"
     ]
    },
    {
     "data": {
      "application/json": {
       "ascii": false,
       "bar_format": null,
       "colour": null,
       "elapsed": 0.005322694778442383,
       "initial": 0,
       "n": 0,
       "ncols": null,
       "nrows": 66,
       "postfix": null,
       "prefix": "",
       "rate": null,
       "total": 2800,
       "unit": "it",
       "unit_divisor": 1000,
       "unit_scale": false
      },
      "application/vnd.jupyter.widget-view+json": {
       "model_id": "eab211b999bf452f81d612c47ef9f403",
       "version_major": 2,
       "version_minor": 0
      },
      "text/plain": [
       "  0%|          | 0/2800 [00:00<?, ?it/s]"
      ]
     },
     "metadata": {},
     "output_type": "display_data"
    },
    {
     "data": {
      "application/json": {
       "ascii": false,
       "bar_format": null,
       "colour": null,
       "elapsed": 0.0061719417572021484,
       "initial": 0,
       "n": 0,
       "ncols": null,
       "nrows": 66,
       "postfix": null,
       "prefix": "",
       "rate": null,
       "total": 1000,
       "unit": "it",
       "unit_divisor": 1000,
       "unit_scale": false
      },
      "application/vnd.jupyter.widget-view+json": {
       "model_id": "",
       "version_major": 2,
       "version_minor": 0
      },
      "text/plain": [
       "  0%|          | 0/1000 [00:00<?, ?it/s]"
      ]
     },
     "metadata": {},
     "output_type": "display_data"
    },
    {
     "data": {
      "application/json": {
       "ascii": false,
       "bar_format": null,
       "colour": null,
       "elapsed": 0.01574850082397461,
       "initial": 0,
       "n": 0,
       "ncols": null,
       "nrows": 66,
       "postfix": null,
       "prefix": "",
       "rate": null,
       "total": 1000,
       "unit": "it",
       "unit_divisor": 1000,
       "unit_scale": false
      },
      "application/vnd.jupyter.widget-view+json": {
       "model_id": "",
       "version_major": 2,
       "version_minor": 0
      },
      "text/plain": [
       "  0%|          | 0/1000 [00:00<?, ?it/s]"
      ]
     },
     "metadata": {},
     "output_type": "display_data"
    },
    {
     "data": {
      "application/json": {
       "ascii": false,
       "bar_format": null,
       "colour": null,
       "elapsed": 0.007334232330322266,
       "initial": 0,
       "n": 0,
       "ncols": null,
       "nrows": 66,
       "postfix": null,
       "prefix": "",
       "rate": null,
       "total": 1000,
       "unit": "it",
       "unit_divisor": 1000,
       "unit_scale": false
      },
      "application/vnd.jupyter.widget-view+json": {
       "model_id": "",
       "version_major": 2,
       "version_minor": 0
      },
      "text/plain": [
       "  0%|          | 0/1000 [00:00<?, ?it/s]"
      ]
     },
     "metadata": {},
     "output_type": "display_data"
    },
    {
     "data": {
      "application/json": {
       "ascii": false,
       "bar_format": null,
       "colour": null,
       "elapsed": 0.006363630294799805,
       "initial": 0,
       "n": 0,
       "ncols": null,
       "nrows": 66,
       "postfix": null,
       "prefix": "",
       "rate": null,
       "total": 1000,
       "unit": "it",
       "unit_divisor": 1000,
       "unit_scale": false
      },
      "application/vnd.jupyter.widget-view+json": {
       "model_id": "",
       "version_major": 2,
       "version_minor": 0
      },
      "text/plain": [
       "  0%|          | 0/1000 [00:00<?, ?it/s]"
      ]
     },
     "metadata": {},
     "output_type": "display_data"
    },
    {
     "data": {
      "application/json": {
       "ascii": false,
       "bar_format": null,
       "colour": null,
       "elapsed": 0.007573843002319336,
       "initial": 0,
       "n": 0,
       "ncols": null,
       "nrows": 66,
       "postfix": null,
       "prefix": "",
       "rate": null,
       "total": 1000,
       "unit": "it",
       "unit_divisor": 1000,
       "unit_scale": false
      },
      "application/vnd.jupyter.widget-view+json": {
       "model_id": "",
       "version_major": 2,
       "version_minor": 0
      },
      "text/plain": [
       "  0%|          | 0/1000 [00:00<?, ?it/s]"
      ]
     },
     "metadata": {},
     "output_type": "display_data"
    },
    {
     "data": {
      "application/json": {
       "ascii": false,
       "bar_format": null,
       "colour": null,
       "elapsed": 0.008590459823608398,
       "initial": 0,
       "n": 0,
       "ncols": null,
       "nrows": 66,
       "postfix": null,
       "prefix": "",
       "rate": null,
       "total": 1000,
       "unit": "it",
       "unit_divisor": 1000,
       "unit_scale": false
      },
      "application/vnd.jupyter.widget-view+json": {
       "model_id": "",
       "version_major": 2,
       "version_minor": 0
      },
      "text/plain": [
       "  0%|          | 0/1000 [00:00<?, ?it/s]"
      ]
     },
     "metadata": {},
     "output_type": "display_data"
    },
    {
     "data": {
      "application/json": {
       "ascii": false,
       "bar_format": null,
       "colour": null,
       "elapsed": 0.007148027420043945,
       "initial": 0,
       "n": 0,
       "ncols": null,
       "nrows": 66,
       "postfix": null,
       "prefix": "",
       "rate": null,
       "total": 1000,
       "unit": "it",
       "unit_divisor": 1000,
       "unit_scale": false
      },
      "application/vnd.jupyter.widget-view+json": {
       "model_id": "",
       "version_major": 2,
       "version_minor": 0
      },
      "text/plain": [
       "  0%|          | 0/1000 [00:00<?, ?it/s]"
      ]
     },
     "metadata": {},
     "output_type": "display_data"
    },
    {
     "data": {
      "application/json": {
       "ascii": false,
       "bar_format": null,
       "colour": null,
       "elapsed": 0.0071299076080322266,
       "initial": 0,
       "n": 0,
       "ncols": null,
       "nrows": 66,
       "postfix": null,
       "prefix": "",
       "rate": null,
       "total": 1000,
       "unit": "it",
       "unit_divisor": 1000,
       "unit_scale": false
      },
      "application/vnd.jupyter.widget-view+json": {
       "model_id": "",
       "version_major": 2,
       "version_minor": 0
      },
      "text/plain": [
       "  0%|          | 0/1000 [00:00<?, ?it/s]"
      ]
     },
     "metadata": {},
     "output_type": "display_data"
    },
    {
     "data": {
      "application/json": {
       "ascii": false,
       "bar_format": null,
       "colour": null,
       "elapsed": 0.0074803829193115234,
       "initial": 0,
       "n": 0,
       "ncols": null,
       "nrows": 66,
       "postfix": null,
       "prefix": "",
       "rate": null,
       "total": 1000,
       "unit": "it",
       "unit_divisor": 1000,
       "unit_scale": false
      },
      "application/vnd.jupyter.widget-view+json": {
       "model_id": "47951095fbed4364ae09d3b16555513b",
       "version_major": 2,
       "version_minor": 0
      },
      "text/plain": [
       "  0%|          | 0/1000 [00:00<?, ?it/s]"
      ]
     },
     "metadata": {},
     "output_type": "display_data"
    }
   ],
   "source": [
    "for (seed, log_dir, device, params) in experiment.runs():\n",
    "    print(\"===========================\")\n",
    "    print(f\"Running {experiment.experiment_name} using seed {seed}\")\n",
    "    print(f\"Log directory: {log_dir}\")\n",
    "    print(f\"Params: {params}\")\n",
    "    print(\"===========================\")\n",
    "    \n",
    "    # Create FairAC model\n",
    "    fair_ac = FairAC(\n",
    "        feature_dim=dataset.features.shape[1],\n",
    "        transformed_feature_dim=128,\n",
    "        emb_dim=dataset.embeddings.shape[1],\n",
    "        attn_vec_dim=128,\n",
    "        attn_num_heads=1,\n",
    "        dropout=0.5,\n",
    "        num_sensitive_classes=1,\n",
    "    ).to(experiment.device)\n",
    "    print(f\"Created FairAC model with {1} sensitive class\")\n",
    "        \n",
    "    # Create FairAC trainer\n",
    "    trainer = Trainer(\n",
    "        ac_model=fair_ac,\n",
    "        lambda1=params[\"lambda1\"],\n",
    "        lambda2=params[\"lambda2\"],\n",
    "        dataset=dataset,\n",
    "        device=experiment.device,\n",
    "        gnn_kind=\"GCN\",\n",
    "        gnn_hidden_dim=128,\n",
    "        gnn_lr=1e-3,\n",
    "        gnn_weight_decay=1e-5,\n",
    "        gnn_args={\"dropout\": 0.5},\n",
    "        log_dir=log_dir,\n",
    "        min_acc=0.65,\n",
    "        min_roc=0.69,\n",
    "    )\n",
    "    print(f\"Created trainer with {'GCN'} model, using log_dir: {log_dir}\")\n",
    "\n",
    "    print(\"Starting pre-training phase\")\n",
    "    # Run pre-training\n",
    "    trainer.pretrain(epochs=200)\n",
    "    print(\"Finished pretraining\")\n",
    "    \n",
    "    # Main training loop, with GNN validation\n",
    "    print(\"Starting main training...\")\n",
    "    trainer.train(val_start_epoch=800, val_epoch_interval=200, epochs=2800)\n"
   ]
  }
 ],
 "metadata": {
  "kernelspec": {
   "display_name": "Python 3 (ipykernel)",
   "language": "python",
   "name": "python3"
  },
  "language_info": {
   "codemirror_mode": {
    "name": "ipython",
    "version": 3
   },
   "file_extension": ".py",
   "mimetype": "text/x-python",
   "name": "python",
   "nbconvert_exporter": "python",
   "pygments_lexer": "ipython3",
   "version": "3.8.13"
  }
 },
 "nbformat": 4,
 "nbformat_minor": 5
}
