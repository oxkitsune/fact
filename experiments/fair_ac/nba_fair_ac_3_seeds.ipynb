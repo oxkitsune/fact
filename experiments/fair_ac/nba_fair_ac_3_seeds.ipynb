{
 "cells": [
  {
   "cell_type": "markdown",
   "id": "e2a7e471",
   "metadata": {},
   "source": [
    "## FairAC Experiments on the NBA dataset\n",
    "This notebook can be used to run FairAC experiments on the NBA dataset.\n",
    "\n",
    "It is currently configured to run a full training run on three different seeds."
   ]
  },
  {
   "cell_type": "code",
   "execution_count": null,
   "id": "bb0081b1-96b6-4e7c-8897-c169c2bee04a",
   "metadata": {},
   "outputs": [],
   "source": [
    "# Here add the imports for our experiment runner\n",
    "import sys\n",
    "import os\n",
    "import torch\n",
    "sys.path.append(os.path.abspath(\"../\"))\n",
    "from base_experiment import ExperimentRunner"
   ]
  },
  {
   "cell_type": "markdown",
   "id": "4d1e9788",
   "metadata": {},
   "source": [
    "### Set up the experiment runner\n",
    "First we create an experiment runner, which is used to set the random seeds and provide params/logging directories to the different runs."
   ]
  },
  {
   "cell_type": "code",
   "execution_count": null,
   "id": "b42a14e5-a87c-4765-9535-fe27a6c286c7",
   "metadata": {},
   "outputs": [],
   "source": [
    "# Set up the experiment runner with the all the seeds and params we want\n",
    "experiment = ExperimentRunner(\n",
    "    experiment_name = \"nba_fair_ac_main\",\n",
    "    seeds = [40, 41, 42],\n",
    "    data_path = \"dataset/NBA\",\n",
    "    log_dir=\"experiments/fair_ac/logs/nba\", \n",
    "    device=2,\n",
    "    params=[{\"lambda1\": 1.0, \"lambda2\": 1.0}]\n",
    ")\n",
    "\n",
    "# After we set up the experiment, we can import the rest\n",
    "from dataset import NBA\n",
    "from models.gnn import WrappedGNNConfig\n",
    "from models.fair.ac import FairAC, Trainer"
   ]
  },
  {
   "cell_type": "markdown",
   "id": "4a311b7c",
   "metadata": {},
   "source": [
    "FairAC wraps a GNN with a sensitive classifier for the downstream task, so we configure the GNN + sensitive classifier combo for the downstream task\n"
   ]
  },
  {
   "cell_type": "code",
   "execution_count": null,
   "id": "db9a8ab6-c0da-43fd-885b-4a14e14ab392",
   "metadata": {},
   "outputs": [],
   "source": [
    "gnn_config = WrappedGNNConfig(\n",
    "    hidden_dim=128,\n",
    "    kind=\"GCN\",\n",
    "    lr=1e-3,\n",
    "    weight_decay=1e-5,\n",
    "    kwargs={\"dropout\": 0.5},\n",
    ")"
   ]
  },
  {
   "cell_type": "markdown",
   "id": "b96a4edc",
   "metadata": {},
   "source": [
    "### Run the experiments\n",
    "Now we're ready to run the experiments!\n",
    "\n",
    "We can do this by iterating of the `ExperimentRunner.runs()` method. This method returns a generator that yields the seed, logging directory, device and the params for the current experiment run.\n",
    "\n",
    "\n",
    "For each experiment run we first:\n",
    "1. Load in the dataset\n",
    "2. Create the FairAC model instance\n",
    "3. Create the FairAC trainer\n",
    "\n",
    "\n",
    "Once everything is initiliased, we can run the pretraining using `Trainer.pretrain()`. This trains the AE and sensitivity classifier.\n",
    "\n",
    "Then we run the main training loop, this trains the full FairAC model for the remaining epochs."
   ]
  },
  {
   "cell_type": "code",
   "execution_count": null,
   "id": "13ac7751-fc8f-438c-a28e-05b124ab1c42",
   "metadata": {
    "editable": true,
    "slideshow": {
     "slide_type": ""
    },
    "tags": []
   },
   "outputs": [],
   "source": [
    "for (seed, log_dir, device, params) in experiment.runs():\n",
    "    print(\"===========================\")\n",
    "    print(f\"Running {experiment.experiment_name} using seed {seed}\")\n",
    "    print(f\"Log directory: {log_dir}\")\n",
    "    print(f\"Params: {params}\")\n",
    "    print(\"===========================\")\n",
    "    \n",
    "    # Load in the dataset\n",
    "    dataset = NBA(\n",
    "        nodes_path=experiment.data_path / \"nba.csv\",\n",
    "        edges_path=experiment.data_path / \"nba_relationship.txt\",\n",
    "        embedding_path=experiment.data_path / \"nba_embedding10.npy\",\n",
    "        feat_drop_rate=0.3,\n",
    "        device=experiment.device\n",
    "    )\n",
    "\n",
    "    print(f\"Loaded dataset with {dataset.graph.num_nodes()} nodes and {dataset.graph.num_edges()} edges\")\n",
    "    print(f\"Using feat_drop_rate: {dataset.feat_drop_rate}\")\n",
    "\n",
    "    # Create FairAC model\n",
    "    fair_ac = FairAC(\n",
    "        feature_dim=dataset.features.shape[1],\n",
    "        transformed_feature_dim=128,\n",
    "        emb_dim=dataset.embeddings.shape[1],\n",
    "        attn_vec_dim=128,\n",
    "        attn_num_heads=1,\n",
    "        dropout=0.5,\n",
    "        num_sensitive_classes=1,\n",
    "    ).to(experiment.device)\n",
    "    print(f\"Created FairAC model with {1} sensitive class\")\n",
    "        \n",
    "    # Create FairAC trainer\n",
    "    trainer = Trainer(\n",
    "        ac_model=fair_ac,\n",
    "        lambda1=params[\"lambda1\"],\n",
    "        lambda2=params[\"lambda2\"],\n",
    "        dataset=dataset,\n",
    "        device=experiment.device,\n",
    "        gnn_config=gnn_config,\n",
    "        log_dir=log_dir,\n",
    "        min_acc=0.65,\n",
    "        min_roc=0.69,\n",
    "    )\n",
    "    print(f\"Created trainer with {'GCN'} model, using log_dir: {log_dir}\")\n",
    "\n",
    "    print(\"Starting pre-training phase\")\n",
    "    # Run pre-training\n",
    "    trainer.pretrain(epochs=200)\n",
    "    print(\"Finished pretraining\")\n",
    "    \n",
    "    # Main training loop, with GNN validation\n",
    "    print(\"Starting main training...\")\n",
    "    trainer.train(val_start_epoch=800, val_epoch_interval=200, epochs=2800)\n"
   ]
  }
 ],
 "metadata": {
  "kernelspec": {
   "display_name": "Python 3 (ipykernel)",
   "language": "python",
   "name": "python3"
  },
  "language_info": {
   "codemirror_mode": {
    "name": "ipython",
    "version": 3
   },
   "file_extension": ".py",
   "mimetype": "text/x-python",
   "name": "python",
   "nbconvert_exporter": "python",
   "pygments_lexer": "ipython3",
   "version": "3.8.13"
  }
 },
 "nbformat": 4,
 "nbformat_minor": 5
}
