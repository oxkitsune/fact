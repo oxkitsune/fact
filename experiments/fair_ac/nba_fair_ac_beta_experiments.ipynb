{
 "cells": [
  {
   "cell_type": "code",
   "execution_count": 1,
   "id": "bb0081b1-96b6-4e7c-8897-c169c2bee04a",
   "metadata": {},
   "outputs": [],
   "source": [
    "import sys\n",
    "import os\n",
    "import torch\n",
    "sys.path.append(os.path.abspath(\"../\"))\n",
    "from base_experiment import ExperimentRunner"
   ]
  },
  {
   "cell_type": "code",
   "execution_count": 2,
   "id": "b42a14e5-a87c-4765-9535-fe27a6c286c7",
   "metadata": {},
   "outputs": [],
   "source": [
    "# Set up the experiment runner with the all the seeds and params we want\n",
    "experiment = ExperimentRunner(\n",
    "    experiment_name = \"nba_fair_ac_betas\",\n",
    "    seeds = [40, 41, 42],\n",
    "    data_path = \"dataset/NBA\",\n",
    "    log_dir=\"experiments/fair_ac/logs/nba\", \n",
    "    device=2,\n",
    "    params=[{\"lambda2\": 0.0}, {\"lambda2\": 0.2}, {\"lambda2\": 0.4}, {\"lambda2\": 0.7}, {\"lambda2\": 0.8}]\n",
    ")\n",
    "\n",
    "# After we set up the experiment, we can import the rest\n",
    "from dataset import NBA\n",
    "from models.gnn import WrappedGNNConfig\n",
    "from models.fair.ac import FairAC, Trainer"
   ]
  },
  {
   "cell_type": "code",
   "execution_count": 3,
   "id": "45424210-ce9a-43dd-9c8a-0f2c09a04f06",
   "metadata": {},
   "outputs": [
    {
     "name": "stdout",
     "output_type": "stream",
     "text": [
      "Loaded dataset with 403 nodes and 21645 edges\n",
      "Using feat_drop_rate: 0.3\n"
     ]
    }
   ],
   "source": [
    "# Load in the dataset\n",
    "dataset = NBA(\n",
    "    nodes_path=experiment.data_path / \"nba.csv\",\n",
    "    edges_path=experiment.data_path / \"nba_relationship.txt\",\n",
    "    embedding_path=experiment.data_path / \"nba_embedding10.npy\",\n",
    "    feat_drop_rate=0.3,\n",
    "    device=experiment.device\n",
    ")\n",
    "\n",
    "print(f\"Loaded dataset with {dataset.graph.num_nodes()} nodes and {dataset.graph.num_edges()} edges\")\n",
    "print(f\"Using feat_drop_rate: {dataset.feat_drop_rate}\")"
   ]
  },
  {
   "cell_type": "code",
   "execution_count": 4,
   "id": "db9a8ab6-c0da-43fd-885b-4a14e14ab392",
   "metadata": {},
   "outputs": [],
   "source": [
    "# We configure the GNN + sensitive classifier combo for the downstream task\n",
    "gnn_config = WrappedGNNConfig(\n",
    "    hidden_dim=128,\n",
    "    kind=\"GCN\",\n",
    "    lr=1e-3,\n",
    "    weight_decay=1e-5,\n",
    "    kwargs={\"dropout\": 0.5},\n",
    ")"
   ]
  },
  {
   "cell_type": "code",
   "execution_count": 5,
   "id": "13ac7751-fc8f-438c-a28e-05b124ab1c42",
   "metadata": {},
   "outputs": [
    {
     "name": "stdout",
     "output_type": "stream",
     "text": [
      "===========================\n",
      "Running nba_fair_ac_betas using seed 40\n",
      "Log directory: /home/fact21/fact_refactor/experiments/fair_ac/logs/nba/nba_fair_ac_betas_40_lambda2_0.0\n",
      "Params: {'lambda2': 0.0}\n",
      "===========================\n",
      "Created FairAC model with 1 sensitive class\n",
      "Created trainer with GCN model, using log_dir: /home/fact21/fact_refactor/experiments/fair_ac/logs/nba/nba_fair_ac_betas_40_lambda2_0.0\n",
      "Starting pre-training phase\n"
     ]
    },
    {
     "data": {
      "application/json": {
       "ascii": false,
       "bar_format": null,
       "colour": null,
       "elapsed": 0.009827852249145508,
       "initial": 0,
       "n": 0,
       "ncols": null,
       "nrows": null,
       "postfix": null,
       "prefix": "",
       "rate": null,
       "total": 200,
       "unit": "it",
       "unit_divisor": 1000,
       "unit_scale": false
      },
      "application/vnd.jupyter.widget-view+json": {
       "model_id": "745f6f9935cb4fa9a34fea4da919d931",
       "version_major": 2,
       "version_minor": 0
      },
      "text/plain": [
       "  0%|          | 0/200 [00:00<?, ?it/s]"
      ]
     },
     "metadata": {},
     "output_type": "display_data"
    },
    {
     "name": "stdout",
     "output_type": "stream",
     "text": [
      "Finished pretraining\n",
      "Starting main training...\n"
     ]
    },
    {
     "data": {
      "application/json": {
       "ascii": false,
       "bar_format": null,
       "colour": null,
       "elapsed": 0.006686687469482422,
       "initial": 0,
       "n": 0,
       "ncols": null,
       "nrows": null,
       "postfix": null,
       "prefix": "",
       "rate": null,
       "total": 2800,
       "unit": "it",
       "unit_divisor": 1000,
       "unit_scale": false
      },
      "application/vnd.jupyter.widget-view+json": {
       "model_id": "8df3f8d8c11549f8b83b294477a5f020",
       "version_major": 2,
       "version_minor": 0
      },
      "text/plain": [
       "  0%|          | 0/2800 [00:00<?, ?it/s]"
      ]
     },
     "metadata": {},
     "output_type": "display_data"
    },
    {
     "data": {
      "application/json": {
       "ascii": false,
       "bar_format": null,
       "colour": null,
       "elapsed": 0.01598381996154785,
       "initial": 0,
       "n": 0,
       "ncols": null,
       "nrows": null,
       "postfix": null,
       "prefix": "",
       "rate": null,
       "total": 1000,
       "unit": "it",
       "unit_divisor": 1000,
       "unit_scale": false
      },
      "application/vnd.jupyter.widget-view+json": {
       "model_id": "cea5903152c1455fbced094d6702862b",
       "version_major": 2,
       "version_minor": 0
      },
      "text/plain": [
       "  0%|          | 0/1000 [00:00<?, ?it/s]"
      ]
     },
     "metadata": {},
     "output_type": "display_data"
    },
    {
     "name": "stdout",
     "output_type": "stream",
     "text": [
      "[1000:114] Found new best fairness of 0.166270\n",
      "[1000:124] Found new best fairness of 0.089881\n",
      "[1000:209] Found new best fairness of 0.046230\n",
      "[1000:216] Found new best fairness of 0.043254\n",
      "[1000:221] Found new best fairness of 0.039286\n",
      "[1000:270] Found new best fairness of 0.030357\n",
      "[1000:387] Found new best fairness of 0.015476\n"
     ]
    },
    {
     "data": {
      "application/json": {
       "ascii": false,
       "bar_format": null,
       "colour": null,
       "elapsed": 0.008585453033447266,
       "initial": 0,
       "n": 0,
       "ncols": null,
       "nrows": null,
       "postfix": null,
       "prefix": "",
       "rate": null,
       "total": 1000,
       "unit": "it",
       "unit_divisor": 1000,
       "unit_scale": false
      },
      "application/vnd.jupyter.widget-view+json": {
       "model_id": "2549ac886e6a41f79f9f04933392aada",
       "version_major": 2,
       "version_minor": 0
      },
      "text/plain": [
       "  0%|          | 0/1000 [00:00<?, ?it/s]"
      ]
     },
     "metadata": {},
     "output_type": "display_data"
    },
    {
     "data": {
      "application/json": {
       "ascii": false,
       "bar_format": null,
       "colour": null,
       "elapsed": 0.007584333419799805,
       "initial": 0,
       "n": 0,
       "ncols": null,
       "nrows": null,
       "postfix": null,
       "prefix": "",
       "rate": null,
       "total": 1000,
       "unit": "it",
       "unit_divisor": 1000,
       "unit_scale": false
      },
      "application/vnd.jupyter.widget-view+json": {
       "model_id": "215e2a6b1ed14157ba5a38ba0e0c51a9",
       "version_major": 2,
       "version_minor": 0
      },
      "text/plain": [
       "  0%|          | 0/1000 [00:00<?, ?it/s]"
      ]
     },
     "metadata": {},
     "output_type": "display_data"
    },
    {
     "data": {
      "application/json": {
       "ascii": false,
       "bar_format": null,
       "colour": null,
       "elapsed": 0.0075147151947021484,
       "initial": 0,
       "n": 0,
       "ncols": null,
       "nrows": null,
       "postfix": null,
       "prefix": "",
       "rate": null,
       "total": 1000,
       "unit": "it",
       "unit_divisor": 1000,
       "unit_scale": false
      },
      "application/vnd.jupyter.widget-view+json": {
       "model_id": "a95f61d4115d46fb8155201d283fd75e",
       "version_major": 2,
       "version_minor": 0
      },
      "text/plain": [
       "  0%|          | 0/1000 [00:00<?, ?it/s]"
      ]
     },
     "metadata": {},
     "output_type": "display_data"
    },
    {
     "name": "stdout",
     "output_type": "stream",
     "text": [
      "[1600:619] Found new best fairness of 0.011508\n"
     ]
    },
    {
     "data": {
      "application/json": {
       "ascii": false,
       "bar_format": null,
       "colour": null,
       "elapsed": 0.007289886474609375,
       "initial": 0,
       "n": 0,
       "ncols": null,
       "nrows": null,
       "postfix": null,
       "prefix": "",
       "rate": null,
       "total": 1000,
       "unit": "it",
       "unit_divisor": 1000,
       "unit_scale": false
      },
      "application/vnd.jupyter.widget-view+json": {
       "model_id": "a356c67e52484ef0a4408554f85661a7",
       "version_major": 2,
       "version_minor": 0
      },
      "text/plain": [
       "  0%|          | 0/1000 [00:00<?, ?it/s]"
      ]
     },
     "metadata": {},
     "output_type": "display_data"
    },
    {
     "data": {
      "application/json": {
       "ascii": false,
       "bar_format": null,
       "colour": null,
       "elapsed": 0.007151126861572266,
       "initial": 0,
       "n": 0,
       "ncols": null,
       "nrows": null,
       "postfix": null,
       "prefix": "",
       "rate": null,
       "total": 1000,
       "unit": "it",
       "unit_divisor": 1000,
       "unit_scale": false
      },
      "application/vnd.jupyter.widget-view+json": {
       "model_id": "4c7173d14a20442684beddb9fba39d2c",
       "version_major": 2,
       "version_minor": 0
      },
      "text/plain": [
       "  0%|          | 0/1000 [00:00<?, ?it/s]"
      ]
     },
     "metadata": {},
     "output_type": "display_data"
    },
    {
     "data": {
      "application/json": {
       "ascii": false,
       "bar_format": null,
       "colour": null,
       "elapsed": 0.007374286651611328,
       "initial": 0,
       "n": 0,
       "ncols": null,
       "nrows": null,
       "postfix": null,
       "prefix": "",
       "rate": null,
       "total": 1000,
       "unit": "it",
       "unit_divisor": 1000,
       "unit_scale": false
      },
      "application/vnd.jupyter.widget-view+json": {
       "model_id": "5000541c08ba4816a9a4a4aefe433ace",
       "version_major": 2,
       "version_minor": 0
      },
      "text/plain": [
       "  0%|          | 0/1000 [00:00<?, ?it/s]"
      ]
     },
     "metadata": {},
     "output_type": "display_data"
    },
    {
     "data": {
      "application/json": {
       "ascii": false,
       "bar_format": null,
       "colour": null,
       "elapsed": 0.007353782653808594,
       "initial": 0,
       "n": 0,
       "ncols": null,
       "nrows": null,
       "postfix": null,
       "prefix": "",
       "rate": null,
       "total": 1000,
       "unit": "it",
       "unit_divisor": 1000,
       "unit_scale": false
      },
      "application/vnd.jupyter.widget-view+json": {
       "model_id": "b3f9c6f81c7c4b54b7e2c74bda81458a",
       "version_major": 2,
       "version_minor": 0
      },
      "text/plain": [
       "  0%|          | 0/1000 [00:00<?, ?it/s]"
      ]
     },
     "metadata": {},
     "output_type": "display_data"
    },
    {
     "data": {
      "application/json": {
       "ascii": false,
       "bar_format": null,
       "colour": null,
       "elapsed": 0.006556272506713867,
       "initial": 0,
       "n": 0,
       "ncols": null,
       "nrows": null,
       "postfix": null,
       "prefix": "",
       "rate": null,
       "total": 1000,
       "unit": "it",
       "unit_divisor": 1000,
       "unit_scale": false
      },
      "application/vnd.jupyter.widget-view+json": {
       "model_id": "70d471c14d73406ab758a24cc05c51e2",
       "version_major": 2,
       "version_minor": 0
      },
      "text/plain": [
       "  0%|          | 0/1000 [00:00<?, ?it/s]"
      ]
     },
     "metadata": {},
     "output_type": "display_data"
    },
    {
     "data": {
      "application/json": {
       "ascii": false,
       "bar_format": null,
       "colour": null,
       "elapsed": 0.007333040237426758,
       "initial": 0,
       "n": 0,
       "ncols": null,
       "nrows": null,
       "postfix": null,
       "prefix": "",
       "rate": null,
       "total": 1000,
       "unit": "it",
       "unit_divisor": 1000,
       "unit_scale": false
      },
      "application/vnd.jupyter.widget-view+json": {
       "model_id": "03e28c18a9194aebbb37db56dbbbdff4",
       "version_major": 2,
       "version_minor": 0
      },
      "text/plain": [
       "  0%|          | 0/1000 [00:00<?, ?it/s]"
      ]
     },
     "metadata": {},
     "output_type": "display_data"
    },
    {
     "name": "stdout",
     "output_type": "stream",
     "text": [
      "Finished training!\n",
      "Best epoch: 1600\n",
      "tensor([-4.5084e+00, -5.4496e+00, -5.1018e+00, -4.0622e+00, -3.3627e+00,\n",
      "        -1.0352e-01, -8.5754e-03, -2.4007e+00,  7.2946e-03, -1.3190e-02,\n",
      "        -6.2627e-02, -3.4270e+00,  4.6676e-02, -3.3636e+00, -9.9383e-02,\n",
      "        -5.8234e+00, -2.8080e+00, -3.9276e+00,  3.1706e-02,  1.0445e-01,\n",
      "        -1.9929e+00, -3.9417e+00, -2.8990e+00, -5.4788e+00,  2.5279e-01,\n",
      "        -4.4226e+00, -2.5767e-02, -3.7504e+00, -3.7660e-01,  1.5567e-01,\n",
      "        -7.1232e-02, -4.3539e+00, -3.6187e+00, -2.9448e+00, -9.0014e-02,\n",
      "        -1.7433e-01, -5.3301e+00, -3.2470e+00,  9.2987e-02, -2.9198e+00,\n",
      "        -3.6018e+00, -4.1742e+00, -8.3004e-02,  8.1850e-02, -3.7001e+00,\n",
      "        -1.3627e-02, -6.7743e-01, -1.0660e-01, -3.3472e+00, -6.7122e-01,\n",
      "        -2.5903e+00,  7.8458e-02, -1.8037e-01,  2.3328e-02, -2.3201e-01,\n",
      "        -3.0722e+00, -3.6241e+00, -1.0837e-01, -3.4835e+00,  9.8400e-02,\n",
      "        -3.5363e+00, -2.3067e-01, -3.5009e+00, -3.5729e+00, -8.5062e-03,\n",
      "         2.1896e-01, -2.8670e+00, -3.8602e+00, -3.4693e+00, -2.3628e+00,\n",
      "        -8.1645e-04, -4.9881e+00, -2.6414e+00, -4.7076e+00, -1.3061e-01,\n",
      "        -6.0101e+00, -4.5627e+00, -4.1149e+00, -9.5568e-02, -4.7453e+00,\n",
      "        -4.9279e+00, -5.4614e+00, -3.3226e+00,  4.3739e-02, -3.0644e+00,\n",
      "        -2.5935e+00, -3.2579e-02, -4.2619e+00, -3.7109e+00, -4.3785e+00,\n",
      "        -1.4280e-01, -1.5731e-01, -3.0054e+00, -2.9572e-01, -4.9271e-03,\n",
      "        -3.3424e+00, -3.0057e+00,  2.5194e-02, -1.7217e+00,  7.5527e-02,\n",
      "        -3.8852e+00, -3.8661e+00, -4.2814e+00, -4.4593e+00, -4.9136e+00,\n",
      "        -2.8994e-02, -4.3679e+00, -3.8002e+00, -4.7288e+00, -3.3761e+00,\n",
      "         4.5415e-02, -2.5403e+00, -3.5817e+00, -4.0477e+00,  1.7493e-02,\n",
      "        -5.0395e-02, -4.8917e+00, -3.4802e+00, -8.1654e-02, -4.8795e+00,\n",
      "        -4.2591e+00,  9.3201e-02, -4.5802e+00, -5.4719e+00,  3.3205e-02,\n",
      "        -3.3396e+00, -3.2266e+00, -2.9937e+00], device='cuda:2')\n",
      "\n",
      "Best fair model:\n",
      "\tacc: 0.6962\n",
      "\troc: 0.8023\n",
      "\tparity: 0.0060\n",
      "\tequality: 0.0056\n",
      "\tconsistency: 0.0704\n",
      "\n",
      "Best acc model:\n",
      "\tacc: 0.8228\n",
      "\troc: 0.8389\n",
      "\tparity: 0.1954\n",
      "\tequality: 0.2056\n",
      "\n",
      "Best auc model:\n",
      "\tacc: 0.6203\n",
      "\troc: 0.8710\n",
      "\tparity: 0.0347\n",
      "\tequality: 0.0667\n",
      "===========================\n",
      "Running nba_fair_ac_betas using seed 40\n",
      "Log directory: /home/fact21/fact_refactor/experiments/fair_ac/logs/nba/nba_fair_ac_betas_40_lambda2_0.2\n",
      "Params: {'lambda2': 0.2}\n",
      "===========================\n",
      "Created FairAC model with 1 sensitive class\n",
      "Created trainer with GCN model, using log_dir: /home/fact21/fact_refactor/experiments/fair_ac/logs/nba/nba_fair_ac_betas_40_lambda2_0.2\n",
      "Starting pre-training phase\n"
     ]
    },
    {
     "data": {
      "application/json": {
       "ascii": false,
       "bar_format": null,
       "colour": null,
       "elapsed": 0.006565570831298828,
       "initial": 0,
       "n": 0,
       "ncols": null,
       "nrows": null,
       "postfix": null,
       "prefix": "",
       "rate": null,
       "total": 200,
       "unit": "it",
       "unit_divisor": 1000,
       "unit_scale": false
      },
      "application/vnd.jupyter.widget-view+json": {
       "model_id": "c38ef12999b646ea86bb94a46a862ca2",
       "version_major": 2,
       "version_minor": 0
      },
      "text/plain": [
       "  0%|          | 0/200 [00:00<?, ?it/s]"
      ]
     },
     "metadata": {},
     "output_type": "display_data"
    },
    {
     "name": "stdout",
     "output_type": "stream",
     "text": [
      "Finished pretraining\n",
      "Starting main training...\n"
     ]
    },
    {
     "data": {
      "application/json": {
       "ascii": false,
       "bar_format": null,
       "colour": null,
       "elapsed": 0.005320072174072266,
       "initial": 0,
       "n": 0,
       "ncols": null,
       "nrows": null,
       "postfix": null,
       "prefix": "",
       "rate": null,
       "total": 2800,
       "unit": "it",
       "unit_divisor": 1000,
       "unit_scale": false
      },
      "application/vnd.jupyter.widget-view+json": {
       "model_id": "ff405ad5d4644354a97c538abc728475",
       "version_major": 2,
       "version_minor": 0
      },
      "text/plain": [
       "  0%|          | 0/2800 [00:00<?, ?it/s]"
      ]
     },
     "metadata": {},
     "output_type": "display_data"
    },
    {
     "data": {
      "application/json": {
       "ascii": false,
       "bar_format": null,
       "colour": null,
       "elapsed": 0.007191896438598633,
       "initial": 0,
       "n": 0,
       "ncols": null,
       "nrows": null,
       "postfix": null,
       "prefix": "",
       "rate": null,
       "total": 1000,
       "unit": "it",
       "unit_divisor": 1000,
       "unit_scale": false
      },
      "application/vnd.jupyter.widget-view+json": {
       "model_id": "8ad86f8b7b204dee88f1851a4c48e7d6",
       "version_major": 2,
       "version_minor": 0
      },
      "text/plain": [
       "  0%|          | 0/1000 [00:00<?, ?it/s]"
      ]
     },
     "metadata": {},
     "output_type": "display_data"
    },
    {
     "name": "stdout",
     "output_type": "stream",
     "text": [
      "[1000:114] Found new best fairness of 0.209921\n",
      "[1000:119] Found new best fairness of 0.123016\n",
      "[1000:146] Found new best fairness of 0.058532\n",
      "[1000:284] Found new best fairness of 0.043254\n"
     ]
    },
    {
     "data": {
      "application/json": {
       "ascii": false,
       "bar_format": null,
       "colour": null,
       "elapsed": 0.006500720977783203,
       "initial": 0,
       "n": 0,
       "ncols": null,
       "nrows": null,
       "postfix": null,
       "prefix": "",
       "rate": null,
       "total": 1000,
       "unit": "it",
       "unit_divisor": 1000,
       "unit_scale": false
      },
      "application/vnd.jupyter.widget-view+json": {
       "model_id": "cd8ba0af1e8d47458978bb356ce85b32",
       "version_major": 2,
       "version_minor": 0
      },
      "text/plain": [
       "  0%|          | 0/1000 [00:00<?, ?it/s]"
      ]
     },
     "metadata": {},
     "output_type": "display_data"
    },
    {
     "data": {
      "application/json": {
       "ascii": false,
       "bar_format": null,
       "colour": null,
       "elapsed": 0.009085893630981445,
       "initial": 0,
       "n": 0,
       "ncols": null,
       "nrows": null,
       "postfix": null,
       "prefix": "",
       "rate": null,
       "total": 1000,
       "unit": "it",
       "unit_divisor": 1000,
       "unit_scale": false
      },
      "application/vnd.jupyter.widget-view+json": {
       "model_id": "eb4aaa3e927c416d9ba945e381b9c4f9",
       "version_major": 2,
       "version_minor": 0
      },
      "text/plain": [
       "  0%|          | 0/1000 [00:00<?, ?it/s]"
      ]
     },
     "metadata": {},
     "output_type": "display_data"
    },
    {
     "data": {
      "application/json": {
       "ascii": false,
       "bar_format": null,
       "colour": null,
       "elapsed": 0.0063931941986083984,
       "initial": 0,
       "n": 0,
       "ncols": null,
       "nrows": null,
       "postfix": null,
       "prefix": "",
       "rate": null,
       "total": 1000,
       "unit": "it",
       "unit_divisor": 1000,
       "unit_scale": false
      },
      "application/vnd.jupyter.widget-view+json": {
       "model_id": "b8c06f3be60440afadec83a6b0c8873c",
       "version_major": 2,
       "version_minor": 0
      },
      "text/plain": [
       "  0%|          | 0/1000 [00:00<?, ?it/s]"
      ]
     },
     "metadata": {},
     "output_type": "display_data"
    },
    {
     "name": "stdout",
     "output_type": "stream",
     "text": [
      "[1600:209] Found new best fairness of 0.030357\n"
     ]
    },
    {
     "data": {
      "application/json": {
       "ascii": false,
       "bar_format": null,
       "colour": null,
       "elapsed": 0.007261514663696289,
       "initial": 0,
       "n": 0,
       "ncols": null,
       "nrows": null,
       "postfix": null,
       "prefix": "",
       "rate": null,
       "total": 1000,
       "unit": "it",
       "unit_divisor": 1000,
       "unit_scale": false
      },
      "application/vnd.jupyter.widget-view+json": {
       "model_id": "a3ab20613499464ca4c790a243f2c44c",
       "version_major": 2,
       "version_minor": 0
      },
      "text/plain": [
       "  0%|          | 0/1000 [00:00<?, ?it/s]"
      ]
     },
     "metadata": {},
     "output_type": "display_data"
    },
    {
     "data": {
      "application/json": {
       "ascii": false,
       "bar_format": null,
       "colour": null,
       "elapsed": 0.007969379425048828,
       "initial": 0,
       "n": 0,
       "ncols": null,
       "nrows": null,
       "postfix": null,
       "prefix": "",
       "rate": null,
       "total": 1000,
       "unit": "it",
       "unit_divisor": 1000,
       "unit_scale": false
      },
      "application/vnd.jupyter.widget-view+json": {
       "model_id": "f6bc96cce7af4af6b69fe413a67eff7f",
       "version_major": 2,
       "version_minor": 0
      },
      "text/plain": [
       "  0%|          | 0/1000 [00:00<?, ?it/s]"
      ]
     },
     "metadata": {},
     "output_type": "display_data"
    },
    {
     "name": "stdout",
     "output_type": "stream",
     "text": [
      "[2000:626] Found new best fairness of 0.015476\n"
     ]
    },
    {
     "data": {
      "application/json": {
       "ascii": false,
       "bar_format": null,
       "colour": null,
       "elapsed": 0.01608562469482422,
       "initial": 0,
       "n": 0,
       "ncols": null,
       "nrows": null,
       "postfix": null,
       "prefix": "",
       "rate": null,
       "total": 1000,
       "unit": "it",
       "unit_divisor": 1000,
       "unit_scale": false
      },
      "application/vnd.jupyter.widget-view+json": {
       "model_id": "839d4039a79a478fa33a2346c6869069",
       "version_major": 2,
       "version_minor": 0
      },
      "text/plain": [
       "  0%|          | 0/1000 [00:00<?, ?it/s]"
      ]
     },
     "metadata": {},
     "output_type": "display_data"
    },
    {
     "name": "stdout",
     "output_type": "stream",
     "text": [
      "[2200:986] Found new best fairness of 0.012500\n"
     ]
    },
    {
     "data": {
      "application/json": {
       "ascii": false,
       "bar_format": null,
       "colour": null,
       "elapsed": 0.015285491943359375,
       "initial": 0,
       "n": 0,
       "ncols": null,
       "nrows": null,
       "postfix": null,
       "prefix": "",
       "rate": null,
       "total": 1000,
       "unit": "it",
       "unit_divisor": 1000,
       "unit_scale": false
      },
      "application/vnd.jupyter.widget-view+json": {
       "model_id": "04b783e6a19d4c3bae4e4ee66396b4f3",
       "version_major": 2,
       "version_minor": 0
      },
      "text/plain": [
       "  0%|          | 0/1000 [00:00<?, ?it/s]"
      ]
     },
     "metadata": {},
     "output_type": "display_data"
    },
    {
     "data": {
      "application/json": {
       "ascii": false,
       "bar_format": null,
       "colour": null,
       "elapsed": 0.00653839111328125,
       "initial": 0,
       "n": 0,
       "ncols": null,
       "nrows": null,
       "postfix": null,
       "prefix": "",
       "rate": null,
       "total": 1000,
       "unit": "it",
       "unit_divisor": 1000,
       "unit_scale": false
      },
      "application/vnd.jupyter.widget-view+json": {
       "model_id": "1349c4fbc6714d5abd9903de2c6ca425",
       "version_major": 2,
       "version_minor": 0
      },
      "text/plain": [
       "  0%|          | 0/1000 [00:00<?, ?it/s]"
      ]
     },
     "metadata": {},
     "output_type": "display_data"
    },
    {
     "data": {
      "application/json": {
       "ascii": false,
       "bar_format": null,
       "colour": null,
       "elapsed": 0.00864553451538086,
       "initial": 0,
       "n": 0,
       "ncols": null,
       "nrows": null,
       "postfix": null,
       "prefix": "",
       "rate": null,
       "total": 1000,
       "unit": "it",
       "unit_divisor": 1000,
       "unit_scale": false
      },
      "application/vnd.jupyter.widget-view+json": {
       "model_id": "17891740d9784a228b4d06ccc0bb6c21",
       "version_major": 2,
       "version_minor": 0
      },
      "text/plain": [
       "  0%|          | 0/1000 [00:00<?, ?it/s]"
      ]
     },
     "metadata": {},
     "output_type": "display_data"
    },
    {
     "name": "stdout",
     "output_type": "stream",
     "text": [
      "Finished training!\n",
      "Best epoch: 2200\n",
      "tensor([-4.4655, -5.6618, -5.3985, -4.5444, -3.6165, -0.1019, -0.0257, -2.8228,\n",
      "        -0.1077, -0.0741, -0.0112, -3.4327,  0.2337, -3.8066, -0.0354, -5.9799,\n",
      "        -3.2147, -4.1038,  0.0261,  0.2714, -2.3478, -4.2993, -3.1779, -5.7280,\n",
      "         0.2467, -4.6956, -2.2013, -4.0113, -0.3324,  0.2439, -0.0458, -4.7316,\n",
      "        -4.1238, -3.2497, -0.0287, -0.1946, -5.5765, -3.6842,  0.0640, -3.1708,\n",
      "        -3.9858, -4.6036, -0.1374,  0.1494, -3.8520,  0.0887, -0.7789, -0.0561,\n",
      "        -3.5937, -0.5604, -3.1036,  0.1366, -0.0620,  0.0480, -0.1460, -3.2513,\n",
      "        -3.8748, -0.0517, -4.0320,  0.1328, -3.8726, -0.2107, -4.0513, -3.8770,\n",
      "         0.0173,  0.3120, -3.2304, -4.0405, -3.8756, -2.4390,  0.1079, -5.1774,\n",
      "        -2.7237, -5.0434,  0.0121, -6.3504, -4.9341, -4.3229, -0.1794, -5.1717,\n",
      "        -5.1465, -5.5889, -4.0477,  0.1467, -3.4786, -3.0763, -0.0411, -4.4888,\n",
      "        -4.0019, -4.4861, -0.1025, -0.0221, -3.4341, -0.1734, -0.0459, -3.6700,\n",
      "        -3.4203,  0.0453, -2.1310,  0.0703, -4.2615, -4.3737, -4.4126, -4.4329,\n",
      "        -5.3136,  0.0078, -4.6436, -4.0933, -4.9322, -3.7742,  0.0544, -2.7998,\n",
      "        -3.8094, -4.3818,  0.1497, -0.0263, -5.1826, -3.7464, -0.0139, -5.1056,\n",
      "        -4.6115,  0.0772, -4.9997, -5.5755,  0.0589, -3.6284, -3.4925, -3.3622],\n",
      "       device='cuda:2')\n",
      "\n",
      "Best fair model:\n",
      "\tacc: 0.7595\n",
      "\troc: 0.8363\n",
      "\tparity: 0.0069\n",
      "\tequality: 0.0056\n",
      "\tconsistency: 0.0704\n",
      "\n",
      "Best acc model:\n",
      "\tacc: 0.8228\n",
      "\troc: 0.8299\n",
      "\tparity: 0.1637\n",
      "\tequality: 0.1778\n",
      "\n",
      "Best auc model:\n",
      "\tacc: 0.6076\n",
      "\troc: 0.8492\n",
      "\tparity: 0.1587\n",
      "\tequality: 0.2778\n",
      "===========================\n",
      "Running nba_fair_ac_betas using seed 40\n",
      "Log directory: /home/fact21/fact_refactor/experiments/fair_ac/logs/nba/nba_fair_ac_betas_40_lambda2_0.4\n",
      "Params: {'lambda2': 0.4}\n",
      "===========================\n",
      "Created FairAC model with 1 sensitive class\n",
      "Created trainer with GCN model, using log_dir: /home/fact21/fact_refactor/experiments/fair_ac/logs/nba/nba_fair_ac_betas_40_lambda2_0.4\n",
      "Starting pre-training phase\n"
     ]
    },
    {
     "data": {
      "application/json": {
       "ascii": false,
       "bar_format": null,
       "colour": null,
       "elapsed": 0.008015871047973633,
       "initial": 0,
       "n": 0,
       "ncols": null,
       "nrows": null,
       "postfix": null,
       "prefix": "",
       "rate": null,
       "total": 200,
       "unit": "it",
       "unit_divisor": 1000,
       "unit_scale": false
      },
      "application/vnd.jupyter.widget-view+json": {
       "model_id": "ebcc84455e8740f9b26ec4451c4f7498",
       "version_major": 2,
       "version_minor": 0
      },
      "text/plain": [
       "  0%|          | 0/200 [00:00<?, ?it/s]"
      ]
     },
     "metadata": {},
     "output_type": "display_data"
    },
    {
     "name": "stdout",
     "output_type": "stream",
     "text": [
      "Finished pretraining\n",
      "Starting main training...\n"
     ]
    },
    {
     "data": {
      "application/json": {
       "ascii": false,
       "bar_format": null,
       "colour": null,
       "elapsed": 0.005934953689575195,
       "initial": 0,
       "n": 0,
       "ncols": null,
       "nrows": null,
       "postfix": null,
       "prefix": "",
       "rate": null,
       "total": 2800,
       "unit": "it",
       "unit_divisor": 1000,
       "unit_scale": false
      },
      "application/vnd.jupyter.widget-view+json": {
       "model_id": "1792b9bdc3b5481aacf5614623c8fbb9",
       "version_major": 2,
       "version_minor": 0
      },
      "text/plain": [
       "  0%|          | 0/2800 [00:00<?, ?it/s]"
      ]
     },
     "metadata": {},
     "output_type": "display_data"
    },
    {
     "data": {
      "application/json": {
       "ascii": false,
       "bar_format": null,
       "colour": null,
       "elapsed": 0.007359027862548828,
       "initial": 0,
       "n": 0,
       "ncols": null,
       "nrows": null,
       "postfix": null,
       "prefix": "",
       "rate": null,
       "total": 1000,
       "unit": "it",
       "unit_divisor": 1000,
       "unit_scale": false
      },
      "application/vnd.jupyter.widget-view+json": {
       "model_id": "5826ec99530542fa971b9f28e1259560",
       "version_major": 2,
       "version_minor": 0
      },
      "text/plain": [
       "  0%|          | 0/1000 [00:00<?, ?it/s]"
      ]
     },
     "metadata": {},
     "output_type": "display_data"
    },
    {
     "name": "stdout",
     "output_type": "stream",
     "text": [
      "[1000:118] Found new best fairness of 0.111111\n",
      "[1000:146] Found new best fairness of 0.058532\n"
     ]
    },
    {
     "data": {
      "application/json": {
       "ascii": false,
       "bar_format": null,
       "colour": null,
       "elapsed": 0.00718998908996582,
       "initial": 0,
       "n": 0,
       "ncols": null,
       "nrows": null,
       "postfix": null,
       "prefix": "",
       "rate": null,
       "total": 1000,
       "unit": "it",
       "unit_divisor": 1000,
       "unit_scale": false
      },
      "application/vnd.jupyter.widget-view+json": {
       "model_id": "d7a2546a02fc43b78d58fc103b7b9ef7",
       "version_major": 2,
       "version_minor": 0
      },
      "text/plain": [
       "  0%|          | 0/1000 [00:00<?, ?it/s]"
      ]
     },
     "metadata": {},
     "output_type": "display_data"
    },
    {
     "data": {
      "application/json": {
       "ascii": false,
       "bar_format": null,
       "colour": null,
       "elapsed": 0.006376028060913086,
       "initial": 0,
       "n": 0,
       "ncols": null,
       "nrows": null,
       "postfix": null,
       "prefix": "",
       "rate": null,
       "total": 1000,
       "unit": "it",
       "unit_divisor": 1000,
       "unit_scale": false
      },
      "application/vnd.jupyter.widget-view+json": {
       "model_id": "beb650d9740b4ccc8ccfeef5c2e5f1a5",
       "version_major": 2,
       "version_minor": 0
      },
      "text/plain": [
       "  0%|          | 0/1000 [00:00<?, ?it/s]"
      ]
     },
     "metadata": {},
     "output_type": "display_data"
    },
    {
     "data": {
      "application/json": {
       "ascii": false,
       "bar_format": null,
       "colour": null,
       "elapsed": 0.008478164672851562,
       "initial": 0,
       "n": 0,
       "ncols": null,
       "nrows": null,
       "postfix": null,
       "prefix": "",
       "rate": null,
       "total": 1000,
       "unit": "it",
       "unit_divisor": 1000,
       "unit_scale": false
      },
      "application/vnd.jupyter.widget-view+json": {
       "model_id": "8d38a8a1039b4882aa5cfdcf5677020b",
       "version_major": 2,
       "version_minor": 0
      },
      "text/plain": [
       "  0%|          | 0/1000 [00:00<?, ?it/s]"
      ]
     },
     "metadata": {},
     "output_type": "display_data"
    },
    {
     "name": "stdout",
     "output_type": "stream",
     "text": [
      "[1600:270] Found new best fairness of 0.054167\n",
      "[1600:289] Found new best fairness of 0.043254\n",
      "[1600:337] Found new best fairness of 0.038294\n"
     ]
    },
    {
     "data": {
      "application/json": {
       "ascii": false,
       "bar_format": null,
       "colour": null,
       "elapsed": 0.006373167037963867,
       "initial": 0,
       "n": 0,
       "ncols": null,
       "nrows": null,
       "postfix": null,
       "prefix": "",
       "rate": null,
       "total": 1000,
       "unit": "it",
       "unit_divisor": 1000,
       "unit_scale": false
      },
      "application/vnd.jupyter.widget-view+json": {
       "model_id": "6984811a08a9475494afecc7726fbab5",
       "version_major": 2,
       "version_minor": 0
      },
      "text/plain": [
       "  0%|          | 0/1000 [00:00<?, ?it/s]"
      ]
     },
     "metadata": {},
     "output_type": "display_data"
    },
    {
     "name": "stdout",
     "output_type": "stream",
     "text": [
      "[1800:183] Found new best fairness of 0.030357\n"
     ]
    },
    {
     "data": {
      "application/json": {
       "ascii": false,
       "bar_format": null,
       "colour": null,
       "elapsed": 0.0076978206634521484,
       "initial": 0,
       "n": 0,
       "ncols": null,
       "nrows": null,
       "postfix": null,
       "prefix": "",
       "rate": null,
       "total": 1000,
       "unit": "it",
       "unit_divisor": 1000,
       "unit_scale": false
      },
      "application/vnd.jupyter.widget-view+json": {
       "model_id": "90e2c2ed478243cfbe931dc99ee905ad",
       "version_major": 2,
       "version_minor": 0
      },
      "text/plain": [
       "  0%|          | 0/1000 [00:00<?, ?it/s]"
      ]
     },
     "metadata": {},
     "output_type": "display_data"
    },
    {
     "data": {
      "application/json": {
       "ascii": false,
       "bar_format": null,
       "colour": null,
       "elapsed": 0.008786916732788086,
       "initial": 0,
       "n": 0,
       "ncols": null,
       "nrows": null,
       "postfix": null,
       "prefix": "",
       "rate": null,
       "total": 1000,
       "unit": "it",
       "unit_divisor": 1000,
       "unit_scale": false
      },
      "application/vnd.jupyter.widget-view+json": {
       "model_id": "4981ab03c4ec455e992f4292c560d372",
       "version_major": 2,
       "version_minor": 0
      },
      "text/plain": [
       "  0%|          | 0/1000 [00:00<?, ?it/s]"
      ]
     },
     "metadata": {},
     "output_type": "display_data"
    },
    {
     "data": {
      "application/json": {
       "ascii": false,
       "bar_format": null,
       "colour": null,
       "elapsed": 0.006410360336303711,
       "initial": 0,
       "n": 0,
       "ncols": null,
       "nrows": null,
       "postfix": null,
       "prefix": "",
       "rate": null,
       "total": 1000,
       "unit": "it",
       "unit_divisor": 1000,
       "unit_scale": false
      },
      "application/vnd.jupyter.widget-view+json": {
       "model_id": "724a436ed4ae4490b92f8c292a5b4cd0",
       "version_major": 2,
       "version_minor": 0
      },
      "text/plain": [
       "  0%|          | 0/1000 [00:00<?, ?it/s]"
      ]
     },
     "metadata": {},
     "output_type": "display_data"
    },
    {
     "data": {
      "application/json": {
       "ascii": false,
       "bar_format": null,
       "colour": null,
       "elapsed": 0.00717616081237793,
       "initial": 0,
       "n": 0,
       "ncols": null,
       "nrows": null,
       "postfix": null,
       "prefix": "",
       "rate": null,
       "total": 1000,
       "unit": "it",
       "unit_divisor": 1000,
       "unit_scale": false
      },
      "application/vnd.jupyter.widget-view+json": {
       "model_id": "be49153748d84f2ba4d500508d9960be",
       "version_major": 2,
       "version_minor": 0
      },
      "text/plain": [
       "  0%|          | 0/1000 [00:00<?, ?it/s]"
      ]
     },
     "metadata": {},
     "output_type": "display_data"
    },
    {
     "data": {
      "application/json": {
       "ascii": false,
       "bar_format": null,
       "colour": null,
       "elapsed": 0.006525993347167969,
       "initial": 0,
       "n": 0,
       "ncols": null,
       "nrows": null,
       "postfix": null,
       "prefix": "",
       "rate": null,
       "total": 1000,
       "unit": "it",
       "unit_divisor": 1000,
       "unit_scale": false
      },
      "application/vnd.jupyter.widget-view+json": {
       "model_id": "510e340c4a1b4a7f9b74536758d00d34",
       "version_major": 2,
       "version_minor": 0
      },
      "text/plain": [
       "  0%|          | 0/1000 [00:00<?, ?it/s]"
      ]
     },
     "metadata": {},
     "output_type": "display_data"
    },
    {
     "name": "stdout",
     "output_type": "stream",
     "text": [
      "Finished training!\n",
      "Best epoch: 1800\n",
      "tensor([-4.4853e+00, -5.6267e+00, -5.3965e+00, -4.4054e+00, -3.4085e+00,\n",
      "        -1.6215e-01, -1.9130e-01, -2.5319e+00, -4.4351e-02, -8.4371e-02,\n",
      "         1.5839e-02, -3.3846e+00,  1.2252e-01, -3.5944e+00, -1.3935e-02,\n",
      "        -5.8892e+00, -3.0097e+00, -3.9314e+00,  6.7079e-02,  2.7448e-01,\n",
      "        -1.5353e+00, -4.2550e+00, -2.9407e+00, -5.6411e+00,  2.0787e-01,\n",
      "        -4.6319e+00, -2.5104e+00, -3.9413e+00, -3.2035e-01,  3.0708e-01,\n",
      "        -9.7558e-02, -4.7258e+00, -4.0112e+00, -3.0814e+00, -1.1127e-02,\n",
      "        -2.2887e-01, -5.5235e+00, -3.4913e+00,  1.6164e-03, -2.8289e+00,\n",
      "        -3.9376e+00, -4.4761e+00, -9.6535e-02,  1.6988e-01, -3.6910e+00,\n",
      "         1.2752e-01, -7.5146e-01, -9.7638e-02, -3.4702e+00, -6.9820e-01,\n",
      "        -3.0336e+00,  1.0069e-01, -2.0316e-01,  1.2624e-01, -1.4786e-01,\n",
      "        -2.9150e+00, -3.7106e+00, -4.8096e-02, -3.9308e+00,  1.9789e-01,\n",
      "        -3.6676e+00, -3.9186e-01, -3.9864e+00, -3.7659e+00, -4.2791e-03,\n",
      "         3.1082e-01, -3.2436e+00, -3.8236e+00, -3.6059e+00, -2.3343e+00,\n",
      "         4.4480e-02, -5.1048e+00, -1.0876e+00, -5.0182e+00, -5.2731e-03,\n",
      "        -6.2836e+00, -4.9094e+00, -4.1102e+00, -1.4687e-01, -5.0919e+00,\n",
      "        -5.0719e+00, -5.5128e+00, -3.9832e+00,  1.5189e-01, -3.3388e+00,\n",
      "        -2.8634e+00, -1.5685e-01, -4.5682e+00, -3.7282e+00, -4.4440e+00,\n",
      "        -1.9763e-01, -8.1371e-02, -3.2908e+00, -2.3907e-01, -7.9066e-02,\n",
      "        -3.5206e+00, -3.3091e+00,  7.2989e-02, -2.3354e+00,  1.3280e-01,\n",
      "        -4.1766e+00, -4.2847e+00, -4.3154e+00, -4.3159e+00, -5.1551e+00,\n",
      "        -3.0686e-02, -4.6226e+00, -3.9651e+00, -4.8047e+00, -3.5254e+00,\n",
      "         8.5539e-02, -2.5197e+00, -3.6712e+00, -4.1282e+00,  6.9202e-02,\n",
      "        -8.3824e-02, -5.0314e+00, -3.5680e+00,  3.8996e-02, -5.0190e+00,\n",
      "        -4.5354e+00,  7.8523e-02, -4.8955e+00, -5.3912e+00, -5.1070e-02,\n",
      "        -3.4845e+00, -3.2461e+00, -3.2615e+00], device='cuda:2')\n",
      "\n",
      "Best fair model:\n",
      "\tacc: 0.7342\n",
      "\troc: 0.7843\n",
      "\tparity: 0.0248\n",
      "\tequality: 0.0056\n",
      "\tconsistency: 0.0704\n",
      "\n",
      "Best acc model:\n",
      "\tacc: 0.8101\n",
      "\troc: 0.8466\n",
      "\tparity: 0.1329\n",
      "\tequality: 0.2056\n",
      "\n",
      "Best auc model:\n",
      "\tacc: 0.5949\n",
      "\troc: 0.8659\n",
      "\tparity: 0.0179\n",
      "\tequality: 0.0500\n",
      "===========================\n",
      "Running nba_fair_ac_betas using seed 40\n",
      "Log directory: /home/fact21/fact_refactor/experiments/fair_ac/logs/nba/nba_fair_ac_betas_40_lambda2_0.7\n",
      "Params: {'lambda2': 0.7}\n",
      "===========================\n",
      "Created FairAC model with 1 sensitive class\n",
      "Created trainer with GCN model, using log_dir: /home/fact21/fact_refactor/experiments/fair_ac/logs/nba/nba_fair_ac_betas_40_lambda2_0.7\n",
      "Starting pre-training phase\n"
     ]
    },
    {
     "data": {
      "application/json": {
       "ascii": false,
       "bar_format": null,
       "colour": null,
       "elapsed": 0.009068727493286133,
       "initial": 0,
       "n": 0,
       "ncols": null,
       "nrows": null,
       "postfix": null,
       "prefix": "",
       "rate": null,
       "total": 200,
       "unit": "it",
       "unit_divisor": 1000,
       "unit_scale": false
      },
      "application/vnd.jupyter.widget-view+json": {
       "model_id": "2e2693c56d79415e947813b649ce152b",
       "version_major": 2,
       "version_minor": 0
      },
      "text/plain": [
       "  0%|          | 0/200 [00:00<?, ?it/s]"
      ]
     },
     "metadata": {},
     "output_type": "display_data"
    },
    {
     "name": "stdout",
     "output_type": "stream",
     "text": [
      "Finished pretraining\n",
      "Starting main training...\n"
     ]
    },
    {
     "data": {
      "application/json": {
       "ascii": false,
       "bar_format": null,
       "colour": null,
       "elapsed": 0.005816936492919922,
       "initial": 0,
       "n": 0,
       "ncols": null,
       "nrows": null,
       "postfix": null,
       "prefix": "",
       "rate": null,
       "total": 2800,
       "unit": "it",
       "unit_divisor": 1000,
       "unit_scale": false
      },
      "application/vnd.jupyter.widget-view+json": {
       "model_id": "39b2247022ae4d50812cffb43e3152b2",
       "version_major": 2,
       "version_minor": 0
      },
      "text/plain": [
       "  0%|          | 0/2800 [00:00<?, ?it/s]"
      ]
     },
     "metadata": {},
     "output_type": "display_data"
    },
    {
     "data": {
      "application/json": {
       "ascii": false,
       "bar_format": null,
       "colour": null,
       "elapsed": 0.007631063461303711,
       "initial": 0,
       "n": 0,
       "ncols": null,
       "nrows": null,
       "postfix": null,
       "prefix": "",
       "rate": null,
       "total": 1000,
       "unit": "it",
       "unit_divisor": 1000,
       "unit_scale": false
      },
      "application/vnd.jupyter.widget-view+json": {
       "model_id": "23e7ab142d9d418db1a6ed25c6c82b21",
       "version_major": 2,
       "version_minor": 0
      },
      "text/plain": [
       "  0%|          | 0/1000 [00:00<?, ?it/s]"
      ]
     },
     "metadata": {},
     "output_type": "display_data"
    },
    {
     "name": "stdout",
     "output_type": "stream",
     "text": [
      "[1000:114] Found new best fairness of 0.166270\n",
      "[1000:139] Found new best fairness of 0.134524\n",
      "[1000:154] Found new best fairness of 0.102778\n",
      "[1000:175] Found new best fairness of 0.066071\n",
      "[1000:194] Found new best fairness of 0.046230\n",
      "[1000:473] Found new best fairness of 0.031349\n"
     ]
    },
    {
     "data": {
      "application/json": {
       "ascii": false,
       "bar_format": null,
       "colour": null,
       "elapsed": 0.007145404815673828,
       "initial": 0,
       "n": 0,
       "ncols": null,
       "nrows": null,
       "postfix": null,
       "prefix": "",
       "rate": null,
       "total": 1000,
       "unit": "it",
       "unit_divisor": 1000,
       "unit_scale": false
      },
      "application/vnd.jupyter.widget-view+json": {
       "model_id": "0ce9c3a2c2f9488799e51534788404e0",
       "version_major": 2,
       "version_minor": 0
      },
      "text/plain": [
       "  0%|          | 0/1000 [00:00<?, ?it/s]"
      ]
     },
     "metadata": {},
     "output_type": "display_data"
    },
    {
     "data": {
      "application/json": {
       "ascii": false,
       "bar_format": null,
       "colour": null,
       "elapsed": 0.006325960159301758,
       "initial": 0,
       "n": 0,
       "ncols": null,
       "nrows": null,
       "postfix": null,
       "prefix": "",
       "rate": null,
       "total": 1000,
       "unit": "it",
       "unit_divisor": 1000,
       "unit_scale": false
      },
      "application/vnd.jupyter.widget-view+json": {
       "model_id": "5d3d4d67946442a392b3214749f2538e",
       "version_major": 2,
       "version_minor": 0
      },
      "text/plain": [
       "  0%|          | 0/1000 [00:00<?, ?it/s]"
      ]
     },
     "metadata": {},
     "output_type": "display_data"
    },
    {
     "name": "stdout",
     "output_type": "stream",
     "text": [
      "[1400:186] Found new best fairness of 0.030357\n"
     ]
    },
    {
     "data": {
      "application/json": {
       "ascii": false,
       "bar_format": null,
       "colour": null,
       "elapsed": 0.006211757659912109,
       "initial": 0,
       "n": 0,
       "ncols": null,
       "nrows": null,
       "postfix": null,
       "prefix": "",
       "rate": null,
       "total": 1000,
       "unit": "it",
       "unit_divisor": 1000,
       "unit_scale": false
      },
      "application/vnd.jupyter.widget-view+json": {
       "model_id": "54130ea3766e4ae69918e2b15ee226d6",
       "version_major": 2,
       "version_minor": 0
      },
      "text/plain": [
       "  0%|          | 0/1000 [00:00<?, ?it/s]"
      ]
     },
     "metadata": {},
     "output_type": "display_data"
    },
    {
     "name": "stdout",
     "output_type": "stream",
     "text": [
      "[1600:264] Found new best fairness of 0.015476\n",
      "[1600:790] Found new best fairness of 0.011508\n"
     ]
    },
    {
     "data": {
      "application/json": {
       "ascii": false,
       "bar_format": null,
       "colour": null,
       "elapsed": 0.007027864456176758,
       "initial": 0,
       "n": 0,
       "ncols": null,
       "nrows": null,
       "postfix": null,
       "prefix": "",
       "rate": null,
       "total": 1000,
       "unit": "it",
       "unit_divisor": 1000,
       "unit_scale": false
      },
      "application/vnd.jupyter.widget-view+json": {
       "model_id": "b1812553f40f4a49ab35c45db154cce2",
       "version_major": 2,
       "version_minor": 0
      },
      "text/plain": [
       "  0%|          | 0/1000 [00:00<?, ?it/s]"
      ]
     },
     "metadata": {},
     "output_type": "display_data"
    },
    {
     "data": {
      "application/json": {
       "ascii": false,
       "bar_format": null,
       "colour": null,
       "elapsed": 0.006674051284790039,
       "initial": 0,
       "n": 0,
       "ncols": null,
       "nrows": null,
       "postfix": null,
       "prefix": "",
       "rate": null,
       "total": 1000,
       "unit": "it",
       "unit_divisor": 1000,
       "unit_scale": false
      },
      "application/vnd.jupyter.widget-view+json": {
       "model_id": "8bcc9685644d4627a7e7c10d9c91fbcf",
       "version_major": 2,
       "version_minor": 0
      },
      "text/plain": [
       "  0%|          | 0/1000 [00:00<?, ?it/s]"
      ]
     },
     "metadata": {},
     "output_type": "display_data"
    },
    {
     "data": {
      "application/json": {
       "ascii": false,
       "bar_format": null,
       "colour": null,
       "elapsed": 0.006581306457519531,
       "initial": 0,
       "n": 0,
       "ncols": null,
       "nrows": null,
       "postfix": null,
       "prefix": "",
       "rate": null,
       "total": 1000,
       "unit": "it",
       "unit_divisor": 1000,
       "unit_scale": false
      },
      "application/vnd.jupyter.widget-view+json": {
       "model_id": "8e771819c78e43c1895419fbf07d50a2",
       "version_major": 2,
       "version_minor": 0
      },
      "text/plain": [
       "  0%|          | 0/1000 [00:00<?, ?it/s]"
      ]
     },
     "metadata": {},
     "output_type": "display_data"
    },
    {
     "data": {
      "application/json": {
       "ascii": false,
       "bar_format": null,
       "colour": null,
       "elapsed": 0.009112834930419922,
       "initial": 0,
       "n": 0,
       "ncols": null,
       "nrows": null,
       "postfix": null,
       "prefix": "",
       "rate": null,
       "total": 1000,
       "unit": "it",
       "unit_divisor": 1000,
       "unit_scale": false
      },
      "application/vnd.jupyter.widget-view+json": {
       "model_id": "ade368764f3749139b73d2a2e3544111",
       "version_major": 2,
       "version_minor": 0
      },
      "text/plain": [
       "  0%|          | 0/1000 [00:00<?, ?it/s]"
      ]
     },
     "metadata": {},
     "output_type": "display_data"
    },
    {
     "data": {
      "application/json": {
       "ascii": false,
       "bar_format": null,
       "colour": null,
       "elapsed": 0.006663799285888672,
       "initial": 0,
       "n": 0,
       "ncols": null,
       "nrows": null,
       "postfix": null,
       "prefix": "",
       "rate": null,
       "total": 1000,
       "unit": "it",
       "unit_divisor": 1000,
       "unit_scale": false
      },
      "application/vnd.jupyter.widget-view+json": {
       "model_id": "06e909d2fffa41b496283715b061a2a1",
       "version_major": 2,
       "version_minor": 0
      },
      "text/plain": [
       "  0%|          | 0/1000 [00:00<?, ?it/s]"
      ]
     },
     "metadata": {},
     "output_type": "display_data"
    },
    {
     "data": {
      "application/json": {
       "ascii": false,
       "bar_format": null,
       "colour": null,
       "elapsed": 0.007245063781738281,
       "initial": 0,
       "n": 0,
       "ncols": null,
       "nrows": null,
       "postfix": null,
       "prefix": "",
       "rate": null,
       "total": 1000,
       "unit": "it",
       "unit_divisor": 1000,
       "unit_scale": false
      },
      "application/vnd.jupyter.widget-view+json": {
       "model_id": "419adccbdfcb4e2fb6aa949a68416048",
       "version_major": 2,
       "version_minor": 0
      },
      "text/plain": [
       "  0%|          | 0/1000 [00:00<?, ?it/s]"
      ]
     },
     "metadata": {},
     "output_type": "display_data"
    },
    {
     "name": "stdout",
     "output_type": "stream",
     "text": [
      "Finished training!\n",
      "Best epoch: 1600\n",
      "tensor([-4.8038e+00, -5.9385e+00, -5.5562e+00, -4.3253e+00, -3.6636e+00,\n",
      "        -4.1915e-02, -1.9277e-01, -2.3796e+00,  5.5472e-03, -1.4080e-01,\n",
      "        -6.4655e-02, -3.5301e+00, -9.1869e-03, -3.5473e+00,  4.8881e-02,\n",
      "        -6.2823e+00, -2.8227e+00, -3.8236e+00,  5.0874e-02,  2.2203e-01,\n",
      "        -2.5813e-01, -4.5569e+00, -2.9829e+00, -5.5804e+00,  1.8823e-01,\n",
      "        -4.7168e+00, -2.6640e+00, -4.3148e+00, -3.6825e-01,  3.0874e-01,\n",
      "        -1.3323e-01, -4.9402e+00, -4.0469e+00, -3.1760e+00, -7.1508e-02,\n",
      "        -1.9562e-01, -5.7648e+00, -3.4877e+00, -1.5348e-01, -2.6752e+00,\n",
      "        -4.2279e+00, -4.5480e+00, -1.2809e-01,  1.4946e-01, -3.4968e+00,\n",
      "         3.5243e-02, -9.5699e-01, -1.8960e-01, -3.5544e+00, -6.6182e-01,\n",
      "        -3.2038e+00,  1.8670e-01, -2.1962e-01,  2.5216e-01, -2.2184e-01,\n",
      "        -2.9210e+00, -3.6537e+00, -9.9339e-02, -3.9292e+00,  1.6955e-01,\n",
      "        -3.7605e+00, -2.3825e+00, -3.9111e+00, -3.9764e+00, -1.3687e-02,\n",
      "         3.8731e-01, -3.4659e+00, -3.7681e+00, -3.6543e+00, -2.3943e+00,\n",
      "         7.2130e-02, -5.2571e+00, -1.1732e+00, -5.2829e+00, -8.9438e-02,\n",
      "        -6.5353e+00, -5.0203e+00, -4.0486e+00, -2.3871e-01, -5.2152e+00,\n",
      "        -5.0762e+00, -5.8012e+00, -4.0967e+00,  1.5318e-01, -3.4680e+00,\n",
      "        -2.8726e+00, -1.1965e-01, -4.8442e+00, -3.4903e+00, -4.6140e+00,\n",
      "        -1.7405e-01, -8.8502e-02, -3.4236e+00, -2.3625e-01, -3.1662e-02,\n",
      "        -3.6261e+00, -3.3700e+00,  2.0212e-02, -2.0738e+00,  1.1137e-01,\n",
      "        -4.2540e+00, -4.1318e+00, -4.2439e+00, -4.5005e+00, -5.3138e+00,\n",
      "         9.5206e-02, -5.0730e+00, -3.9499e+00, -4.8985e+00, -3.4903e+00,\n",
      "         8.7276e-02, -2.3267e+00, -3.7920e+00, -3.9168e+00,  9.2927e-02,\n",
      "        -6.6510e-02, -5.2106e+00, -3.7943e+00,  9.9740e-02, -5.2870e+00,\n",
      "        -4.4765e+00,  7.0394e-02, -5.0484e+00, -5.4627e+00, -2.8427e-01,\n",
      "        -3.5229e+00, -3.2379e+00, -3.2151e+00], device='cuda:2')\n",
      "\n",
      "Best fair model:\n",
      "\tacc: 0.6962\n",
      "\troc: 0.8017\n",
      "\tparity: 0.0060\n",
      "\tequality: 0.0056\n",
      "\tconsistency: 0.0704\n",
      "\n",
      "Best acc model:\n",
      "\tacc: 0.7975\n",
      "\troc: 0.8370\n",
      "\tparity: 0.1954\n",
      "\tequality: 0.1778\n",
      "\n",
      "Best auc model:\n",
      "\tacc: 0.4937\n",
      "\troc: 0.8646\n",
      "\tparity: 0.0159\n",
      "\tequality: 0.0278\n",
      "===========================\n",
      "Running nba_fair_ac_betas using seed 40\n",
      "Log directory: /home/fact21/fact_refactor/experiments/fair_ac/logs/nba/nba_fair_ac_betas_40_lambda2_0.8\n",
      "Params: {'lambda2': 0.8}\n",
      "===========================\n",
      "Created FairAC model with 1 sensitive class\n",
      "Created trainer with GCN model, using log_dir: /home/fact21/fact_refactor/experiments/fair_ac/logs/nba/nba_fair_ac_betas_40_lambda2_0.8\n",
      "Starting pre-training phase\n"
     ]
    },
    {
     "data": {
      "application/json": {
       "ascii": false,
       "bar_format": null,
       "colour": null,
       "elapsed": 0.010208845138549805,
       "initial": 0,
       "n": 0,
       "ncols": null,
       "nrows": null,
       "postfix": null,
       "prefix": "",
       "rate": null,
       "total": 200,
       "unit": "it",
       "unit_divisor": 1000,
       "unit_scale": false
      },
      "application/vnd.jupyter.widget-view+json": {
       "model_id": "cf35273167ef4358984542bdd9fc8daf",
       "version_major": 2,
       "version_minor": 0
      },
      "text/plain": [
       "  0%|          | 0/200 [00:00<?, ?it/s]"
      ]
     },
     "metadata": {},
     "output_type": "display_data"
    },
    {
     "name": "stdout",
     "output_type": "stream",
     "text": [
      "Finished pretraining\n",
      "Starting main training...\n"
     ]
    },
    {
     "data": {
      "application/json": {
       "ascii": false,
       "bar_format": null,
       "colour": null,
       "elapsed": 0.005783557891845703,
       "initial": 0,
       "n": 0,
       "ncols": null,
       "nrows": null,
       "postfix": null,
       "prefix": "",
       "rate": null,
       "total": 2800,
       "unit": "it",
       "unit_divisor": 1000,
       "unit_scale": false
      },
      "application/vnd.jupyter.widget-view+json": {
       "model_id": "4e1aafa3e32a4c87b00ba2628eeb1581",
       "version_major": 2,
       "version_minor": 0
      },
      "text/plain": [
       "  0%|          | 0/2800 [00:00<?, ?it/s]"
      ]
     },
     "metadata": {},
     "output_type": "display_data"
    },
    {
     "data": {
      "application/json": {
       "ascii": false,
       "bar_format": null,
       "colour": null,
       "elapsed": 0.01171112060546875,
       "initial": 0,
       "n": 0,
       "ncols": null,
       "nrows": null,
       "postfix": null,
       "prefix": "",
       "rate": null,
       "total": 1000,
       "unit": "it",
       "unit_divisor": 1000,
       "unit_scale": false
      },
      "application/vnd.jupyter.widget-view+json": {
       "model_id": "fd729ed163d44e598411626468b96add",
       "version_major": 2,
       "version_minor": 0
      },
      "text/plain": [
       "  0%|          | 0/1000 [00:00<?, ?it/s]"
      ]
     },
     "metadata": {},
     "output_type": "display_data"
    },
    {
     "name": "stdout",
     "output_type": "stream",
     "text": [
      "[1000:107] Found new best fairness of 0.201389\n",
      "[1000:121] Found new best fairness of 0.126984\n",
      "[1000:133] Found new best fairness of 0.123016\n",
      "[1000:196] Found new best fairness of 0.083135\n",
      "[1000:389] Found new best fairness of 0.061706\n"
     ]
    },
    {
     "data": {
      "application/json": {
       "ascii": false,
       "bar_format": null,
       "colour": null,
       "elapsed": 0.008767843246459961,
       "initial": 0,
       "n": 0,
       "ncols": null,
       "nrows": null,
       "postfix": null,
       "prefix": "",
       "rate": null,
       "total": 1000,
       "unit": "it",
       "unit_divisor": 1000,
       "unit_scale": false
      },
      "application/vnd.jupyter.widget-view+json": {
       "model_id": "b1e2e03ede064370aa1448b9a33b6e68",
       "version_major": 2,
       "version_minor": 0
      },
      "text/plain": [
       "  0%|          | 0/1000 [00:00<?, ?it/s]"
      ]
     },
     "metadata": {},
     "output_type": "display_data"
    },
    {
     "data": {
      "application/json": {
       "ascii": false,
       "bar_format": null,
       "colour": null,
       "elapsed": 0.007370948791503906,
       "initial": 0,
       "n": 0,
       "ncols": null,
       "nrows": null,
       "postfix": null,
       "prefix": "",
       "rate": null,
       "total": 1000,
       "unit": "it",
       "unit_divisor": 1000,
       "unit_scale": false
      },
      "application/vnd.jupyter.widget-view+json": {
       "model_id": "01ddc0c1012642a3848c9230f1cdebdb",
       "version_major": 2,
       "version_minor": 0
      },
      "text/plain": [
       "  0%|          | 0/1000 [00:00<?, ?it/s]"
      ]
     },
     "metadata": {},
     "output_type": "display_data"
    },
    {
     "name": "stdout",
     "output_type": "stream",
     "text": [
      "[1400:180] Found new best fairness of 0.059127\n",
      "[1400:181] Found new best fairness of 0.020635\n"
     ]
    },
    {
     "data": {
      "application/json": {
       "ascii": false,
       "bar_format": null,
       "colour": null,
       "elapsed": 0.006908893585205078,
       "initial": 0,
       "n": 0,
       "ncols": null,
       "nrows": null,
       "postfix": null,
       "prefix": "",
       "rate": null,
       "total": 1000,
       "unit": "it",
       "unit_divisor": 1000,
       "unit_scale": false
      },
      "application/vnd.jupyter.widget-view+json": {
       "model_id": "ce2364cf57c2468d872da5dced47b1af",
       "version_major": 2,
       "version_minor": 0
      },
      "text/plain": [
       "  0%|          | 0/1000 [00:00<?, ?it/s]"
      ]
     },
     "metadata": {},
     "output_type": "display_data"
    },
    {
     "name": "stdout",
     "output_type": "stream",
     "text": [
      "[1600:269] Found new best fairness of 0.011508\n"
     ]
    },
    {
     "data": {
      "application/json": {
       "ascii": false,
       "bar_format": null,
       "colour": null,
       "elapsed": 0.010539054870605469,
       "initial": 0,
       "n": 0,
       "ncols": null,
       "nrows": null,
       "postfix": null,
       "prefix": "",
       "rate": null,
       "total": 1000,
       "unit": "it",
       "unit_divisor": 1000,
       "unit_scale": false
      },
      "application/vnd.jupyter.widget-view+json": {
       "model_id": "b5d01d4984d64648afa8f2d4c81b7c86",
       "version_major": 2,
       "version_minor": 0
      },
      "text/plain": [
       "  0%|          | 0/1000 [00:00<?, ?it/s]"
      ]
     },
     "metadata": {},
     "output_type": "display_data"
    },
    {
     "data": {
      "application/json": {
       "ascii": false,
       "bar_format": null,
       "colour": null,
       "elapsed": 0.0077362060546875,
       "initial": 0,
       "n": 0,
       "ncols": null,
       "nrows": null,
       "postfix": null,
       "prefix": "",
       "rate": null,
       "total": 1000,
       "unit": "it",
       "unit_divisor": 1000,
       "unit_scale": false
      },
      "application/vnd.jupyter.widget-view+json": {
       "model_id": "f847d2c28349443c858c6f0c14821b7f",
       "version_major": 2,
       "version_minor": 0
      },
      "text/plain": [
       "  0%|          | 0/1000 [00:00<?, ?it/s]"
      ]
     },
     "metadata": {},
     "output_type": "display_data"
    },
    {
     "data": {
      "application/json": {
       "ascii": false,
       "bar_format": null,
       "colour": null,
       "elapsed": 0.007654905319213867,
       "initial": 0,
       "n": 0,
       "ncols": null,
       "nrows": null,
       "postfix": null,
       "prefix": "",
       "rate": null,
       "total": 1000,
       "unit": "it",
       "unit_divisor": 1000,
       "unit_scale": false
      },
      "application/vnd.jupyter.widget-view+json": {
       "model_id": "3b368a6b9ab14d7e9cbc5fff2d08001b",
       "version_major": 2,
       "version_minor": 0
      },
      "text/plain": [
       "  0%|          | 0/1000 [00:00<?, ?it/s]"
      ]
     },
     "metadata": {},
     "output_type": "display_data"
    },
    {
     "data": {
      "application/json": {
       "ascii": false,
       "bar_format": null,
       "colour": null,
       "elapsed": 0.007291078567504883,
       "initial": 0,
       "n": 0,
       "ncols": null,
       "nrows": null,
       "postfix": null,
       "prefix": "",
       "rate": null,
       "total": 1000,
       "unit": "it",
       "unit_divisor": 1000,
       "unit_scale": false
      },
      "application/vnd.jupyter.widget-view+json": {
       "model_id": "262baa76026b4b35afe33bcda20a722c",
       "version_major": 2,
       "version_minor": 0
      },
      "text/plain": [
       "  0%|          | 0/1000 [00:00<?, ?it/s]"
      ]
     },
     "metadata": {},
     "output_type": "display_data"
    },
    {
     "data": {
      "application/json": {
       "ascii": false,
       "bar_format": null,
       "colour": null,
       "elapsed": 0.007291316986083984,
       "initial": 0,
       "n": 0,
       "ncols": null,
       "nrows": null,
       "postfix": null,
       "prefix": "",
       "rate": null,
       "total": 1000,
       "unit": "it",
       "unit_divisor": 1000,
       "unit_scale": false
      },
      "application/vnd.jupyter.widget-view+json": {
       "model_id": "18fe62338552405f9de46de017c3ddac",
       "version_major": 2,
       "version_minor": 0
      },
      "text/plain": [
       "  0%|          | 0/1000 [00:00<?, ?it/s]"
      ]
     },
     "metadata": {},
     "output_type": "display_data"
    },
    {
     "data": {
      "application/json": {
       "ascii": false,
       "bar_format": null,
       "colour": null,
       "elapsed": 0.00747990608215332,
       "initial": 0,
       "n": 0,
       "ncols": null,
       "nrows": null,
       "postfix": null,
       "prefix": "",
       "rate": null,
       "total": 1000,
       "unit": "it",
       "unit_divisor": 1000,
       "unit_scale": false
      },
      "application/vnd.jupyter.widget-view+json": {
       "model_id": "3a006950a5fc46c58b8c84fa71694a86",
       "version_major": 2,
       "version_minor": 0
      },
      "text/plain": [
       "  0%|          | 0/1000 [00:00<?, ?it/s]"
      ]
     },
     "metadata": {},
     "output_type": "display_data"
    },
    {
     "name": "stdout",
     "output_type": "stream",
     "text": [
      "Finished training!\n",
      "Best epoch: 1600\n",
      "tensor([-4.8573e+00, -6.0520e+00, -5.7579e+00, -4.2949e+00, -3.8568e+00,\n",
      "         5.9158e-02, -2.6120e-01, -2.2272e+00, -2.2682e-01, -1.2100e-01,\n",
      "        -1.1894e-01, -3.8045e+00, -1.8593e-03, -3.5038e+00,  2.6865e-02,\n",
      "        -6.4619e+00, -2.7692e+00, -3.5779e+00,  1.7916e-02,  9.9452e-02,\n",
      "        -8.7198e-01, -4.4741e+00, -3.0429e+00, -5.6211e+00,  1.2572e-01,\n",
      "        -4.7101e+00, -2.8647e+00, -4.4528e+00, -4.6556e-01,  2.3455e-01,\n",
      "        -1.3484e-01, -4.9698e+00, -4.0961e+00, -3.2504e+00, -1.0900e-01,\n",
      "        -1.4925e-01, -5.7776e+00, -3.4209e+00, -1.2973e-01, -2.6424e+00,\n",
      "        -4.3943e+00, -4.6315e+00, -1.5319e-01,  9.1241e-02, -3.5061e+00,\n",
      "        -9.4765e-02, -8.7670e-01, -1.2189e-01, -3.5508e+00, -6.0807e-01,\n",
      "        -3.2406e+00,  1.4868e-01, -2.4660e-01,  1.5795e-01, -2.3721e-01,\n",
      "        -2.8384e+00, -3.6927e+00, -8.8899e-02, -3.8332e+00, -1.5236e-02,\n",
      "        -4.0060e+00, -2.4926e+00, -3.9644e+00, -4.0126e+00, -5.7627e-02,\n",
      "         3.8719e-01, -3.5957e+00, -3.8013e+00, -3.7710e+00, -2.3850e+00,\n",
      "         2.2476e-02, -5.4780e+00, -1.7568e+00, -5.4302e+00, -1.4644e-01,\n",
      "        -6.7528e+00, -4.9852e+00, -3.9529e+00, -2.5080e-01, -5.3637e+00,\n",
      "        -4.8789e+00, -6.0359e+00, -4.0934e+00,  4.9476e-02, -3.6270e+00,\n",
      "        -2.8438e+00, -1.9832e+00, -5.0787e+00, -3.3977e+00, -4.8227e+00,\n",
      "        -2.2682e-01, -4.3156e-02, -3.4992e+00, -2.8009e+00, -1.5220e-02,\n",
      "        -3.8056e+00, -3.4725e+00,  5.7519e-02, -2.1337e+00,  6.7475e-02,\n",
      "        -4.3784e+00, -4.2176e+00, -4.2308e+00, -4.5205e+00, -5.3158e+00,\n",
      "         9.7095e-02, -5.2112e+00, -3.9758e+00, -4.8687e+00, -3.3843e+00,\n",
      "        -2.0661e+00, -2.2657e+00, -3.9221e+00, -3.9374e+00,  2.3275e-02,\n",
      "        -1.0543e-01, -5.2565e+00, -3.8580e+00, -6.7588e-03, -5.3208e+00,\n",
      "        -4.3163e+00,  7.7113e-02, -4.9995e+00, -5.5745e+00, -3.1193e-01,\n",
      "        -3.7196e+00, -3.3186e+00, -3.3386e+00], device='cuda:2')\n",
      "\n",
      "Best fair model:\n",
      "\tacc: 0.6962\n",
      "\troc: 0.8126\n",
      "\tparity: 0.0060\n",
      "\tequality: 0.0056\n",
      "\tconsistency: 0.0704\n",
      "\n",
      "Best acc model:\n",
      "\tacc: 0.7975\n",
      "\troc: 0.8190\n",
      "\tparity: 0.1954\n",
      "\tequality: 0.1778\n",
      "\n",
      "Best auc model:\n",
      "\tacc: 0.7468\n",
      "\troc: 0.8440\n",
      "\tparity: 0.0536\n",
      "\tequality: 0.0667\n",
      "===========================\n",
      "Running nba_fair_ac_betas using seed 41\n",
      "Log directory: /home/fact21/fact_refactor/experiments/fair_ac/logs/nba/nba_fair_ac_betas_41_lambda2_0.0\n",
      "Params: {'lambda2': 0.0}\n",
      "===========================\n",
      "Created FairAC model with 1 sensitive class\n",
      "Created trainer with GCN model, using log_dir: /home/fact21/fact_refactor/experiments/fair_ac/logs/nba/nba_fair_ac_betas_41_lambda2_0.0\n",
      "Starting pre-training phase\n"
     ]
    },
    {
     "data": {
      "application/json": {
       "ascii": false,
       "bar_format": null,
       "colour": null,
       "elapsed": 0.012430191040039062,
       "initial": 0,
       "n": 0,
       "ncols": null,
       "nrows": null,
       "postfix": null,
       "prefix": "",
       "rate": null,
       "total": 200,
       "unit": "it",
       "unit_divisor": 1000,
       "unit_scale": false
      },
      "application/vnd.jupyter.widget-view+json": {
       "model_id": "dec35bb7c603435c91b12ac2baf17389",
       "version_major": 2,
       "version_minor": 0
      },
      "text/plain": [
       "  0%|          | 0/200 [00:00<?, ?it/s]"
      ]
     },
     "metadata": {},
     "output_type": "display_data"
    },
    {
     "name": "stdout",
     "output_type": "stream",
     "text": [
      "Finished pretraining\n",
      "Starting main training...\n"
     ]
    },
    {
     "data": {
      "application/json": {
       "ascii": false,
       "bar_format": null,
       "colour": null,
       "elapsed": 0.00603938102722168,
       "initial": 0,
       "n": 0,
       "ncols": null,
       "nrows": null,
       "postfix": null,
       "prefix": "",
       "rate": null,
       "total": 2800,
       "unit": "it",
       "unit_divisor": 1000,
       "unit_scale": false
      },
      "application/vnd.jupyter.widget-view+json": {
       "model_id": "5c70445d1a074e8bbbbb4d385a9e9fbe",
       "version_major": 2,
       "version_minor": 0
      },
      "text/plain": [
       "  0%|          | 0/2800 [00:00<?, ?it/s]"
      ]
     },
     "metadata": {},
     "output_type": "display_data"
    },
    {
     "data": {
      "application/json": {
       "ascii": false,
       "bar_format": null,
       "colour": null,
       "elapsed": 0.0078008174896240234,
       "initial": 0,
       "n": 0,
       "ncols": null,
       "nrows": null,
       "postfix": null,
       "prefix": "",
       "rate": null,
       "total": 1000,
       "unit": "it",
       "unit_divisor": 1000,
       "unit_scale": false
      },
      "application/vnd.jupyter.widget-view+json": {
       "model_id": "a38720ff2dbd414491b209c80377f08d",
       "version_major": 2,
       "version_minor": 0
      },
      "text/plain": [
       "  0%|          | 0/1000 [00:00<?, ?it/s]"
      ]
     },
     "metadata": {},
     "output_type": "display_data"
    },
    {
     "name": "stdout",
     "output_type": "stream",
     "text": [
      "[1000:92] Found new best fairness of 0.078770\n",
      "[1000:144] Found new best fairness of 0.072817\n",
      "[1000:175] Found new best fairness of 0.057738\n",
      "[1000:296] Found new best fairness of 0.031151\n",
      "[1000:430] Found new best fairness of 0.029167\n",
      "[1000:451] Found new best fairness of 0.011508\n"
     ]
    },
    {
     "data": {
      "application/json": {
       "ascii": false,
       "bar_format": null,
       "colour": null,
       "elapsed": 0.008124589920043945,
       "initial": 0,
       "n": 0,
       "ncols": null,
       "nrows": null,
       "postfix": null,
       "prefix": "",
       "rate": null,
       "total": 1000,
       "unit": "it",
       "unit_divisor": 1000,
       "unit_scale": false
      },
      "application/vnd.jupyter.widget-view+json": {
       "model_id": "d1262e97b495485fa2b45d069cd78fb5",
       "version_major": 2,
       "version_minor": 0
      },
      "text/plain": [
       "  0%|          | 0/1000 [00:00<?, ?it/s]"
      ]
     },
     "metadata": {},
     "output_type": "display_data"
    },
    {
     "data": {
      "application/json": {
       "ascii": false,
       "bar_format": null,
       "colour": null,
       "elapsed": 0.007955551147460938,
       "initial": 0,
       "n": 0,
       "ncols": null,
       "nrows": null,
       "postfix": null,
       "prefix": "",
       "rate": null,
       "total": 1000,
       "unit": "it",
       "unit_divisor": 1000,
       "unit_scale": false
      },
      "application/vnd.jupyter.widget-view+json": {
       "model_id": "5484c747e2cc43b4aff9f90c9e6d63a6",
       "version_major": 2,
       "version_minor": 0
      },
      "text/plain": [
       "  0%|          | 0/1000 [00:00<?, ?it/s]"
      ]
     },
     "metadata": {},
     "output_type": "display_data"
    },
    {
     "data": {
      "application/json": {
       "ascii": false,
       "bar_format": null,
       "colour": null,
       "elapsed": 0.007268428802490234,
       "initial": 0,
       "n": 0,
       "ncols": null,
       "nrows": null,
       "postfix": null,
       "prefix": "",
       "rate": null,
       "total": 1000,
       "unit": "it",
       "unit_divisor": 1000,
       "unit_scale": false
      },
      "application/vnd.jupyter.widget-view+json": {
       "model_id": "600ea9700df34f12a94fa5dc85ae5168",
       "version_major": 2,
       "version_minor": 0
      },
      "text/plain": [
       "  0%|          | 0/1000 [00:00<?, ?it/s]"
      ]
     },
     "metadata": {},
     "output_type": "display_data"
    },
    {
     "data": {
      "application/json": {
       "ascii": false,
       "bar_format": null,
       "colour": null,
       "elapsed": 0.0070078372955322266,
       "initial": 0,
       "n": 0,
       "ncols": null,
       "nrows": null,
       "postfix": null,
       "prefix": "",
       "rate": null,
       "total": 1000,
       "unit": "it",
       "unit_divisor": 1000,
       "unit_scale": false
      },
      "application/vnd.jupyter.widget-view+json": {
       "model_id": "de46450af0fc482abfa44e631e396a69",
       "version_major": 2,
       "version_minor": 0
      },
      "text/plain": [
       "  0%|          | 0/1000 [00:00<?, ?it/s]"
      ]
     },
     "metadata": {},
     "output_type": "display_data"
    },
    {
     "data": {
      "application/json": {
       "ascii": false,
       "bar_format": null,
       "colour": null,
       "elapsed": 0.007439136505126953,
       "initial": 0,
       "n": 0,
       "ncols": null,
       "nrows": null,
       "postfix": null,
       "prefix": "",
       "rate": null,
       "total": 1000,
       "unit": "it",
       "unit_divisor": 1000,
       "unit_scale": false
      },
      "application/vnd.jupyter.widget-view+json": {
       "model_id": "ec2258af94e94fffb65ef594565a0bee",
       "version_major": 2,
       "version_minor": 0
      },
      "text/plain": [
       "  0%|          | 0/1000 [00:00<?, ?it/s]"
      ]
     },
     "metadata": {},
     "output_type": "display_data"
    },
    {
     "data": {
      "application/json": {
       "ascii": false,
       "bar_format": null,
       "colour": null,
       "elapsed": 0.006968259811401367,
       "initial": 0,
       "n": 0,
       "ncols": null,
       "nrows": null,
       "postfix": null,
       "prefix": "",
       "rate": null,
       "total": 1000,
       "unit": "it",
       "unit_divisor": 1000,
       "unit_scale": false
      },
      "application/vnd.jupyter.widget-view+json": {
       "model_id": "dfa89ea05ee342c79b28ffa0f9ef75de",
       "version_major": 2,
       "version_minor": 0
      },
      "text/plain": [
       "  0%|          | 0/1000 [00:00<?, ?it/s]"
      ]
     },
     "metadata": {},
     "output_type": "display_data"
    },
    {
     "data": {
      "application/json": {
       "ascii": false,
       "bar_format": null,
       "colour": null,
       "elapsed": 0.007489919662475586,
       "initial": 0,
       "n": 0,
       "ncols": null,
       "nrows": null,
       "postfix": null,
       "prefix": "",
       "rate": null,
       "total": 1000,
       "unit": "it",
       "unit_divisor": 1000,
       "unit_scale": false
      },
      "application/vnd.jupyter.widget-view+json": {
       "model_id": "414d5035341c46e6b8653f956d96552a",
       "version_major": 2,
       "version_minor": 0
      },
      "text/plain": [
       "  0%|          | 0/1000 [00:00<?, ?it/s]"
      ]
     },
     "metadata": {},
     "output_type": "display_data"
    },
    {
     "data": {
      "application/json": {
       "ascii": false,
       "bar_format": null,
       "colour": null,
       "elapsed": 0.007530927658081055,
       "initial": 0,
       "n": 0,
       "ncols": null,
       "nrows": null,
       "postfix": null,
       "prefix": "",
       "rate": null,
       "total": 1000,
       "unit": "it",
       "unit_divisor": 1000,
       "unit_scale": false
      },
      "application/vnd.jupyter.widget-view+json": {
       "model_id": "7cd21cba499a4cdf899f14811024b8ae",
       "version_major": 2,
       "version_minor": 0
      },
      "text/plain": [
       "  0%|          | 0/1000 [00:00<?, ?it/s]"
      ]
     },
     "metadata": {},
     "output_type": "display_data"
    },
    {
     "data": {
      "application/json": {
       "ascii": false,
       "bar_format": null,
       "colour": null,
       "elapsed": 0.006958961486816406,
       "initial": 0,
       "n": 0,
       "ncols": null,
       "nrows": null,
       "postfix": null,
       "prefix": "",
       "rate": null,
       "total": 1000,
       "unit": "it",
       "unit_divisor": 1000,
       "unit_scale": false
      },
      "application/vnd.jupyter.widget-view+json": {
       "model_id": "f5ae4a698e884b04ab40367413b63306",
       "version_major": 2,
       "version_minor": 0
      },
      "text/plain": [
       "  0%|          | 0/1000 [00:00<?, ?it/s]"
      ]
     },
     "metadata": {},
     "output_type": "display_data"
    },
    {
     "name": "stdout",
     "output_type": "stream",
     "text": [
      "Finished training!\n",
      "Best epoch: 1000\n",
      "tensor([-4.1650, -3.9741, -3.9671, -3.0055, -0.5567,  0.0794, -4.1942, -2.8336,\n",
      "        -4.3613, -5.0606, -5.2309, -3.3320, -0.0258, -4.4167,  0.0771, -3.4939,\n",
      "        -3.1440, -4.6531,  0.3392, -5.7082, -3.1211, -4.3194, -3.6514, -3.0521,\n",
      "        -3.4431, -4.7045, -5.3864, -0.5877, -3.2054,  0.1816, -3.4021, -0.6528,\n",
      "        -4.0278, -3.0945, -0.0438, -3.8240, -2.8476, -3.4274, -0.7892, -3.2998,\n",
      "        -4.6641, -0.9627, -3.9091,  0.3943, -2.2297, -3.7698, -4.4376, -0.5515,\n",
      "        -4.4126, -4.3363, -0.1406, -2.3559, -3.5710, -4.1491, -0.5403, -4.5526,\n",
      "        -2.6630, -3.8072, -4.5651, -3.1471, -2.0527,  0.2896,  0.0086, -3.9071,\n",
      "        -4.3088, -4.5577, -4.2698, -4.1835, -0.2707, -4.9391, -3.6077, -4.4153,\n",
      "        -0.4474, -3.2841,  0.0683, -0.7455, -3.1316, -4.9499, -3.8191, -2.9402,\n",
      "        -5.1451,  0.1717, -3.3552, -0.2961, -2.9699, -4.1255, -2.9561, -3.6933,\n",
      "        -0.1685, -4.3381,  0.0078, -2.9287, -6.1819, -3.2678,  0.3961, -4.0833,\n",
      "        -0.2083, -4.4091, -4.7482, -3.9409, -3.8763, -3.0017, -3.9416, -2.6106,\n",
      "        -4.9066, -3.3976, -4.5658, -4.0928, -4.2088, -0.3477, -4.2692, -3.8327,\n",
      "        -3.7255, -3.5893, -3.8576, -4.0704, -3.6328, -3.2623, -4.2090, -3.7998,\n",
      "        -3.5890, -2.9069, -3.0567, -3.9640, -4.7695, -4.0091, -3.4645, -0.4707],\n",
      "       device='cuda:2')\n",
      "\n",
      "Best fair model:\n",
      "\tacc: 0.6962\n",
      "\troc: 0.8100\n",
      "\tparity: 0.0060\n",
      "\tequality: 0.0056\n",
      "\tconsistency: 0.0704\n",
      "\n",
      "Best acc model:\n",
      "\tacc: 0.7848\n",
      "\troc: 0.8203\n",
      "\tparity: 0.1478\n",
      "\tequality: 0.1222\n",
      "\n",
      "Best auc model:\n",
      "\tacc: 0.5443\n",
      "\troc: 0.8659\n",
      "\tparity: 0.0794\n",
      "\tequality: 0.1389\n",
      "===========================\n",
      "Running nba_fair_ac_betas using seed 41\n",
      "Log directory: /home/fact21/fact_refactor/experiments/fair_ac/logs/nba/nba_fair_ac_betas_41_lambda2_0.2\n",
      "Params: {'lambda2': 0.2}\n",
      "===========================\n",
      "Created FairAC model with 1 sensitive class\n",
      "Created trainer with GCN model, using log_dir: /home/fact21/fact_refactor/experiments/fair_ac/logs/nba/nba_fair_ac_betas_41_lambda2_0.2\n",
      "Starting pre-training phase\n"
     ]
    },
    {
     "data": {
      "application/json": {
       "ascii": false,
       "bar_format": null,
       "colour": null,
       "elapsed": 0.008765220642089844,
       "initial": 0,
       "n": 0,
       "ncols": null,
       "nrows": null,
       "postfix": null,
       "prefix": "",
       "rate": null,
       "total": 200,
       "unit": "it",
       "unit_divisor": 1000,
       "unit_scale": false
      },
      "application/vnd.jupyter.widget-view+json": {
       "model_id": "a86570a3c6574bf6ba7ebf915fabb31d",
       "version_major": 2,
       "version_minor": 0
      },
      "text/plain": [
       "  0%|          | 0/200 [00:00<?, ?it/s]"
      ]
     },
     "metadata": {},
     "output_type": "display_data"
    },
    {
     "name": "stdout",
     "output_type": "stream",
     "text": [
      "Finished pretraining\n",
      "Starting main training...\n"
     ]
    },
    {
     "data": {
      "application/json": {
       "ascii": false,
       "bar_format": null,
       "colour": null,
       "elapsed": 0.005671262741088867,
       "initial": 0,
       "n": 0,
       "ncols": null,
       "nrows": null,
       "postfix": null,
       "prefix": "",
       "rate": null,
       "total": 2800,
       "unit": "it",
       "unit_divisor": 1000,
       "unit_scale": false
      },
      "application/vnd.jupyter.widget-view+json": {
       "model_id": "4d750266783a4ac09db9786e0868e9fe",
       "version_major": 2,
       "version_minor": 0
      },
      "text/plain": [
       "  0%|          | 0/2800 [00:00<?, ?it/s]"
      ]
     },
     "metadata": {},
     "output_type": "display_data"
    },
    {
     "data": {
      "application/json": {
       "ascii": false,
       "bar_format": null,
       "colour": null,
       "elapsed": 0.00746464729309082,
       "initial": 0,
       "n": 0,
       "ncols": null,
       "nrows": null,
       "postfix": null,
       "prefix": "",
       "rate": null,
       "total": 1000,
       "unit": "it",
       "unit_divisor": 1000,
       "unit_scale": false
      },
      "application/vnd.jupyter.widget-view+json": {
       "model_id": "1bd719452aaa4506be9376a1c0ac69e7",
       "version_major": 2,
       "version_minor": 0
      },
      "text/plain": [
       "  0%|          | 0/1000 [00:00<?, ?it/s]"
      ]
     },
     "metadata": {},
     "output_type": "display_data"
    },
    {
     "name": "stdout",
     "output_type": "stream",
     "text": [
      "[1000:93] Found new best fairness of 0.090675\n",
      "[1000:150] Found new best fairness of 0.056944\n",
      "[1000:389] Found new best fairness of 0.054167\n",
      "[1000:459] Found new best fairness of 0.027381\n",
      "[1000:581] Found new best fairness of 0.012500\n"
     ]
    },
    {
     "data": {
      "application/json": {
       "ascii": false,
       "bar_format": null,
       "colour": null,
       "elapsed": 0.0073926448822021484,
       "initial": 0,
       "n": 0,
       "ncols": null,
       "nrows": null,
       "postfix": null,
       "prefix": "",
       "rate": null,
       "total": 1000,
       "unit": "it",
       "unit_divisor": 1000,
       "unit_scale": false
      },
      "application/vnd.jupyter.widget-view+json": {
       "model_id": "6a1dd29134564e008eea4d663df15b3c",
       "version_major": 2,
       "version_minor": 0
      },
      "text/plain": [
       "  0%|          | 0/1000 [00:00<?, ?it/s]"
      ]
     },
     "metadata": {},
     "output_type": "display_data"
    },
    {
     "name": "stdout",
     "output_type": "stream",
     "text": [
      "[1200:852] Found new best fairness of 0.011508\n"
     ]
    },
    {
     "data": {
      "application/json": {
       "ascii": false,
       "bar_format": null,
       "colour": null,
       "elapsed": 0.016893863677978516,
       "initial": 0,
       "n": 0,
       "ncols": null,
       "nrows": null,
       "postfix": null,
       "prefix": "",
       "rate": null,
       "total": 1000,
       "unit": "it",
       "unit_divisor": 1000,
       "unit_scale": false
      },
      "application/vnd.jupyter.widget-view+json": {
       "model_id": "0167be7e6c2f427cb63b72baac708653",
       "version_major": 2,
       "version_minor": 0
      },
      "text/plain": [
       "  0%|          | 0/1000 [00:00<?, ?it/s]"
      ]
     },
     "metadata": {},
     "output_type": "display_data"
    },
    {
     "data": {
      "application/json": {
       "ascii": false,
       "bar_format": null,
       "colour": null,
       "elapsed": 0.007279872894287109,
       "initial": 0,
       "n": 0,
       "ncols": null,
       "nrows": null,
       "postfix": null,
       "prefix": "",
       "rate": null,
       "total": 1000,
       "unit": "it",
       "unit_divisor": 1000,
       "unit_scale": false
      },
      "application/vnd.jupyter.widget-view+json": {
       "model_id": "0fbc3a18479f4ec38cd9a06bd5f8e520",
       "version_major": 2,
       "version_minor": 0
      },
      "text/plain": [
       "  0%|          | 0/1000 [00:00<?, ?it/s]"
      ]
     },
     "metadata": {},
     "output_type": "display_data"
    },
    {
     "data": {
      "application/json": {
       "ascii": false,
       "bar_format": null,
       "colour": null,
       "elapsed": 0.007494211196899414,
       "initial": 0,
       "n": 0,
       "ncols": null,
       "nrows": null,
       "postfix": null,
       "prefix": "",
       "rate": null,
       "total": 1000,
       "unit": "it",
       "unit_divisor": 1000,
       "unit_scale": false
      },
      "application/vnd.jupyter.widget-view+json": {
       "model_id": "3ff6af3efe604cbe896535c44b96a402",
       "version_major": 2,
       "version_minor": 0
      },
      "text/plain": [
       "  0%|          | 0/1000 [00:00<?, ?it/s]"
      ]
     },
     "metadata": {},
     "output_type": "display_data"
    },
    {
     "data": {
      "application/json": {
       "ascii": false,
       "bar_format": null,
       "colour": null,
       "elapsed": 0.007522106170654297,
       "initial": 0,
       "n": 0,
       "ncols": null,
       "nrows": null,
       "postfix": null,
       "prefix": "",
       "rate": null,
       "total": 1000,
       "unit": "it",
       "unit_divisor": 1000,
       "unit_scale": false
      },
      "application/vnd.jupyter.widget-view+json": {
       "model_id": "edec80525bb04228b8d8bed4f2b178f1",
       "version_major": 2,
       "version_minor": 0
      },
      "text/plain": [
       "  0%|          | 0/1000 [00:00<?, ?it/s]"
      ]
     },
     "metadata": {},
     "output_type": "display_data"
    },
    {
     "data": {
      "application/json": {
       "ascii": false,
       "bar_format": null,
       "colour": null,
       "elapsed": 0.007450103759765625,
       "initial": 0,
       "n": 0,
       "ncols": null,
       "nrows": null,
       "postfix": null,
       "prefix": "",
       "rate": null,
       "total": 1000,
       "unit": "it",
       "unit_divisor": 1000,
       "unit_scale": false
      },
      "application/vnd.jupyter.widget-view+json": {
       "model_id": "42d81f69421e4ccbad3440aaf94f32a1",
       "version_major": 2,
       "version_minor": 0
      },
      "text/plain": [
       "  0%|          | 0/1000 [00:00<?, ?it/s]"
      ]
     },
     "metadata": {},
     "output_type": "display_data"
    },
    {
     "data": {
      "application/json": {
       "ascii": false,
       "bar_format": null,
       "colour": null,
       "elapsed": 0.00932931900024414,
       "initial": 0,
       "n": 0,
       "ncols": null,
       "nrows": null,
       "postfix": null,
       "prefix": "",
       "rate": null,
       "total": 1000,
       "unit": "it",
       "unit_divisor": 1000,
       "unit_scale": false
      },
      "application/vnd.jupyter.widget-view+json": {
       "model_id": "f2910ebbe84146da99e88fa1ba831f89",
       "version_major": 2,
       "version_minor": 0
      },
      "text/plain": [
       "  0%|          | 0/1000 [00:00<?, ?it/s]"
      ]
     },
     "metadata": {},
     "output_type": "display_data"
    },
    {
     "data": {
      "application/json": {
       "ascii": false,
       "bar_format": null,
       "colour": null,
       "elapsed": 0.0075800418853759766,
       "initial": 0,
       "n": 0,
       "ncols": null,
       "nrows": null,
       "postfix": null,
       "prefix": "",
       "rate": null,
       "total": 1000,
       "unit": "it",
       "unit_divisor": 1000,
       "unit_scale": false
      },
      "application/vnd.jupyter.widget-view+json": {
       "model_id": "22c2a79383394e90bdd477457b4ee945",
       "version_major": 2,
       "version_minor": 0
      },
      "text/plain": [
       "  0%|          | 0/1000 [00:00<?, ?it/s]"
      ]
     },
     "metadata": {},
     "output_type": "display_data"
    },
    {
     "data": {
      "application/json": {
       "ascii": false,
       "bar_format": null,
       "colour": null,
       "elapsed": 0.007227897644042969,
       "initial": 0,
       "n": 0,
       "ncols": null,
       "nrows": null,
       "postfix": null,
       "prefix": "",
       "rate": null,
       "total": 1000,
       "unit": "it",
       "unit_divisor": 1000,
       "unit_scale": false
      },
      "application/vnd.jupyter.widget-view+json": {
       "model_id": "823d2c6868be480f8414408b55748a1d",
       "version_major": 2,
       "version_minor": 0
      },
      "text/plain": [
       "  0%|          | 0/1000 [00:00<?, ?it/s]"
      ]
     },
     "metadata": {},
     "output_type": "display_data"
    },
    {
     "name": "stdout",
     "output_type": "stream",
     "text": [
      "Finished training!\n",
      "Best epoch: 1200\n",
      "tensor([-4.2380e+00, -4.1263e+00, -3.8979e+00, -3.0520e+00, -5.7982e-01,\n",
      "        -1.9494e-01, -4.2912e+00, -2.8716e+00, -4.2976e+00, -5.0310e+00,\n",
      "        -5.2881e+00, -3.3438e+00, -3.1295e-02, -4.4746e+00,  1.3065e-01,\n",
      "        -3.4565e+00, -3.2803e+00, -4.6324e+00,  3.9378e-01, -5.7111e+00,\n",
      "        -3.2401e+00, -4.3403e+00, -3.7533e+00, -3.2134e+00, -3.5102e+00,\n",
      "        -4.7405e+00, -5.3929e+00, -6.1006e-01, -3.2447e+00,  1.7644e-01,\n",
      "        -3.5148e+00, -7.5581e-01, -4.1003e+00, -3.2159e+00, -2.0653e-02,\n",
      "        -3.8455e+00, -2.9993e+00, -3.4572e+00, -7.6337e-01, -3.3868e+00,\n",
      "        -4.6897e+00, -2.9388e-01, -3.9591e+00,  3.3461e-01, -2.1019e+00,\n",
      "        -3.7846e+00, -4.5013e+00, -6.0728e-01, -4.4679e+00, -4.3198e+00,\n",
      "        -2.1207e-01, -2.4495e+00, -3.5885e+00, -4.2338e+00, -6.6291e-01,\n",
      "        -4.5236e+00, -2.7405e+00, -3.8862e+00, -4.6934e+00, -3.2735e+00,\n",
      "        -2.1418e+00,  3.9090e-01, -8.0877e-03, -3.8732e+00, -4.3816e+00,\n",
      "        -4.6028e+00, -4.3681e+00, -4.2230e+00, -3.2475e-01, -5.0190e+00,\n",
      "        -3.6028e+00, -4.4041e+00, -4.9987e-01, -3.3696e+00,  9.6054e-02,\n",
      "        -8.3656e-01, -3.3281e+00, -4.8593e+00, -3.9884e+00, -3.0355e+00,\n",
      "        -5.2028e+00,  1.7935e-01, -3.4305e+00, -1.2667e-01, -3.0084e+00,\n",
      "        -4.1059e+00, -3.0604e+00, -3.7400e+00, -1.9640e-01, -4.3643e+00,\n",
      "        -3.1834e-03, -3.1447e+00, -6.3470e+00, -3.3649e+00,  4.8287e-01,\n",
      "        -4.1679e+00, -2.3037e-01, -4.4985e+00, -4.7147e+00, -4.0780e+00,\n",
      "        -4.0650e+00, -3.1292e+00, -4.0435e+00, -2.7488e+00, -4.9699e+00,\n",
      "        -3.4342e+00, -4.6927e+00, -4.1840e+00, -4.2592e+00, -4.9034e-01,\n",
      "        -4.2010e+00, -3.9170e+00, -3.6882e+00, -3.5990e+00, -3.8958e+00,\n",
      "        -4.1009e+00, -3.7034e+00, -3.3041e+00, -4.1952e+00, -3.7186e+00,\n",
      "        -3.6409e+00, -3.0314e+00, -3.2230e+00, -4.0385e+00, -4.7909e+00,\n",
      "        -3.9933e+00, -3.5142e+00, -7.5188e-01], device='cuda:2')\n",
      "\n",
      "Best fair model:\n",
      "\tacc: 0.6962\n",
      "\troc: 0.7965\n",
      "\tparity: 0.0060\n",
      "\tequality: 0.0056\n",
      "\tconsistency: 0.0704\n",
      "\n",
      "Best acc model:\n",
      "\tacc: 0.7975\n",
      "\troc: 0.8434\n",
      "\tparity: 0.1954\n",
      "\tequality: 0.1778\n",
      "\n",
      "Best auc model:\n",
      "\tacc: 0.4810\n",
      "\troc: 0.8691\n",
      "\tparity: 0.0000\n",
      "\tequality: 0.0000\n",
      "===========================\n",
      "Running nba_fair_ac_betas using seed 41\n",
      "Log directory: /home/fact21/fact_refactor/experiments/fair_ac/logs/nba/nba_fair_ac_betas_41_lambda2_0.4\n",
      "Params: {'lambda2': 0.4}\n",
      "===========================\n",
      "Created FairAC model with 1 sensitive class\n",
      "Created trainer with GCN model, using log_dir: /home/fact21/fact_refactor/experiments/fair_ac/logs/nba/nba_fair_ac_betas_41_lambda2_0.4\n",
      "Starting pre-training phase\n"
     ]
    },
    {
     "data": {
      "application/json": {
       "ascii": false,
       "bar_format": null,
       "colour": null,
       "elapsed": 0.008696794509887695,
       "initial": 0,
       "n": 0,
       "ncols": null,
       "nrows": null,
       "postfix": null,
       "prefix": "",
       "rate": null,
       "total": 200,
       "unit": "it",
       "unit_divisor": 1000,
       "unit_scale": false
      },
      "application/vnd.jupyter.widget-view+json": {
       "model_id": "314195da03bd4b41b7c06b9f078a694c",
       "version_major": 2,
       "version_minor": 0
      },
      "text/plain": [
       "  0%|          | 0/200 [00:00<?, ?it/s]"
      ]
     },
     "metadata": {},
     "output_type": "display_data"
    },
    {
     "name": "stdout",
     "output_type": "stream",
     "text": [
      "Finished pretraining\n",
      "Starting main training...\n"
     ]
    },
    {
     "data": {
      "application/json": {
       "ascii": false,
       "bar_format": null,
       "colour": null,
       "elapsed": 0.006148815155029297,
       "initial": 0,
       "n": 0,
       "ncols": null,
       "nrows": null,
       "postfix": null,
       "prefix": "",
       "rate": null,
       "total": 2800,
       "unit": "it",
       "unit_divisor": 1000,
       "unit_scale": false
      },
      "application/vnd.jupyter.widget-view+json": {
       "model_id": "80bb8d26bd5f408c9b2d4f2c30f78ed2",
       "version_major": 2,
       "version_minor": 0
      },
      "text/plain": [
       "  0%|          | 0/2800 [00:00<?, ?it/s]"
      ]
     },
     "metadata": {},
     "output_type": "display_data"
    },
    {
     "data": {
      "application/json": {
       "ascii": false,
       "bar_format": null,
       "colour": null,
       "elapsed": 0.006521701812744141,
       "initial": 0,
       "n": 0,
       "ncols": null,
       "nrows": null,
       "postfix": null,
       "prefix": "",
       "rate": null,
       "total": 1000,
       "unit": "it",
       "unit_divisor": 1000,
       "unit_scale": false
      },
      "application/vnd.jupyter.widget-view+json": {
       "model_id": "526ea9010f3a4edba8ff14585032fc5a",
       "version_major": 2,
       "version_minor": 0
      },
      "text/plain": [
       "  0%|          | 0/1000 [00:00<?, ?it/s]"
      ]
     },
     "metadata": {},
     "output_type": "display_data"
    },
    {
     "name": "stdout",
     "output_type": "stream",
     "text": [
      "[1000:93] Found new best fairness of 0.129365\n",
      "[1000:140] Found new best fairness of 0.084722\n",
      "[1000:155] Found new best fairness of 0.011508\n"
     ]
    },
    {
     "data": {
      "application/json": {
       "ascii": false,
       "bar_format": null,
       "colour": null,
       "elapsed": 0.00716853141784668,
       "initial": 0,
       "n": 0,
       "ncols": null,
       "nrows": null,
       "postfix": null,
       "prefix": "",
       "rate": null,
       "total": 1000,
       "unit": "it",
       "unit_divisor": 1000,
       "unit_scale": false
      },
      "application/vnd.jupyter.widget-view+json": {
       "model_id": "fe1c715526d5456eb1de3492633f8d9e",
       "version_major": 2,
       "version_minor": 0
      },
      "text/plain": [
       "  0%|          | 0/1000 [00:00<?, ?it/s]"
      ]
     },
     "metadata": {},
     "output_type": "display_data"
    },
    {
     "data": {
      "application/json": {
       "ascii": false,
       "bar_format": null,
       "colour": null,
       "elapsed": 0.007226467132568359,
       "initial": 0,
       "n": 0,
       "ncols": null,
       "nrows": null,
       "postfix": null,
       "prefix": "",
       "rate": null,
       "total": 1000,
       "unit": "it",
       "unit_divisor": 1000,
       "unit_scale": false
      },
      "application/vnd.jupyter.widget-view+json": {
       "model_id": "c4580e342330490b98976a638322104c",
       "version_major": 2,
       "version_minor": 0
      },
      "text/plain": [
       "  0%|          | 0/1000 [00:00<?, ?it/s]"
      ]
     },
     "metadata": {},
     "output_type": "display_data"
    },
    {
     "data": {
      "application/json": {
       "ascii": false,
       "bar_format": null,
       "colour": null,
       "elapsed": 0.006600856781005859,
       "initial": 0,
       "n": 0,
       "ncols": null,
       "nrows": null,
       "postfix": null,
       "prefix": "",
       "rate": null,
       "total": 1000,
       "unit": "it",
       "unit_divisor": 1000,
       "unit_scale": false
      },
      "application/vnd.jupyter.widget-view+json": {
       "model_id": "0668a595ed9a4a1892f78d4b30982c01",
       "version_major": 2,
       "version_minor": 0
      },
      "text/plain": [
       "  0%|          | 0/1000 [00:00<?, ?it/s]"
      ]
     },
     "metadata": {},
     "output_type": "display_data"
    },
    {
     "data": {
      "application/json": {
       "ascii": false,
       "bar_format": null,
       "colour": null,
       "elapsed": 0.0072574615478515625,
       "initial": 0,
       "n": 0,
       "ncols": null,
       "nrows": null,
       "postfix": null,
       "prefix": "",
       "rate": null,
       "total": 1000,
       "unit": "it",
       "unit_divisor": 1000,
       "unit_scale": false
      },
      "application/vnd.jupyter.widget-view+json": {
       "model_id": "d8eb5c2d81cb4ce8909eb84310e4f52f",
       "version_major": 2,
       "version_minor": 0
      },
      "text/plain": [
       "  0%|          | 0/1000 [00:00<?, ?it/s]"
      ]
     },
     "metadata": {},
     "output_type": "display_data"
    },
    {
     "data": {
      "application/json": {
       "ascii": false,
       "bar_format": null,
       "colour": null,
       "elapsed": 0.00726008415222168,
       "initial": 0,
       "n": 0,
       "ncols": null,
       "nrows": null,
       "postfix": null,
       "prefix": "",
       "rate": null,
       "total": 1000,
       "unit": "it",
       "unit_divisor": 1000,
       "unit_scale": false
      },
      "application/vnd.jupyter.widget-view+json": {
       "model_id": "20bd05b145f04a7cb4387dac3506f1f6",
       "version_major": 2,
       "version_minor": 0
      },
      "text/plain": [
       "  0%|          | 0/1000 [00:00<?, ?it/s]"
      ]
     },
     "metadata": {},
     "output_type": "display_data"
    },
    {
     "data": {
      "application/json": {
       "ascii": false,
       "bar_format": null,
       "colour": null,
       "elapsed": 0.0065920352935791016,
       "initial": 0,
       "n": 0,
       "ncols": null,
       "nrows": null,
       "postfix": null,
       "prefix": "",
       "rate": null,
       "total": 1000,
       "unit": "it",
       "unit_divisor": 1000,
       "unit_scale": false
      },
      "application/vnd.jupyter.widget-view+json": {
       "model_id": "036b66a908244732bfdfc6532157a1f9",
       "version_major": 2,
       "version_minor": 0
      },
      "text/plain": [
       "  0%|          | 0/1000 [00:00<?, ?it/s]"
      ]
     },
     "metadata": {},
     "output_type": "display_data"
    },
    {
     "data": {
      "application/json": {
       "ascii": false,
       "bar_format": null,
       "colour": null,
       "elapsed": 0.007220029830932617,
       "initial": 0,
       "n": 0,
       "ncols": null,
       "nrows": null,
       "postfix": null,
       "prefix": "",
       "rate": null,
       "total": 1000,
       "unit": "it",
       "unit_divisor": 1000,
       "unit_scale": false
      },
      "application/vnd.jupyter.widget-view+json": {
       "model_id": "7eb0431362b64c4cb048f34f6042a349",
       "version_major": 2,
       "version_minor": 0
      },
      "text/plain": [
       "  0%|          | 0/1000 [00:00<?, ?it/s]"
      ]
     },
     "metadata": {},
     "output_type": "display_data"
    },
    {
     "data": {
      "application/json": {
       "ascii": false,
       "bar_format": null,
       "colour": null,
       "elapsed": 0.007856130599975586,
       "initial": 0,
       "n": 0,
       "ncols": null,
       "nrows": null,
       "postfix": null,
       "prefix": "",
       "rate": null,
       "total": 1000,
       "unit": "it",
       "unit_divisor": 1000,
       "unit_scale": false
      },
      "application/vnd.jupyter.widget-view+json": {
       "model_id": "94587aca36df4f43a3d94b3f1520a363",
       "version_major": 2,
       "version_minor": 0
      },
      "text/plain": [
       "  0%|          | 0/1000 [00:00<?, ?it/s]"
      ]
     },
     "metadata": {},
     "output_type": "display_data"
    },
    {
     "data": {
      "application/json": {
       "ascii": false,
       "bar_format": null,
       "colour": null,
       "elapsed": 0.007711887359619141,
       "initial": 0,
       "n": 0,
       "ncols": null,
       "nrows": null,
       "postfix": null,
       "prefix": "",
       "rate": null,
       "total": 1000,
       "unit": "it",
       "unit_divisor": 1000,
       "unit_scale": false
      },
      "application/vnd.jupyter.widget-view+json": {
       "model_id": "0997bbff40024d5da952e2cd7ca99ec6",
       "version_major": 2,
       "version_minor": 0
      },
      "text/plain": [
       "  0%|          | 0/1000 [00:00<?, ?it/s]"
      ]
     },
     "metadata": {},
     "output_type": "display_data"
    },
    {
     "name": "stdout",
     "output_type": "stream",
     "text": [
      "Finished training!\n",
      "Best epoch: 1000\n",
      "tensor([-4.2348, -4.1661, -3.8388, -3.0163, -0.5153, -0.5046, -4.2587, -2.8708,\n",
      "        -4.2512, -4.9908, -5.4270, -3.2575, -0.0381, -4.4352,  0.1105, -3.3269,\n",
      "        -3.1490, -4.5934,  0.3727, -5.7640, -3.1921, -4.2746, -3.6968, -3.1522,\n",
      "        -3.4321, -4.7691, -5.4349, -0.6074, -3.1696,  0.1780, -3.4869, -0.7125,\n",
      "        -4.0220, -3.1299, -0.0225, -3.8539, -2.7942, -3.4214, -0.7197, -3.3436,\n",
      "        -4.7231, -0.2171, -3.9305,  0.3271, -1.3715, -3.6830, -4.5164, -0.5650,\n",
      "        -4.4204, -4.2698, -0.2295, -2.3567, -3.5753, -4.2182, -0.5499, -4.5441,\n",
      "        -2.6666, -3.8864, -4.6293, -3.1978, -1.6894,  0.2925,  0.0152, -3.8394,\n",
      "        -4.4276, -4.6857, -4.3647, -4.2037, -0.3583, -5.0462, -3.5349, -4.4159,\n",
      "        -0.4960, -3.2883,  0.0718, -0.7255, -3.3204, -4.8881, -4.0249, -2.9928,\n",
      "        -5.2334,  0.2304, -3.3431, -0.2573, -2.9519, -4.0608, -3.0058, -3.6925,\n",
      "        -0.1182, -4.3416,  0.0097, -3.0430, -6.4086, -3.3098,  0.4505, -4.1844,\n",
      "        -0.2211, -4.5129, -4.7234, -4.0455, -4.1187, -3.0832, -3.9990, -2.6167,\n",
      "        -5.0224, -3.3481, -4.7010, -4.2150, -4.2470, -0.9208, -4.1590, -3.8391,\n",
      "        -3.6678, -3.5271, -3.7965, -4.0802, -3.6867, -3.2412, -4.1598, -3.6618,\n",
      "        -3.5672, -2.9725, -3.1127, -3.9782, -4.8300, -3.9499, -3.4895, -0.7220],\n",
      "       device='cuda:2')\n",
      "\n",
      "Best fair model:\n",
      "\tacc: 0.6962\n",
      "\troc: 0.7805\n",
      "\tparity: 0.0060\n",
      "\tequality: 0.0056\n",
      "\tconsistency: 0.0704\n",
      "\n",
      "Best acc model:\n",
      "\tacc: 0.8101\n",
      "\troc: 0.8466\n",
      "\tparity: 0.0228\n",
      "\tequality: 0.2778\n",
      "\n",
      "Best auc model:\n",
      "\tacc: 0.5063\n",
      "\troc: 0.8684\n",
      "\tparity: 0.0317\n",
      "\tequality: 0.0556\n",
      "===========================\n",
      "Running nba_fair_ac_betas using seed 41\n",
      "Log directory: /home/fact21/fact_refactor/experiments/fair_ac/logs/nba/nba_fair_ac_betas_41_lambda2_0.7\n",
      "Params: {'lambda2': 0.7}\n",
      "===========================\n",
      "Created FairAC model with 1 sensitive class\n",
      "Created trainer with GCN model, using log_dir: /home/fact21/fact_refactor/experiments/fair_ac/logs/nba/nba_fair_ac_betas_41_lambda2_0.7\n",
      "Starting pre-training phase\n"
     ]
    },
    {
     "data": {
      "application/json": {
       "ascii": false,
       "bar_format": null,
       "colour": null,
       "elapsed": 0.008721113204956055,
       "initial": 0,
       "n": 0,
       "ncols": null,
       "nrows": null,
       "postfix": null,
       "prefix": "",
       "rate": null,
       "total": 200,
       "unit": "it",
       "unit_divisor": 1000,
       "unit_scale": false
      },
      "application/vnd.jupyter.widget-view+json": {
       "model_id": "b02f801c4d4b4ce7a62d25ca923950d6",
       "version_major": 2,
       "version_minor": 0
      },
      "text/plain": [
       "  0%|          | 0/200 [00:00<?, ?it/s]"
      ]
     },
     "metadata": {},
     "output_type": "display_data"
    },
    {
     "name": "stdout",
     "output_type": "stream",
     "text": [
      "Finished pretraining\n",
      "Starting main training...\n"
     ]
    },
    {
     "data": {
      "application/json": {
       "ascii": false,
       "bar_format": null,
       "colour": null,
       "elapsed": 0.005912065505981445,
       "initial": 0,
       "n": 0,
       "ncols": null,
       "nrows": null,
       "postfix": null,
       "prefix": "",
       "rate": null,
       "total": 2800,
       "unit": "it",
       "unit_divisor": 1000,
       "unit_scale": false
      },
      "application/vnd.jupyter.widget-view+json": {
       "model_id": "215eaca4074448c3a14d6279cf9f4635",
       "version_major": 2,
       "version_minor": 0
      },
      "text/plain": [
       "  0%|          | 0/2800 [00:00<?, ?it/s]"
      ]
     },
     "metadata": {},
     "output_type": "display_data"
    },
    {
     "data": {
      "application/json": {
       "ascii": false,
       "bar_format": null,
       "colour": null,
       "elapsed": 0.007857799530029297,
       "initial": 0,
       "n": 0,
       "ncols": null,
       "nrows": null,
       "postfix": null,
       "prefix": "",
       "rate": null,
       "total": 1000,
       "unit": "it",
       "unit_divisor": 1000,
       "unit_scale": false
      },
      "application/vnd.jupyter.widget-view+json": {
       "model_id": "3667a031d45a493887d6ad7cb5bb2614",
       "version_major": 2,
       "version_minor": 0
      },
      "text/plain": [
       "  0%|          | 0/1000 [00:00<?, ?it/s]"
      ]
     },
     "metadata": {},
     "output_type": "display_data"
    },
    {
     "name": "stdout",
     "output_type": "stream",
     "text": [
      "[1000:93] Found new best fairness of 0.074802\n",
      "[1000:174] Found new best fairness of 0.029167\n",
      "[1000:422] Found new best fairness of 0.028373\n"
     ]
    },
    {
     "data": {
      "application/json": {
       "ascii": false,
       "bar_format": null,
       "colour": null,
       "elapsed": 0.007360696792602539,
       "initial": 0,
       "n": 0,
       "ncols": null,
       "nrows": null,
       "postfix": null,
       "prefix": "",
       "rate": null,
       "total": 1000,
       "unit": "it",
       "unit_divisor": 1000,
       "unit_scale": false
      },
      "application/vnd.jupyter.widget-view+json": {
       "model_id": "7489173ae3f445c7b8c9a38bcfad7789",
       "version_major": 2,
       "version_minor": 0
      },
      "text/plain": [
       "  0%|          | 0/1000 [00:00<?, ?it/s]"
      ]
     },
     "metadata": {},
     "output_type": "display_data"
    },
    {
     "name": "stdout",
     "output_type": "stream",
     "text": [
      "[1200:344] Found new best fairness of 0.014484\n"
     ]
    },
    {
     "data": {
      "application/json": {
       "ascii": false,
       "bar_format": null,
       "colour": null,
       "elapsed": 0.006931304931640625,
       "initial": 0,
       "n": 0,
       "ncols": null,
       "nrows": null,
       "postfix": null,
       "prefix": "",
       "rate": null,
       "total": 1000,
       "unit": "it",
       "unit_divisor": 1000,
       "unit_scale": false
      },
      "application/vnd.jupyter.widget-view+json": {
       "model_id": "d47c7b0c550e4bebb51520a94ff7536d",
       "version_major": 2,
       "version_minor": 0
      },
      "text/plain": [
       "  0%|          | 0/1000 [00:00<?, ?it/s]"
      ]
     },
     "metadata": {},
     "output_type": "display_data"
    },
    {
     "data": {
      "application/json": {
       "ascii": false,
       "bar_format": null,
       "colour": null,
       "elapsed": 0.007212162017822266,
       "initial": 0,
       "n": 0,
       "ncols": null,
       "nrows": null,
       "postfix": null,
       "prefix": "",
       "rate": null,
       "total": 1000,
       "unit": "it",
       "unit_divisor": 1000,
       "unit_scale": false
      },
      "application/vnd.jupyter.widget-view+json": {
       "model_id": "faa1dc1acdfc4eedbad7d403b7d06a1c",
       "version_major": 2,
       "version_minor": 0
      },
      "text/plain": [
       "  0%|          | 0/1000 [00:00<?, ?it/s]"
      ]
     },
     "metadata": {},
     "output_type": "display_data"
    },
    {
     "data": {
      "application/json": {
       "ascii": false,
       "bar_format": null,
       "colour": null,
       "elapsed": 0.007299661636352539,
       "initial": 0,
       "n": 0,
       "ncols": null,
       "nrows": null,
       "postfix": null,
       "prefix": "",
       "rate": null,
       "total": 1000,
       "unit": "it",
       "unit_divisor": 1000,
       "unit_scale": false
      },
      "application/vnd.jupyter.widget-view+json": {
       "model_id": "3e0e6b558e4d410d810eb1b7f0275428",
       "version_major": 2,
       "version_minor": 0
      },
      "text/plain": [
       "  0%|          | 0/1000 [00:00<?, ?it/s]"
      ]
     },
     "metadata": {},
     "output_type": "display_data"
    },
    {
     "name": "stdout",
     "output_type": "stream",
     "text": [
      "[1800:258] Found new best fairness of 0.011508\n"
     ]
    },
    {
     "data": {
      "application/json": {
       "ascii": false,
       "bar_format": null,
       "colour": null,
       "elapsed": 0.007179737091064453,
       "initial": 0,
       "n": 0,
       "ncols": null,
       "nrows": null,
       "postfix": null,
       "prefix": "",
       "rate": null,
       "total": 1000,
       "unit": "it",
       "unit_divisor": 1000,
       "unit_scale": false
      },
      "application/vnd.jupyter.widget-view+json": {
       "model_id": "7478a35aac084788b07d10ebb17823c6",
       "version_major": 2,
       "version_minor": 0
      },
      "text/plain": [
       "  0%|          | 0/1000 [00:00<?, ?it/s]"
      ]
     },
     "metadata": {},
     "output_type": "display_data"
    },
    {
     "data": {
      "application/json": {
       "ascii": false,
       "bar_format": null,
       "colour": null,
       "elapsed": 0.006110191345214844,
       "initial": 0,
       "n": 0,
       "ncols": null,
       "nrows": null,
       "postfix": null,
       "prefix": "",
       "rate": null,
       "total": 1000,
       "unit": "it",
       "unit_divisor": 1000,
       "unit_scale": false
      },
      "application/vnd.jupyter.widget-view+json": {
       "model_id": "f2b7b0c94d214829ad3eb54ace49060e",
       "version_major": 2,
       "version_minor": 0
      },
      "text/plain": [
       "  0%|          | 0/1000 [00:00<?, ?it/s]"
      ]
     },
     "metadata": {},
     "output_type": "display_data"
    },
    {
     "data": {
      "application/json": {
       "ascii": false,
       "bar_format": null,
       "colour": null,
       "elapsed": 0.007333517074584961,
       "initial": 0,
       "n": 0,
       "ncols": null,
       "nrows": null,
       "postfix": null,
       "prefix": "",
       "rate": null,
       "total": 1000,
       "unit": "it",
       "unit_divisor": 1000,
       "unit_scale": false
      },
      "application/vnd.jupyter.widget-view+json": {
       "model_id": "206d2fa1a008439682fc732fe4a76ca8",
       "version_major": 2,
       "version_minor": 0
      },
      "text/plain": [
       "  0%|          | 0/1000 [00:00<?, ?it/s]"
      ]
     },
     "metadata": {},
     "output_type": "display_data"
    },
    {
     "data": {
      "application/json": {
       "ascii": false,
       "bar_format": null,
       "colour": null,
       "elapsed": 0.007173299789428711,
       "initial": 0,
       "n": 0,
       "ncols": null,
       "nrows": null,
       "postfix": null,
       "prefix": "",
       "rate": null,
       "total": 1000,
       "unit": "it",
       "unit_divisor": 1000,
       "unit_scale": false
      },
      "application/vnd.jupyter.widget-view+json": {
       "model_id": "72e6c58df78f445bb81a8d39224bcc70",
       "version_major": 2,
       "version_minor": 0
      },
      "text/plain": [
       "  0%|          | 0/1000 [00:00<?, ?it/s]"
      ]
     },
     "metadata": {},
     "output_type": "display_data"
    },
    {
     "data": {
      "application/json": {
       "ascii": false,
       "bar_format": null,
       "colour": null,
       "elapsed": 0.006432771682739258,
       "initial": 0,
       "n": 0,
       "ncols": null,
       "nrows": null,
       "postfix": null,
       "prefix": "",
       "rate": null,
       "total": 1000,
       "unit": "it",
       "unit_divisor": 1000,
       "unit_scale": false
      },
      "application/vnd.jupyter.widget-view+json": {
       "model_id": "f2ac108573ee421b97bfe711708efb1e",
       "version_major": 2,
       "version_minor": 0
      },
      "text/plain": [
       "  0%|          | 0/1000 [00:00<?, ?it/s]"
      ]
     },
     "metadata": {},
     "output_type": "display_data"
    },
    {
     "name": "stdout",
     "output_type": "stream",
     "text": [
      "Finished training!\n",
      "Best epoch: 1800\n",
      "tensor([-4.6807, -4.3801, -4.4287, -3.2993, -0.3111, -1.9699, -4.8201, -3.3306,\n",
      "        -4.8266, -5.2903, -5.4786, -3.6427, -0.0189, -4.7891,  0.2941, -3.7679,\n",
      "        -3.5733, -4.8761,  0.2688, -6.0612, -3.3848, -4.8156, -3.9774, -3.4546,\n",
      "        -3.6642, -5.0580, -5.5350, -0.6364, -3.4264,  0.1213, -3.8256, -1.0863,\n",
      "        -4.2103, -3.3808,  0.3530, -3.8936, -3.3482, -3.7990, -0.9095, -3.7215,\n",
      "        -5.1481, -1.2082, -4.0660,  0.2314, -2.3623, -4.1862, -4.8623, -0.3656,\n",
      "        -4.7693, -4.4043, -0.5062, -2.5911, -3.9524, -4.8132, -0.4612, -4.8544,\n",
      "        -3.1356, -4.0956, -4.8264, -3.6276, -2.6431,  0.1840, -0.0524, -4.1816,\n",
      "        -4.6736, -4.8097, -4.8019, -4.5382, -0.3671, -5.4506, -3.7197, -4.5784,\n",
      "        -0.4104, -3.6136,  0.0565, -0.5961, -3.7422, -5.3059, -4.4391, -3.3727,\n",
      "        -5.3928,  0.3483, -3.8971, -0.1541, -3.3814, -4.2597, -3.3577, -4.1125,\n",
      "        -0.0471, -4.3917, -0.0146, -3.4518, -6.4697, -3.8363,  0.4917, -4.4181,\n",
      "        -0.2444, -4.4891, -4.7587, -4.2748, -4.2923, -3.5361, -4.3576, -3.0766,\n",
      "        -5.0786, -3.6407, -4.9133, -4.4251, -4.3624, -2.4724, -4.4464, -4.0799,\n",
      "        -4.0016, -3.8772, -4.0562, -4.4946, -3.9525, -3.7460, -4.4180, -4.0232,\n",
      "        -3.9123, -3.1677, -3.4645, -4.2758, -4.9668, -4.1672, -3.7599, -2.9233],\n",
      "       device='cuda:2')\n",
      "\n",
      "Best fair model:\n",
      "\tacc: 0.6962\n",
      "\troc: 0.7766\n",
      "\tparity: 0.0060\n",
      "\tequality: 0.0056\n",
      "\tconsistency: 0.0704\n",
      "\n",
      "Best acc model:\n",
      "\tacc: 0.8101\n",
      "\troc: 0.8158\n",
      "\tparity: 0.1647\n",
      "\tequality: 0.0056\n",
      "\n",
      "Best auc model:\n",
      "\tacc: 0.5443\n",
      "\troc: 0.8659\n",
      "\tparity: 0.0010\n",
      "\tequality: 0.0889\n",
      "===========================\n",
      "Running nba_fair_ac_betas using seed 41\n",
      "Log directory: /home/fact21/fact_refactor/experiments/fair_ac/logs/nba/nba_fair_ac_betas_41_lambda2_0.8\n",
      "Params: {'lambda2': 0.8}\n",
      "===========================\n",
      "Created FairAC model with 1 sensitive class\n",
      "Created trainer with GCN model, using log_dir: /home/fact21/fact_refactor/experiments/fair_ac/logs/nba/nba_fair_ac_betas_41_lambda2_0.8\n",
      "Starting pre-training phase\n"
     ]
    },
    {
     "data": {
      "application/json": {
       "ascii": false,
       "bar_format": null,
       "colour": null,
       "elapsed": 0.009078264236450195,
       "initial": 0,
       "n": 0,
       "ncols": null,
       "nrows": null,
       "postfix": null,
       "prefix": "",
       "rate": null,
       "total": 200,
       "unit": "it",
       "unit_divisor": 1000,
       "unit_scale": false
      },
      "application/vnd.jupyter.widget-view+json": {
       "model_id": "18cc3f93eed74a6392de8d4976748723",
       "version_major": 2,
       "version_minor": 0
      },
      "text/plain": [
       "  0%|          | 0/200 [00:00<?, ?it/s]"
      ]
     },
     "metadata": {},
     "output_type": "display_data"
    },
    {
     "name": "stdout",
     "output_type": "stream",
     "text": [
      "Finished pretraining\n",
      "Starting main training...\n"
     ]
    },
    {
     "data": {
      "application/json": {
       "ascii": false,
       "bar_format": null,
       "colour": null,
       "elapsed": 0.005978822708129883,
       "initial": 0,
       "n": 0,
       "ncols": null,
       "nrows": null,
       "postfix": null,
       "prefix": "",
       "rate": null,
       "total": 2800,
       "unit": "it",
       "unit_divisor": 1000,
       "unit_scale": false
      },
      "application/vnd.jupyter.widget-view+json": {
       "model_id": "c797ca8ad3f74752ac761ab60a3344c2",
       "version_major": 2,
       "version_minor": 0
      },
      "text/plain": [
       "  0%|          | 0/2800 [00:00<?, ?it/s]"
      ]
     },
     "metadata": {},
     "output_type": "display_data"
    },
    {
     "data": {
      "application/json": {
       "ascii": false,
       "bar_format": null,
       "colour": null,
       "elapsed": 0.006380796432495117,
       "initial": 0,
       "n": 0,
       "ncols": null,
       "nrows": null,
       "postfix": null,
       "prefix": "",
       "rate": null,
       "total": 1000,
       "unit": "it",
       "unit_divisor": 1000,
       "unit_scale": false
      },
      "application/vnd.jupyter.widget-view+json": {
       "model_id": "35f93b144075456fa29b77b14c27d668",
       "version_major": 2,
       "version_minor": 0
      },
      "text/plain": [
       "  0%|          | 0/1000 [00:00<?, ?it/s]"
      ]
     },
     "metadata": {},
     "output_type": "display_data"
    },
    {
     "name": "stdout",
     "output_type": "stream",
     "text": [
      "[1000:92] Found new best fairness of 0.015476\n",
      "[1000:357] Found new best fairness of 0.012500\n"
     ]
    },
    {
     "data": {
      "application/json": {
       "ascii": false,
       "bar_format": null,
       "colour": null,
       "elapsed": 0.0064198970794677734,
       "initial": 0,
       "n": 0,
       "ncols": null,
       "nrows": null,
       "postfix": null,
       "prefix": "",
       "rate": null,
       "total": 1000,
       "unit": "it",
       "unit_divisor": 1000,
       "unit_scale": false
      },
      "application/vnd.jupyter.widget-view+json": {
       "model_id": "be51fd24d626473eb9472348f9929de5",
       "version_major": 2,
       "version_minor": 0
      },
      "text/plain": [
       "  0%|          | 0/1000 [00:00<?, ?it/s]"
      ]
     },
     "metadata": {},
     "output_type": "display_data"
    },
    {
     "data": {
      "application/json": {
       "ascii": false,
       "bar_format": null,
       "colour": null,
       "elapsed": 0.017008066177368164,
       "initial": 0,
       "n": 0,
       "ncols": null,
       "nrows": null,
       "postfix": null,
       "prefix": "",
       "rate": null,
       "total": 1000,
       "unit": "it",
       "unit_divisor": 1000,
       "unit_scale": false
      },
      "application/vnd.jupyter.widget-view+json": {
       "model_id": "3bbe838ef9de486ea737228c33978e08",
       "version_major": 2,
       "version_minor": 0
      },
      "text/plain": [
       "  0%|          | 0/1000 [00:00<?, ?it/s]"
      ]
     },
     "metadata": {},
     "output_type": "display_data"
    },
    {
     "data": {
      "application/json": {
       "ascii": false,
       "bar_format": null,
       "colour": null,
       "elapsed": 0.009250640869140625,
       "initial": 0,
       "n": 0,
       "ncols": null,
       "nrows": null,
       "postfix": null,
       "prefix": "",
       "rate": null,
       "total": 1000,
       "unit": "it",
       "unit_divisor": 1000,
       "unit_scale": false
      },
      "application/vnd.jupyter.widget-view+json": {
       "model_id": "d8293fac8cbf4c5098d5f36495146a34",
       "version_major": 2,
       "version_minor": 0
      },
      "text/plain": [
       "  0%|          | 0/1000 [00:00<?, ?it/s]"
      ]
     },
     "metadata": {},
     "output_type": "display_data"
    },
    {
     "name": "stdout",
     "output_type": "stream",
     "text": [
      "[1600:657] Found new best fairness of 0.011508\n"
     ]
    },
    {
     "data": {
      "application/json": {
       "ascii": false,
       "bar_format": null,
       "colour": null,
       "elapsed": 0.007597446441650391,
       "initial": 0,
       "n": 0,
       "ncols": null,
       "nrows": null,
       "postfix": null,
       "prefix": "",
       "rate": null,
       "total": 1000,
       "unit": "it",
       "unit_divisor": 1000,
       "unit_scale": false
      },
      "application/vnd.jupyter.widget-view+json": {
       "model_id": "d07f5c436cbf4950bb80d5001324a9e3",
       "version_major": 2,
       "version_minor": 0
      },
      "text/plain": [
       "  0%|          | 0/1000 [00:00<?, ?it/s]"
      ]
     },
     "metadata": {},
     "output_type": "display_data"
    },
    {
     "data": {
      "application/json": {
       "ascii": false,
       "bar_format": null,
       "colour": null,
       "elapsed": 0.007635593414306641,
       "initial": 0,
       "n": 0,
       "ncols": null,
       "nrows": null,
       "postfix": null,
       "prefix": "",
       "rate": null,
       "total": 1000,
       "unit": "it",
       "unit_divisor": 1000,
       "unit_scale": false
      },
      "application/vnd.jupyter.widget-view+json": {
       "model_id": "cc201725a2e544ab96b8290cd46068a5",
       "version_major": 2,
       "version_minor": 0
      },
      "text/plain": [
       "  0%|          | 0/1000 [00:00<?, ?it/s]"
      ]
     },
     "metadata": {},
     "output_type": "display_data"
    },
    {
     "data": {
      "application/json": {
       "ascii": false,
       "bar_format": null,
       "colour": null,
       "elapsed": 0.00762176513671875,
       "initial": 0,
       "n": 0,
       "ncols": null,
       "nrows": null,
       "postfix": null,
       "prefix": "",
       "rate": null,
       "total": 1000,
       "unit": "it",
       "unit_divisor": 1000,
       "unit_scale": false
      },
      "application/vnd.jupyter.widget-view+json": {
       "model_id": "ea87f3ffb7334e6b80efc3864315b126",
       "version_major": 2,
       "version_minor": 0
      },
      "text/plain": [
       "  0%|          | 0/1000 [00:00<?, ?it/s]"
      ]
     },
     "metadata": {},
     "output_type": "display_data"
    },
    {
     "data": {
      "application/json": {
       "ascii": false,
       "bar_format": null,
       "colour": null,
       "elapsed": 0.007255077362060547,
       "initial": 0,
       "n": 0,
       "ncols": null,
       "nrows": null,
       "postfix": null,
       "prefix": "",
       "rate": null,
       "total": 1000,
       "unit": "it",
       "unit_divisor": 1000,
       "unit_scale": false
      },
      "application/vnd.jupyter.widget-view+json": {
       "model_id": "fa7250c391f84853baa9c21c924ee615",
       "version_major": 2,
       "version_minor": 0
      },
      "text/plain": [
       "  0%|          | 0/1000 [00:00<?, ?it/s]"
      ]
     },
     "metadata": {},
     "output_type": "display_data"
    },
    {
     "data": {
      "application/json": {
       "ascii": false,
       "bar_format": null,
       "colour": null,
       "elapsed": 0.013303041458129883,
       "initial": 0,
       "n": 0,
       "ncols": null,
       "nrows": null,
       "postfix": null,
       "prefix": "",
       "rate": null,
       "total": 1000,
       "unit": "it",
       "unit_divisor": 1000,
       "unit_scale": false
      },
      "application/vnd.jupyter.widget-view+json": {
       "model_id": "e2a416df030c4b37871ddac3ac3fdef7",
       "version_major": 2,
       "version_minor": 0
      },
      "text/plain": [
       "  0%|          | 0/1000 [00:00<?, ?it/s]"
      ]
     },
     "metadata": {},
     "output_type": "display_data"
    },
    {
     "data": {
      "application/json": {
       "ascii": false,
       "bar_format": null,
       "colour": null,
       "elapsed": 0.007633686065673828,
       "initial": 0,
       "n": 0,
       "ncols": null,
       "nrows": null,
       "postfix": null,
       "prefix": "",
       "rate": null,
       "total": 1000,
       "unit": "it",
       "unit_divisor": 1000,
       "unit_scale": false
      },
      "application/vnd.jupyter.widget-view+json": {
       "model_id": "23ad7b49e6af47fb81c5c453c2430591",
       "version_major": 2,
       "version_minor": 0
      },
      "text/plain": [
       "  0%|          | 0/1000 [00:00<?, ?it/s]"
      ]
     },
     "metadata": {},
     "output_type": "display_data"
    },
    {
     "name": "stdout",
     "output_type": "stream",
     "text": [
      "Finished training!\n",
      "Best epoch: 1600\n",
      "tensor([-4.4893, -4.2114, -4.2575, -3.1401, -0.3911, -1.8050, -4.6267, -3.1835,\n",
      "        -4.6395, -5.1786, -5.3898, -3.5364,  0.1467, -4.6116, -0.0376, -3.6282,\n",
      "        -3.4209, -4.7787,  0.2249, -5.8916, -3.2191, -4.7259, -3.9602, -3.4136,\n",
      "        -3.5271, -5.1447, -5.4612, -0.6194, -3.3527, -0.0141, -3.6701, -0.6491,\n",
      "        -4.1349, -3.4713,  0.1692, -3.8568, -3.2106, -3.8035, -0.8396, -3.5081,\n",
      "        -5.0311, -0.3167, -4.0653,  0.2995, -2.2507, -4.0530, -4.8315, -0.3654,\n",
      "        -4.7089, -4.5006, -0.4133, -2.5699, -3.8413, -4.6655, -0.5709, -4.7132,\n",
      "        -3.0050, -3.9426, -4.7832, -3.5266, -2.5832,  0.2601, -0.2952, -4.0534,\n",
      "        -4.6691, -4.7398, -4.6380, -4.4302, -0.3121, -5.3466, -3.5958, -4.5632,\n",
      "        -0.4384, -3.4556, -0.0294, -0.6096, -3.6816, -5.2735, -4.2794, -3.1417,\n",
      "        -5.3534,  0.1043, -3.8360, -0.2727, -3.2773, -4.0374, -3.2171, -4.0459,\n",
      "        -0.1505, -4.3001,  0.0948, -3.3325, -6.3536, -3.7483,  0.4012, -4.4481,\n",
      "        -0.1982, -4.5160, -4.6664, -4.1725, -4.1623, -3.4381, -4.1498, -3.0024,\n",
      "        -5.0456, -3.5578, -4.8016, -4.4292, -4.2529, -2.2303, -4.3604, -4.0995,\n",
      "        -3.8857, -3.8289, -3.9494, -4.4028, -3.8590, -3.5407, -4.2183, -3.8513,\n",
      "        -3.7462, -3.0265, -3.3330, -4.1778, -4.8136, -4.1595, -3.6526, -0.3133],\n",
      "       device='cuda:2')\n",
      "\n",
      "Best fair model:\n",
      "\tacc: 0.6962\n",
      "\troc: 0.8248\n",
      "\tparity: 0.0060\n",
      "\tequality: 0.0056\n",
      "\tconsistency: 0.0704\n",
      "\n",
      "Best acc model:\n",
      "\tacc: 0.8228\n",
      "\troc: 0.8524\n",
      "\tparity: 0.0853\n",
      "\tequality: 0.0500\n",
      "\n",
      "Best auc model:\n",
      "\tacc: 0.4810\n",
      "\troc: 0.8614\n",
      "\tparity: 0.0000\n",
      "\tequality: 0.0000\n",
      "===========================\n",
      "Running nba_fair_ac_betas using seed 42\n",
      "Log directory: /home/fact21/fact_refactor/experiments/fair_ac/logs/nba/nba_fair_ac_betas_42_lambda2_0.0\n",
      "Params: {'lambda2': 0.0}\n",
      "===========================\n",
      "Created FairAC model with 1 sensitive class\n",
      "Created trainer with GCN model, using log_dir: /home/fact21/fact_refactor/experiments/fair_ac/logs/nba/nba_fair_ac_betas_42_lambda2_0.0\n",
      "Starting pre-training phase\n"
     ]
    },
    {
     "data": {
      "application/json": {
       "ascii": false,
       "bar_format": null,
       "colour": null,
       "elapsed": 0.009206771850585938,
       "initial": 0,
       "n": 0,
       "ncols": null,
       "nrows": null,
       "postfix": null,
       "prefix": "",
       "rate": null,
       "total": 200,
       "unit": "it",
       "unit_divisor": 1000,
       "unit_scale": false
      },
      "application/vnd.jupyter.widget-view+json": {
       "model_id": "870fcbe8f32b48aeb5aa312e655e211f",
       "version_major": 2,
       "version_minor": 0
      },
      "text/plain": [
       "  0%|          | 0/200 [00:00<?, ?it/s]"
      ]
     },
     "metadata": {},
     "output_type": "display_data"
    },
    {
     "name": "stdout",
     "output_type": "stream",
     "text": [
      "Finished pretraining\n",
      "Starting main training...\n"
     ]
    },
    {
     "data": {
      "application/json": {
       "ascii": false,
       "bar_format": null,
       "colour": null,
       "elapsed": 0.005812406539916992,
       "initial": 0,
       "n": 0,
       "ncols": null,
       "nrows": null,
       "postfix": null,
       "prefix": "",
       "rate": null,
       "total": 2800,
       "unit": "it",
       "unit_divisor": 1000,
       "unit_scale": false
      },
      "application/vnd.jupyter.widget-view+json": {
       "model_id": "41abf68f22974ea3ade7842810d7fe9b",
       "version_major": 2,
       "version_minor": 0
      },
      "text/plain": [
       "  0%|          | 0/2800 [00:00<?, ?it/s]"
      ]
     },
     "metadata": {},
     "output_type": "display_data"
    },
    {
     "data": {
      "application/json": {
       "ascii": false,
       "bar_format": null,
       "colour": null,
       "elapsed": 0.0078029632568359375,
       "initial": 0,
       "n": 0,
       "ncols": null,
       "nrows": null,
       "postfix": null,
       "prefix": "",
       "rate": null,
       "total": 1000,
       "unit": "it",
       "unit_divisor": 1000,
       "unit_scale": false
      },
      "application/vnd.jupyter.widget-view+json": {
       "model_id": "88d8678b299547d8800bff763a43fd13",
       "version_major": 2,
       "version_minor": 0
      },
      "text/plain": [
       "  0%|          | 0/1000 [00:00<?, ?it/s]"
      ]
     },
     "metadata": {},
     "output_type": "display_data"
    },
    {
     "name": "stdout",
     "output_type": "stream",
     "text": [
      "[1000:90] Found new best fairness of 0.056548\n",
      "[1000:150] Found new best fairness of 0.046230\n",
      "[1000:159] Found new best fairness of 0.030754\n",
      "[1000:592] Found new best fairness of 0.017063\n"
     ]
    },
    {
     "data": {
      "application/json": {
       "ascii": false,
       "bar_format": null,
       "colour": null,
       "elapsed": 0.013657808303833008,
       "initial": 0,
       "n": 0,
       "ncols": null,
       "nrows": null,
       "postfix": null,
       "prefix": "",
       "rate": null,
       "total": 1000,
       "unit": "it",
       "unit_divisor": 1000,
       "unit_scale": false
      },
      "application/vnd.jupyter.widget-view+json": {
       "model_id": "75ce2ee67d72444e9ceabac7659378da",
       "version_major": 2,
       "version_minor": 0
      },
      "text/plain": [
       "  0%|          | 0/1000 [00:00<?, ?it/s]"
      ]
     },
     "metadata": {},
     "output_type": "display_data"
    },
    {
     "data": {
      "application/json": {
       "ascii": false,
       "bar_format": null,
       "colour": null,
       "elapsed": 0.014998435974121094,
       "initial": 0,
       "n": 0,
       "ncols": null,
       "nrows": null,
       "postfix": null,
       "prefix": "",
       "rate": null,
       "total": 1000,
       "unit": "it",
       "unit_divisor": 1000,
       "unit_scale": false
      },
      "application/vnd.jupyter.widget-view+json": {
       "model_id": "18e37e164bbb476a825c4b083ee1bd28",
       "version_major": 2,
       "version_minor": 0
      },
      "text/plain": [
       "  0%|          | 0/1000 [00:00<?, ?it/s]"
      ]
     },
     "metadata": {},
     "output_type": "display_data"
    },
    {
     "name": "stdout",
     "output_type": "stream",
     "text": [
      "[1400:231] Found new best fairness of 0.011508\n"
     ]
    },
    {
     "data": {
      "application/json": {
       "ascii": false,
       "bar_format": null,
       "colour": null,
       "elapsed": 0.006783008575439453,
       "initial": 0,
       "n": 0,
       "ncols": null,
       "nrows": null,
       "postfix": null,
       "prefix": "",
       "rate": null,
       "total": 1000,
       "unit": "it",
       "unit_divisor": 1000,
       "unit_scale": false
      },
      "application/vnd.jupyter.widget-view+json": {
       "model_id": "c5107acf5bca41e4803b42634dc53399",
       "version_major": 2,
       "version_minor": 0
      },
      "text/plain": [
       "  0%|          | 0/1000 [00:00<?, ?it/s]"
      ]
     },
     "metadata": {},
     "output_type": "display_data"
    },
    {
     "data": {
      "application/json": {
       "ascii": false,
       "bar_format": null,
       "colour": null,
       "elapsed": 0.007196903228759766,
       "initial": 0,
       "n": 0,
       "ncols": null,
       "nrows": null,
       "postfix": null,
       "prefix": "",
       "rate": null,
       "total": 1000,
       "unit": "it",
       "unit_divisor": 1000,
       "unit_scale": false
      },
      "application/vnd.jupyter.widget-view+json": {
       "model_id": "e104ddfc6fbf4df1b71269857e0fa646",
       "version_major": 2,
       "version_minor": 0
      },
      "text/plain": [
       "  0%|          | 0/1000 [00:00<?, ?it/s]"
      ]
     },
     "metadata": {},
     "output_type": "display_data"
    },
    {
     "data": {
      "application/json": {
       "ascii": false,
       "bar_format": null,
       "colour": null,
       "elapsed": 0.007424354553222656,
       "initial": 0,
       "n": 0,
       "ncols": null,
       "nrows": null,
       "postfix": null,
       "prefix": "",
       "rate": null,
       "total": 1000,
       "unit": "it",
       "unit_divisor": 1000,
       "unit_scale": false
      },
      "application/vnd.jupyter.widget-view+json": {
       "model_id": "9b89524bc6954bea8e60bf5e0add9708",
       "version_major": 2,
       "version_minor": 0
      },
      "text/plain": [
       "  0%|          | 0/1000 [00:00<?, ?it/s]"
      ]
     },
     "metadata": {},
     "output_type": "display_data"
    },
    {
     "data": {
      "application/json": {
       "ascii": false,
       "bar_format": null,
       "colour": null,
       "elapsed": 0.007249355316162109,
       "initial": 0,
       "n": 0,
       "ncols": null,
       "nrows": null,
       "postfix": null,
       "prefix": "",
       "rate": null,
       "total": 1000,
       "unit": "it",
       "unit_divisor": 1000,
       "unit_scale": false
      },
      "application/vnd.jupyter.widget-view+json": {
       "model_id": "11b2b7ff36de46a18c2da148f95f96ae",
       "version_major": 2,
       "version_minor": 0
      },
      "text/plain": [
       "  0%|          | 0/1000 [00:00<?, ?it/s]"
      ]
     },
     "metadata": {},
     "output_type": "display_data"
    },
    {
     "data": {
      "application/json": {
       "ascii": false,
       "bar_format": null,
       "colour": null,
       "elapsed": 0.006397724151611328,
       "initial": 0,
       "n": 0,
       "ncols": null,
       "nrows": null,
       "postfix": null,
       "prefix": "",
       "rate": null,
       "total": 1000,
       "unit": "it",
       "unit_divisor": 1000,
       "unit_scale": false
      },
      "application/vnd.jupyter.widget-view+json": {
       "model_id": "9fe5d90a58ca468aa000de732db15ec1",
       "version_major": 2,
       "version_minor": 0
      },
      "text/plain": [
       "  0%|          | 0/1000 [00:00<?, ?it/s]"
      ]
     },
     "metadata": {},
     "output_type": "display_data"
    },
    {
     "data": {
      "application/json": {
       "ascii": false,
       "bar_format": null,
       "colour": null,
       "elapsed": 0.0075473785400390625,
       "initial": 0,
       "n": 0,
       "ncols": null,
       "nrows": null,
       "postfix": null,
       "prefix": "",
       "rate": null,
       "total": 1000,
       "unit": "it",
       "unit_divisor": 1000,
       "unit_scale": false
      },
      "application/vnd.jupyter.widget-view+json": {
       "model_id": "1f0ce2b3c8ed4928bc46960a23358a35",
       "version_major": 2,
       "version_minor": 0
      },
      "text/plain": [
       "  0%|          | 0/1000 [00:00<?, ?it/s]"
      ]
     },
     "metadata": {},
     "output_type": "display_data"
    },
    {
     "data": {
      "application/json": {
       "ascii": false,
       "bar_format": null,
       "colour": null,
       "elapsed": 0.0063898563385009766,
       "initial": 0,
       "n": 0,
       "ncols": null,
       "nrows": null,
       "postfix": null,
       "prefix": "",
       "rate": null,
       "total": 1000,
       "unit": "it",
       "unit_divisor": 1000,
       "unit_scale": false
      },
      "application/vnd.jupyter.widget-view+json": {
       "model_id": "1dd7649a17924f6abe00277d3cdd6371",
       "version_major": 2,
       "version_minor": 0
      },
      "text/plain": [
       "  0%|          | 0/1000 [00:00<?, ?it/s]"
      ]
     },
     "metadata": {},
     "output_type": "display_data"
    },
    {
     "name": "stdout",
     "output_type": "stream",
     "text": [
      "Finished training!\n",
      "Best epoch: 1400\n",
      "tensor([-3.5427e+00, -4.5577e+00, -4.2825e+00, -4.0211e+00,  1.2194e-01,\n",
      "        -3.5858e+00, -3.3392e+00, -3.5186e+00, -8.8464e-01,  8.9516e-02,\n",
      "        -2.6156e+00, -6.1000e-01, -3.3061e+00, -3.0570e+00, -1.3527e+00,\n",
      "        -5.2715e-01, -1.9208e-01, -3.6275e+00, -2.2489e-01, -1.7295e-01,\n",
      "         2.3074e-01, -2.5230e+00, -4.1856e+00, -2.2777e-01, -3.8636e+00,\n",
      "        -3.7059e+00, -3.7408e+00, -3.0756e+00, -4.2177e+00,  6.7898e-02,\n",
      "        -5.6026e+00, -3.9744e+00, -4.4513e+00, -3.5206e+00, -3.5783e+00,\n",
      "        -2.9742e+00, -5.6110e-04, -3.1021e+00, -6.7833e+00, -3.9674e-01,\n",
      "        -4.8287e+00, -3.5021e+00, -4.7877e+00, -2.8670e+00, -3.7844e+00,\n",
      "         1.5517e-02, -4.6003e+00, -2.9399e+00, -6.0151e-01, -1.3190e+00,\n",
      "        -4.9137e+00, -4.2297e-01, -5.3814e+00, -3.9148e+00, -3.9106e-01,\n",
      "        -3.0921e+00, -3.9827e+00, -5.2017e+00, -3.2021e+00, -6.0457e+00,\n",
      "        -2.7685e+00, -3.6207e+00, -3.7983e+00, -4.9786e+00, -4.2120e+00,\n",
      "        -3.3051e+00, -3.7170e+00, -1.5756e-01, -3.9279e+00, -3.1349e+00,\n",
      "        -3.9376e+00, -4.2110e+00, -5.0952e+00, -3.5816e+00, -3.9626e+00,\n",
      "        -2.8062e+00,  3.0571e-01, -3.4008e+00, -3.3161e+00, -2.2032e+00,\n",
      "        -3.3024e+00, -2.4726e+00, -5.5821e+00, -3.9991e+00, -3.0704e+00,\n",
      "        -3.0066e+00, -4.4194e+00, -4.9767e+00, -4.8675e+00, -2.5447e+00,\n",
      "        -3.2971e+00, -3.5666e+00, -7.1423e-03, -3.7782e+00, -5.5336e+00,\n",
      "        -3.9490e+00, -3.2022e+00, -3.7500e+00, -2.9232e+00, -2.5435e+00,\n",
      "        -4.0442e-01, -3.4879e-02, -3.9185e+00, -3.3436e+00,  7.7819e-02,\n",
      "        -4.3544e+00, -3.7476e+00, -3.9748e+00, -4.4525e+00,  2.7242e-01,\n",
      "        -4.1756e+00, -5.2869e+00, -3.3729e+00, -2.4080e+00, -4.8150e+00,\n",
      "        -4.4474e+00, -4.1197e+00, -4.5860e+00,  1.3082e-01,  3.5469e-02,\n",
      "        -2.2472e-01, -1.2901e-01, -3.6198e+00, -3.7908e+00, -1.2432e-01,\n",
      "        -3.4207e-01, -5.2368e+00, -4.1355e+00], device='cuda:2')\n",
      "\n",
      "Best fair model:\n",
      "\tacc: 0.6962\n",
      "\troc: 0.7914\n",
      "\tparity: 0.0060\n",
      "\tequality: 0.0056\n",
      "\tconsistency: 0.0704\n",
      "\n",
      "Best acc model:\n",
      "\tacc: 0.7975\n",
      "\troc: 0.8216\n",
      "\tparity: 0.1022\n",
      "\tequality: 0.0056\n",
      "\n",
      "Best auc model:\n",
      "\tacc: 0.5063\n",
      "\troc: 0.8755\n",
      "\tparity: 0.0466\n",
      "\tequality: 0.1722\n",
      "===========================\n",
      "Running nba_fair_ac_betas using seed 42\n",
      "Log directory: /home/fact21/fact_refactor/experiments/fair_ac/logs/nba/nba_fair_ac_betas_42_lambda2_0.2\n",
      "Params: {'lambda2': 0.2}\n",
      "===========================\n",
      "Created FairAC model with 1 sensitive class\n",
      "Created trainer with GCN model, using log_dir: /home/fact21/fact_refactor/experiments/fair_ac/logs/nba/nba_fair_ac_betas_42_lambda2_0.2\n",
      "Starting pre-training phase\n"
     ]
    },
    {
     "data": {
      "application/json": {
       "ascii": false,
       "bar_format": null,
       "colour": null,
       "elapsed": 0.0073053836822509766,
       "initial": 0,
       "n": 0,
       "ncols": null,
       "nrows": null,
       "postfix": null,
       "prefix": "",
       "rate": null,
       "total": 200,
       "unit": "it",
       "unit_divisor": 1000,
       "unit_scale": false
      },
      "application/vnd.jupyter.widget-view+json": {
       "model_id": "11a23e56b91041b8bbdba9cd61306cb8",
       "version_major": 2,
       "version_minor": 0
      },
      "text/plain": [
       "  0%|          | 0/200 [00:00<?, ?it/s]"
      ]
     },
     "metadata": {},
     "output_type": "display_data"
    },
    {
     "name": "stdout",
     "output_type": "stream",
     "text": [
      "Finished pretraining\n",
      "Starting main training...\n"
     ]
    },
    {
     "data": {
      "application/json": {
       "ascii": false,
       "bar_format": null,
       "colour": null,
       "elapsed": 0.0055201053619384766,
       "initial": 0,
       "n": 0,
       "ncols": null,
       "nrows": null,
       "postfix": null,
       "prefix": "",
       "rate": null,
       "total": 2800,
       "unit": "it",
       "unit_divisor": 1000,
       "unit_scale": false
      },
      "application/vnd.jupyter.widget-view+json": {
       "model_id": "54baf75383e342b580ca292b14c8aa5f",
       "version_major": 2,
       "version_minor": 0
      },
      "text/plain": [
       "  0%|          | 0/2800 [00:00<?, ?it/s]"
      ]
     },
     "metadata": {},
     "output_type": "display_data"
    },
    {
     "data": {
      "application/json": {
       "ascii": false,
       "bar_format": null,
       "colour": null,
       "elapsed": 0.0063321590423583984,
       "initial": 0,
       "n": 0,
       "ncols": null,
       "nrows": null,
       "postfix": null,
       "prefix": "",
       "rate": null,
       "total": 1000,
       "unit": "it",
       "unit_divisor": 1000,
       "unit_scale": false
      },
      "application/vnd.jupyter.widget-view+json": {
       "model_id": "aa5fc443852e48ea9be277d70c599fef",
       "version_major": 2,
       "version_minor": 0
      },
      "text/plain": [
       "  0%|          | 0/1000 [00:00<?, ?it/s]"
      ]
     },
     "metadata": {},
     "output_type": "display_data"
    },
    {
     "name": "stdout",
     "output_type": "stream",
     "text": [
      "[1000:96] Found new best fairness of 0.106746\n",
      "[1000:130] Found new best fairness of 0.058532\n",
      "[1000:167] Found new best fairness of 0.056548\n",
      "[1000:325] Found new best fairness of 0.048810\n",
      "[1000:373] Found new best fairness of 0.032937\n",
      "[1000:375] Found new best fairness of 0.017063\n"
     ]
    },
    {
     "data": {
      "application/json": {
       "ascii": false,
       "bar_format": null,
       "colour": null,
       "elapsed": 0.0072214603424072266,
       "initial": 0,
       "n": 0,
       "ncols": null,
       "nrows": null,
       "postfix": null,
       "prefix": "",
       "rate": null,
       "total": 1000,
       "unit": "it",
       "unit_divisor": 1000,
       "unit_scale": false
      },
      "application/vnd.jupyter.widget-view+json": {
       "model_id": "1939dc8f7b72431ea2f5ec5f9a18da4f",
       "version_major": 2,
       "version_minor": 0
      },
      "text/plain": [
       "  0%|          | 0/1000 [00:00<?, ?it/s]"
      ]
     },
     "metadata": {},
     "output_type": "display_data"
    },
    {
     "name": "stdout",
     "output_type": "stream",
     "text": [
      "[1200:358] Found new best fairness of 0.011508\n"
     ]
    },
    {
     "data": {
      "application/json": {
       "ascii": false,
       "bar_format": null,
       "colour": null,
       "elapsed": 0.007289886474609375,
       "initial": 0,
       "n": 0,
       "ncols": null,
       "nrows": null,
       "postfix": null,
       "prefix": "",
       "rate": null,
       "total": 1000,
       "unit": "it",
       "unit_divisor": 1000,
       "unit_scale": false
      },
      "application/vnd.jupyter.widget-view+json": {
       "model_id": "f02a40849e1e4008b6df35004c387e38",
       "version_major": 2,
       "version_minor": 0
      },
      "text/plain": [
       "  0%|          | 0/1000 [00:00<?, ?it/s]"
      ]
     },
     "metadata": {},
     "output_type": "display_data"
    },
    {
     "data": {
      "application/json": {
       "ascii": false,
       "bar_format": null,
       "colour": null,
       "elapsed": 0.0064809322357177734,
       "initial": 0,
       "n": 0,
       "ncols": null,
       "nrows": null,
       "postfix": null,
       "prefix": "",
       "rate": null,
       "total": 1000,
       "unit": "it",
       "unit_divisor": 1000,
       "unit_scale": false
      },
      "application/vnd.jupyter.widget-view+json": {
       "model_id": "4489f258b63647a09083d226e5afb272",
       "version_major": 2,
       "version_minor": 0
      },
      "text/plain": [
       "  0%|          | 0/1000 [00:00<?, ?it/s]"
      ]
     },
     "metadata": {},
     "output_type": "display_data"
    },
    {
     "data": {
      "application/json": {
       "ascii": false,
       "bar_format": null,
       "colour": null,
       "elapsed": 0.0074176788330078125,
       "initial": 0,
       "n": 0,
       "ncols": null,
       "nrows": null,
       "postfix": null,
       "prefix": "",
       "rate": null,
       "total": 1000,
       "unit": "it",
       "unit_divisor": 1000,
       "unit_scale": false
      },
      "application/vnd.jupyter.widget-view+json": {
       "model_id": "537c28d1180b4ec29b3ade9953c56856",
       "version_major": 2,
       "version_minor": 0
      },
      "text/plain": [
       "  0%|          | 0/1000 [00:00<?, ?it/s]"
      ]
     },
     "metadata": {},
     "output_type": "display_data"
    },
    {
     "data": {
      "application/json": {
       "ascii": false,
       "bar_format": null,
       "colour": null,
       "elapsed": 0.007257938385009766,
       "initial": 0,
       "n": 0,
       "ncols": null,
       "nrows": null,
       "postfix": null,
       "prefix": "",
       "rate": null,
       "total": 1000,
       "unit": "it",
       "unit_divisor": 1000,
       "unit_scale": false
      },
      "application/vnd.jupyter.widget-view+json": {
       "model_id": "b5647d308e804ac5bf1109196589a1c1",
       "version_major": 2,
       "version_minor": 0
      },
      "text/plain": [
       "  0%|          | 0/1000 [00:00<?, ?it/s]"
      ]
     },
     "metadata": {},
     "output_type": "display_data"
    },
    {
     "data": {
      "application/json": {
       "ascii": false,
       "bar_format": null,
       "colour": null,
       "elapsed": 0.007248640060424805,
       "initial": 0,
       "n": 0,
       "ncols": null,
       "nrows": null,
       "postfix": null,
       "prefix": "",
       "rate": null,
       "total": 1000,
       "unit": "it",
       "unit_divisor": 1000,
       "unit_scale": false
      },
      "application/vnd.jupyter.widget-view+json": {
       "model_id": "f7fb1f5ed0e44200b9e66e7ea4053863",
       "version_major": 2,
       "version_minor": 0
      },
      "text/plain": [
       "  0%|          | 0/1000 [00:00<?, ?it/s]"
      ]
     },
     "metadata": {},
     "output_type": "display_data"
    },
    {
     "data": {
      "application/json": {
       "ascii": false,
       "bar_format": null,
       "colour": null,
       "elapsed": 0.007604837417602539,
       "initial": 0,
       "n": 0,
       "ncols": null,
       "nrows": null,
       "postfix": null,
       "prefix": "",
       "rate": null,
       "total": 1000,
       "unit": "it",
       "unit_divisor": 1000,
       "unit_scale": false
      },
      "application/vnd.jupyter.widget-view+json": {
       "model_id": "569e4b5ed79c4527b7dee7935c1cbaa0",
       "version_major": 2,
       "version_minor": 0
      },
      "text/plain": [
       "  0%|          | 0/1000 [00:00<?, ?it/s]"
      ]
     },
     "metadata": {},
     "output_type": "display_data"
    },
    {
     "data": {
      "application/json": {
       "ascii": false,
       "bar_format": null,
       "colour": null,
       "elapsed": 0.00718379020690918,
       "initial": 0,
       "n": 0,
       "ncols": null,
       "nrows": null,
       "postfix": null,
       "prefix": "",
       "rate": null,
       "total": 1000,
       "unit": "it",
       "unit_divisor": 1000,
       "unit_scale": false
      },
      "application/vnd.jupyter.widget-view+json": {
       "model_id": "07f909c3273347c5b430669bed2ef33c",
       "version_major": 2,
       "version_minor": 0
      },
      "text/plain": [
       "  0%|          | 0/1000 [00:00<?, ?it/s]"
      ]
     },
     "metadata": {},
     "output_type": "display_data"
    },
    {
     "data": {
      "application/json": {
       "ascii": false,
       "bar_format": null,
       "colour": null,
       "elapsed": 0.0072214603424072266,
       "initial": 0,
       "n": 0,
       "ncols": null,
       "nrows": null,
       "postfix": null,
       "prefix": "",
       "rate": null,
       "total": 1000,
       "unit": "it",
       "unit_divisor": 1000,
       "unit_scale": false
      },
      "application/vnd.jupyter.widget-view+json": {
       "model_id": "5cb5df6aca674656a4ecae3ea6c8047c",
       "version_major": 2,
       "version_minor": 0
      },
      "text/plain": [
       "  0%|          | 0/1000 [00:00<?, ?it/s]"
      ]
     },
     "metadata": {},
     "output_type": "display_data"
    },
    {
     "name": "stdout",
     "output_type": "stream",
     "text": [
      "Finished training!\n",
      "Best epoch: 1200\n",
      "tensor([-3.5768e+00, -4.5552e+00, -4.1898e+00, -4.0492e+00,  1.3584e-01,\n",
      "        -3.4755e+00, -3.2446e+00, -3.5591e+00, -8.7330e-01,  1.2763e-01,\n",
      "        -2.4641e+00, -4.4716e-01, -3.3824e+00, -2.9298e+00, -9.7252e-01,\n",
      "        -6.6604e-01, -1.5747e-01, -3.5848e+00, -5.6217e-01, -1.8920e-01,\n",
      "         2.4325e-01, -2.3874e+00, -4.2439e+00, -3.3597e-01, -3.7638e+00,\n",
      "        -3.6586e+00, -3.6594e+00, -2.9669e+00, -4.0837e+00,  2.5804e-02,\n",
      "        -5.7209e+00, -3.8754e+00, -4.4301e+00, -3.5295e+00, -3.4501e+00,\n",
      "        -2.9533e+00, -2.9737e-02, -3.1541e+00, -6.6404e+00, -3.5643e-01,\n",
      "        -4.8225e+00, -3.3665e+00, -4.7863e+00, -2.8547e+00, -3.8932e+00,\n",
      "        -1.7561e-01, -4.5743e+00, -2.8346e+00, -6.6082e-01, -1.1345e+00,\n",
      "        -4.9922e+00, -1.0313e-01, -5.4477e+00, -3.9297e+00, -7.8308e-01,\n",
      "        -3.0837e+00, -3.8632e+00, -5.3370e+00, -3.2135e+00, -6.1918e+00,\n",
      "        -2.5997e+00, -3.6751e+00, -3.6369e+00, -4.9395e+00, -4.2627e+00,\n",
      "        -3.3250e+00, -3.6009e+00, -2.1482e-01, -3.8408e+00, -3.0078e+00,\n",
      "        -3.9740e+00, -4.2109e+00, -5.0900e+00, -3.6423e+00, -3.9707e+00,\n",
      "        -2.8016e+00,  3.0617e-01, -3.2885e+00, -3.2130e+00, -2.0672e+00,\n",
      "        -3.2689e+00, -2.2593e+00, -5.6539e+00, -4.0235e+00, -3.1318e+00,\n",
      "        -2.8043e+00, -4.5345e+00, -4.9343e+00, -4.9331e+00, -2.5358e+00,\n",
      "        -3.2925e+00, -3.5265e+00,  5.1506e-02, -3.7007e+00, -5.5783e+00,\n",
      "        -3.8718e+00, -3.1918e+00, -3.7475e+00, -3.0026e+00, -2.4493e+00,\n",
      "        -3.5127e-01,  2.8062e-02, -4.0198e+00, -3.3416e+00,  1.1284e-01,\n",
      "        -4.1857e+00, -3.6356e+00, -3.9379e+00, -4.2911e+00,  6.6907e-02,\n",
      "        -3.9707e+00, -5.4645e+00, -3.4226e+00, -2.3622e+00, -4.7152e+00,\n",
      "        -4.5081e+00, -4.0951e+00, -4.5847e+00,  5.3106e-03,  1.6827e-02,\n",
      "        -1.5039e-01, -1.0339e-01, -3.7301e+00, -3.8653e+00, -1.4226e-01,\n",
      "        -5.9714e-01, -5.2090e+00, -4.2009e+00], device='cuda:2')\n",
      "\n",
      "Best fair model:\n",
      "\tacc: 0.6962\n",
      "\troc: 0.8119\n",
      "\tparity: 0.0060\n",
      "\tequality: 0.0056\n",
      "\tconsistency: 0.0704\n",
      "\n",
      "Best acc model:\n",
      "\tacc: 0.8101\n",
      "\troc: 0.8370\n",
      "\tparity: 0.1627\n",
      "\tequality: 0.0944\n",
      "\n",
      "Best auc model:\n",
      "\tacc: 0.4810\n",
      "\troc: 0.8723\n",
      "\tparity: 0.0000\n",
      "\tequality: 0.0000\n",
      "===========================\n",
      "Running nba_fair_ac_betas using seed 42\n",
      "Log directory: /home/fact21/fact_refactor/experiments/fair_ac/logs/nba/nba_fair_ac_betas_42_lambda2_0.4\n",
      "Params: {'lambda2': 0.4}\n",
      "===========================\n",
      "Created FairAC model with 1 sensitive class\n",
      "Created trainer with GCN model, using log_dir: /home/fact21/fact_refactor/experiments/fair_ac/logs/nba/nba_fair_ac_betas_42_lambda2_0.4\n",
      "Starting pre-training phase\n"
     ]
    },
    {
     "data": {
      "application/json": {
       "ascii": false,
       "bar_format": null,
       "colour": null,
       "elapsed": 0.009342670440673828,
       "initial": 0,
       "n": 0,
       "ncols": null,
       "nrows": null,
       "postfix": null,
       "prefix": "",
       "rate": null,
       "total": 200,
       "unit": "it",
       "unit_divisor": 1000,
       "unit_scale": false
      },
      "application/vnd.jupyter.widget-view+json": {
       "model_id": "56e43739ee5947dea869d110e8801e68",
       "version_major": 2,
       "version_minor": 0
      },
      "text/plain": [
       "  0%|          | 0/200 [00:00<?, ?it/s]"
      ]
     },
     "metadata": {},
     "output_type": "display_data"
    },
    {
     "name": "stdout",
     "output_type": "stream",
     "text": [
      "Finished pretraining\n",
      "Starting main training...\n"
     ]
    },
    {
     "data": {
      "application/json": {
       "ascii": false,
       "bar_format": null,
       "colour": null,
       "elapsed": 0.006025791168212891,
       "initial": 0,
       "n": 0,
       "ncols": null,
       "nrows": null,
       "postfix": null,
       "prefix": "",
       "rate": null,
       "total": 2800,
       "unit": "it",
       "unit_divisor": 1000,
       "unit_scale": false
      },
      "application/vnd.jupyter.widget-view+json": {
       "model_id": "7c9d0f97d65c4a7e8a844b6c8d34481a",
       "version_major": 2,
       "version_minor": 0
      },
      "text/plain": [
       "  0%|          | 0/2800 [00:00<?, ?it/s]"
      ]
     },
     "metadata": {},
     "output_type": "display_data"
    },
    {
     "data": {
      "application/json": {
       "ascii": false,
       "bar_format": null,
       "colour": null,
       "elapsed": 0.006401538848876953,
       "initial": 0,
       "n": 0,
       "ncols": null,
       "nrows": null,
       "postfix": null,
       "prefix": "",
       "rate": null,
       "total": 1000,
       "unit": "it",
       "unit_divisor": 1000,
       "unit_scale": false
      },
      "application/vnd.jupyter.widget-view+json": {
       "model_id": "4a42b4019b3d4ae9a8ab874a8ec1bee1",
       "version_major": 2,
       "version_minor": 0
      },
      "text/plain": [
       "  0%|          | 0/1000 [00:00<?, ?it/s]"
      ]
     },
     "metadata": {},
     "output_type": "display_data"
    },
    {
     "name": "stdout",
     "output_type": "stream",
     "text": [
      "[1000:96] Found new best fairness of 0.149802\n",
      "[1000:103] Found new best fairness of 0.118056\n",
      "[1000:136] Found new best fairness of 0.058532\n",
      "[1000:142] Found new best fairness of 0.056548\n",
      "[1000:187] Found new best fairness of 0.040675\n",
      "[1000:695] Found new best fairness of 0.020635\n"
     ]
    },
    {
     "data": {
      "application/json": {
       "ascii": false,
       "bar_format": null,
       "colour": null,
       "elapsed": 0.007165431976318359,
       "initial": 0,
       "n": 0,
       "ncols": null,
       "nrows": null,
       "postfix": null,
       "prefix": "",
       "rate": null,
       "total": 1000,
       "unit": "it",
       "unit_divisor": 1000,
       "unit_scale": false
      },
      "application/vnd.jupyter.widget-view+json": {
       "model_id": "acdc9a913a7641efb2be730723284550",
       "version_major": 2,
       "version_minor": 0
      },
      "text/plain": [
       "  0%|          | 0/1000 [00:00<?, ?it/s]"
      ]
     },
     "metadata": {},
     "output_type": "display_data"
    },
    {
     "data": {
      "application/json": {
       "ascii": false,
       "bar_format": null,
       "colour": null,
       "elapsed": 0.007279872894287109,
       "initial": 0,
       "n": 0,
       "ncols": null,
       "nrows": null,
       "postfix": null,
       "prefix": "",
       "rate": null,
       "total": 1000,
       "unit": "it",
       "unit_divisor": 1000,
       "unit_scale": false
      },
      "application/vnd.jupyter.widget-view+json": {
       "model_id": "fc11af23a3d64ea6b0a5cc8d71651689",
       "version_major": 2,
       "version_minor": 0
      },
      "text/plain": [
       "  0%|          | 0/1000 [00:00<?, ?it/s]"
      ]
     },
     "metadata": {},
     "output_type": "display_data"
    },
    {
     "data": {
      "application/json": {
       "ascii": false,
       "bar_format": null,
       "colour": null,
       "elapsed": 0.20777416229248047,
       "initial": 0,
       "n": 0,
       "ncols": null,
       "nrows": null,
       "postfix": null,
       "prefix": "",
       "rate": null,
       "total": 1000,
       "unit": "it",
       "unit_divisor": 1000,
       "unit_scale": false
      },
      "application/vnd.jupyter.widget-view+json": {
       "model_id": "6be71014d35e4fe090e4089a483382cb",
       "version_major": 2,
       "version_minor": 0
      },
      "text/plain": [
       "  0%|          | 0/1000 [00:00<?, ?it/s]"
      ]
     },
     "metadata": {},
     "output_type": "display_data"
    },
    {
     "name": "stdout",
     "output_type": "stream",
     "text": [
      "[1600:407] Found new best fairness of 0.012500\n"
     ]
    },
    {
     "data": {
      "application/json": {
       "ascii": false,
       "bar_format": null,
       "colour": null,
       "elapsed": 0.0066258907318115234,
       "initial": 0,
       "n": 0,
       "ncols": null,
       "nrows": null,
       "postfix": null,
       "prefix": "",
       "rate": null,
       "total": 1000,
       "unit": "it",
       "unit_divisor": 1000,
       "unit_scale": false
      },
      "application/vnd.jupyter.widget-view+json": {
       "model_id": "bf12531b1d05470aa8dddd172ec36df6",
       "version_major": 2,
       "version_minor": 0
      },
      "text/plain": [
       "  0%|          | 0/1000 [00:00<?, ?it/s]"
      ]
     },
     "metadata": {},
     "output_type": "display_data"
    },
    {
     "name": "stdout",
     "output_type": "stream",
     "text": [
      "[1800:362] Found new best fairness of 0.011508\n"
     ]
    },
    {
     "data": {
      "application/json": {
       "ascii": false,
       "bar_format": null,
       "colour": null,
       "elapsed": 0.007116079330444336,
       "initial": 0,
       "n": 0,
       "ncols": null,
       "nrows": null,
       "postfix": null,
       "prefix": "",
       "rate": null,
       "total": 1000,
       "unit": "it",
       "unit_divisor": 1000,
       "unit_scale": false
      },
      "application/vnd.jupyter.widget-view+json": {
       "model_id": "6b14137f23c04d969723a88dd5b5782f",
       "version_major": 2,
       "version_minor": 0
      },
      "text/plain": [
       "  0%|          | 0/1000 [00:00<?, ?it/s]"
      ]
     },
     "metadata": {},
     "output_type": "display_data"
    },
    {
     "data": {
      "application/json": {
       "ascii": false,
       "bar_format": null,
       "colour": null,
       "elapsed": 0.008170366287231445,
       "initial": 0,
       "n": 0,
       "ncols": null,
       "nrows": null,
       "postfix": null,
       "prefix": "",
       "rate": null,
       "total": 1000,
       "unit": "it",
       "unit_divisor": 1000,
       "unit_scale": false
      },
      "application/vnd.jupyter.widget-view+json": {
       "model_id": "3828b0ba621b4862ad765363e875ea96",
       "version_major": 2,
       "version_minor": 0
      },
      "text/plain": [
       "  0%|          | 0/1000 [00:00<?, ?it/s]"
      ]
     },
     "metadata": {},
     "output_type": "display_data"
    },
    {
     "data": {
      "application/json": {
       "ascii": false,
       "bar_format": null,
       "colour": null,
       "elapsed": 0.008720159530639648,
       "initial": 0,
       "n": 0,
       "ncols": null,
       "nrows": null,
       "postfix": null,
       "prefix": "",
       "rate": null,
       "total": 1000,
       "unit": "it",
       "unit_divisor": 1000,
       "unit_scale": false
      },
      "application/vnd.jupyter.widget-view+json": {
       "model_id": "37fd279c96a94095a3cd9d8bc795e5ed",
       "version_major": 2,
       "version_minor": 0
      },
      "text/plain": [
       "  0%|          | 0/1000 [00:00<?, ?it/s]"
      ]
     },
     "metadata": {},
     "output_type": "display_data"
    },
    {
     "data": {
      "application/json": {
       "ascii": false,
       "bar_format": null,
       "colour": null,
       "elapsed": 0.0073168277740478516,
       "initial": 0,
       "n": 0,
       "ncols": null,
       "nrows": null,
       "postfix": null,
       "prefix": "",
       "rate": null,
       "total": 1000,
       "unit": "it",
       "unit_divisor": 1000,
       "unit_scale": false
      },
      "application/vnd.jupyter.widget-view+json": {
       "model_id": "8ff3689ab6b1453297261ca600fae2f9",
       "version_major": 2,
       "version_minor": 0
      },
      "text/plain": [
       "  0%|          | 0/1000 [00:00<?, ?it/s]"
      ]
     },
     "metadata": {},
     "output_type": "display_data"
    },
    {
     "data": {
      "application/json": {
       "ascii": false,
       "bar_format": null,
       "colour": null,
       "elapsed": 0.007445812225341797,
       "initial": 0,
       "n": 0,
       "ncols": null,
       "nrows": null,
       "postfix": null,
       "prefix": "",
       "rate": null,
       "total": 1000,
       "unit": "it",
       "unit_divisor": 1000,
       "unit_scale": false
      },
      "application/vnd.jupyter.widget-view+json": {
       "model_id": "298aa733e572429293232e30a549e2e7",
       "version_major": 2,
       "version_minor": 0
      },
      "text/plain": [
       "  0%|          | 0/1000 [00:00<?, ?it/s]"
      ]
     },
     "metadata": {},
     "output_type": "display_data"
    },
    {
     "name": "stdout",
     "output_type": "stream",
     "text": [
      "Finished training!\n",
      "Best epoch: 1800\n",
      "tensor([-4.2474e+00, -4.4407e+00, -4.4296e+00, -4.4477e+00,  1.7497e-01,\n",
      "        -3.5954e+00, -3.3714e+00, -3.8038e+00, -7.3815e-01,  1.9186e-01,\n",
      "        -2.9056e+00, -7.0796e-01, -3.7556e+00, -3.3291e+00, -1.0857e+00,\n",
      "        -7.9286e-01, -1.3319e-01, -4.0633e+00, -4.5754e-01, -1.4259e-01,\n",
      "         1.2622e-01, -2.7428e+00, -4.7715e+00, -1.6350e-01, -4.2016e+00,\n",
      "        -3.9716e+00, -4.0245e+00, -3.5396e+00, -4.5962e+00, -3.0363e-02,\n",
      "        -6.0037e+00, -4.0930e+00, -4.6772e+00, -3.6003e+00, -3.7082e+00,\n",
      "        -3.4163e+00, -3.5373e-02, -3.4118e+00, -6.8929e+00, -3.3235e-01,\n",
      "        -5.0464e+00, -3.7686e+00, -5.0759e+00, -3.0841e+00, -4.1547e+00,\n",
      "        -1.7195e-01, -4.9256e+00, -3.0489e+00, -6.4855e-01, -1.5466e+00,\n",
      "        -5.1682e+00, -8.6700e-01, -5.5538e+00, -4.1734e+00, -2.0938e+00,\n",
      "        -3.6645e+00, -3.9028e+00, -5.6765e+00, -3.7271e+00, -6.6917e+00,\n",
      "        -2.8621e+00, -4.1933e+00, -3.8389e+00, -5.2379e+00, -4.7196e+00,\n",
      "        -3.6832e+00, -3.7669e+00, -1.7752e-01, -4.2857e+00, -3.4914e+00,\n",
      "        -4.4683e+00, -4.9526e+00, -5.5351e+00, -4.1394e+00, -4.3728e+00,\n",
      "        -3.5369e+00,  4.3455e-01, -3.6293e+00, -3.5658e+00, -2.5589e+00,\n",
      "        -3.6543e+00, -2.7526e+00, -5.9383e+00, -4.6501e+00, -3.6589e+00,\n",
      "        -3.1147e+00, -5.0448e+00, -4.9324e+00, -5.0994e+00, -2.8467e+00,\n",
      "        -3.6148e+00, -3.9396e+00,  1.4696e-01, -3.8351e+00, -5.9286e+00,\n",
      "        -4.3225e+00, -3.8684e+00, -4.1457e+00, -3.5558e+00, -2.9332e+00,\n",
      "        -6.7128e-01, -3.5601e-04, -4.5739e+00, -3.7585e+00,  1.6604e-01,\n",
      "        -4.4147e+00, -3.8126e+00, -4.2715e+00, -4.3664e+00,  3.8242e-01,\n",
      "        -3.9690e+00, -5.9728e+00, -3.8155e+00, -2.5571e+00, -5.0736e+00,\n",
      "        -4.8282e+00, -4.0238e+00, -5.0487e+00, -5.0295e-02,  1.7836e-01,\n",
      "        -1.6875e-01, -3.1215e-02, -4.2931e+00, -4.3074e+00, -1.0376e-01,\n",
      "        -5.9776e-01, -5.3762e+00, -4.3397e+00], device='cuda:2')\n",
      "\n",
      "Best fair model:\n",
      "\tacc: 0.6962\n",
      "\troc: 0.8280\n",
      "\tparity: 0.0060\n",
      "\tequality: 0.0056\n",
      "\tconsistency: 0.0704\n",
      "\n",
      "Best acc model:\n",
      "\tacc: 0.8228\n",
      "\troc: 0.8376\n",
      "\tparity: 0.1171\n",
      "\tequality: 0.0222\n",
      "\n",
      "Best auc model:\n",
      "\tacc: 0.5443\n",
      "\troc: 0.8703\n",
      "\tparity: 0.0010\n",
      "\tequality: 0.0889\n",
      "===========================\n",
      "Running nba_fair_ac_betas using seed 42\n",
      "Log directory: /home/fact21/fact_refactor/experiments/fair_ac/logs/nba/nba_fair_ac_betas_42_lambda2_0.7\n",
      "Params: {'lambda2': 0.7}\n",
      "===========================\n",
      "Created FairAC model with 1 sensitive class\n",
      "Created trainer with GCN model, using log_dir: /home/fact21/fact_refactor/experiments/fair_ac/logs/nba/nba_fair_ac_betas_42_lambda2_0.7\n",
      "Starting pre-training phase\n"
     ]
    },
    {
     "data": {
      "application/json": {
       "ascii": false,
       "bar_format": null,
       "colour": null,
       "elapsed": 0.00878286361694336,
       "initial": 0,
       "n": 0,
       "ncols": null,
       "nrows": null,
       "postfix": null,
       "prefix": "",
       "rate": null,
       "total": 200,
       "unit": "it",
       "unit_divisor": 1000,
       "unit_scale": false
      },
      "application/vnd.jupyter.widget-view+json": {
       "model_id": "7c071bde2887430791a4c45db3e592e9",
       "version_major": 2,
       "version_minor": 0
      },
      "text/plain": [
       "  0%|          | 0/200 [00:00<?, ?it/s]"
      ]
     },
     "metadata": {},
     "output_type": "display_data"
    },
    {
     "name": "stdout",
     "output_type": "stream",
     "text": [
      "Finished pretraining\n",
      "Starting main training...\n"
     ]
    },
    {
     "data": {
      "application/json": {
       "ascii": false,
       "bar_format": null,
       "colour": null,
       "elapsed": 0.005781888961791992,
       "initial": 0,
       "n": 0,
       "ncols": null,
       "nrows": null,
       "postfix": null,
       "prefix": "",
       "rate": null,
       "total": 2800,
       "unit": "it",
       "unit_divisor": 1000,
       "unit_scale": false
      },
      "application/vnd.jupyter.widget-view+json": {
       "model_id": "fa0844998ef648b1bc721d913641b213",
       "version_major": 2,
       "version_minor": 0
      },
      "text/plain": [
       "  0%|          | 0/2800 [00:00<?, ?it/s]"
      ]
     },
     "metadata": {},
     "output_type": "display_data"
    },
    {
     "data": {
      "application/json": {
       "ascii": false,
       "bar_format": null,
       "colour": null,
       "elapsed": 0.0077631473541259766,
       "initial": 0,
       "n": 0,
       "ncols": null,
       "nrows": null,
       "postfix": null,
       "prefix": "",
       "rate": null,
       "total": 1000,
       "unit": "it",
       "unit_divisor": 1000,
       "unit_scale": false
      },
      "application/vnd.jupyter.widget-view+json": {
       "model_id": "50a80642d07b44bb9be909c4ce721e5a",
       "version_major": 2,
       "version_minor": 0
      },
      "text/plain": [
       "  0%|          | 0/1000 [00:00<?, ?it/s]"
      ]
     },
     "metadata": {},
     "output_type": "display_data"
    },
    {
     "name": "stdout",
     "output_type": "stream",
     "text": [
      "[1000:96] Found new best fairness of 0.242262\n",
      "[1000:101] Found new best fairness of 0.174603\n",
      "[1000:102] Found new best fairness of 0.105556\n",
      "[1000:109] Found new best fairness of 0.058929\n",
      "[1000:159] Found new best fairness of 0.011508\n"
     ]
    },
    {
     "data": {
      "application/json": {
       "ascii": false,
       "bar_format": null,
       "colour": null,
       "elapsed": 0.016681909561157227,
       "initial": 0,
       "n": 0,
       "ncols": null,
       "nrows": null,
       "postfix": null,
       "prefix": "",
       "rate": null,
       "total": 1000,
       "unit": "it",
       "unit_divisor": 1000,
       "unit_scale": false
      },
      "application/vnd.jupyter.widget-view+json": {
       "model_id": "59282db3242847d9a3131f4c1b34bda3",
       "version_major": 2,
       "version_minor": 0
      },
      "text/plain": [
       "  0%|          | 0/1000 [00:00<?, ?it/s]"
      ]
     },
     "metadata": {},
     "output_type": "display_data"
    },
    {
     "data": {
      "application/json": {
       "ascii": false,
       "bar_format": null,
       "colour": null,
       "elapsed": 0.01632070541381836,
       "initial": 0,
       "n": 0,
       "ncols": null,
       "nrows": null,
       "postfix": null,
       "prefix": "",
       "rate": null,
       "total": 1000,
       "unit": "it",
       "unit_divisor": 1000,
       "unit_scale": false
      },
      "application/vnd.jupyter.widget-view+json": {
       "model_id": "a9b1b04c6e534ea5a11225f4c2e1b489",
       "version_major": 2,
       "version_minor": 0
      },
      "text/plain": [
       "  0%|          | 0/1000 [00:00<?, ?it/s]"
      ]
     },
     "metadata": {},
     "output_type": "display_data"
    },
    {
     "data": {
      "application/json": {
       "ascii": false,
       "bar_format": null,
       "colour": null,
       "elapsed": 0.016531944274902344,
       "initial": 0,
       "n": 0,
       "ncols": null,
       "nrows": null,
       "postfix": null,
       "prefix": "",
       "rate": null,
       "total": 1000,
       "unit": "it",
       "unit_divisor": 1000,
       "unit_scale": false
      },
      "application/vnd.jupyter.widget-view+json": {
       "model_id": "891571fcd8b747b5bf8fa866d09bb996",
       "version_major": 2,
       "version_minor": 0
      },
      "text/plain": [
       "  0%|          | 0/1000 [00:00<?, ?it/s]"
      ]
     },
     "metadata": {},
     "output_type": "display_data"
    },
    {
     "data": {
      "application/json": {
       "ascii": false,
       "bar_format": null,
       "colour": null,
       "elapsed": 0.008260488510131836,
       "initial": 0,
       "n": 0,
       "ncols": null,
       "nrows": null,
       "postfix": null,
       "prefix": "",
       "rate": null,
       "total": 1000,
       "unit": "it",
       "unit_divisor": 1000,
       "unit_scale": false
      },
      "application/vnd.jupyter.widget-view+json": {
       "model_id": "faebe3a5102849868b7799ba8f83dd38",
       "version_major": 2,
       "version_minor": 0
      },
      "text/plain": [
       "  0%|          | 0/1000 [00:00<?, ?it/s]"
      ]
     },
     "metadata": {},
     "output_type": "display_data"
    }
   ],
   "source": [
    "for (seed, log_dir, device, params) in experiment.runs():\n",
    "    print(\"===========================\")\n",
    "    print(f\"Running {experiment.experiment_name} using seed {seed}\")\n",
    "    print(f\"Log directory: {log_dir}\")\n",
    "    print(f\"Params: {params}\")\n",
    "    print(\"===========================\")\n",
    "    \n",
    "    # Create FairAC model\n",
    "    fair_ac = FairAC(\n",
    "        feature_dim=dataset.features.shape[1],\n",
    "        transformed_feature_dim=128,\n",
    "        emb_dim=dataset.embeddings.shape[1],\n",
    "        attn_vec_dim=128,\n",
    "        attn_num_heads=1,\n",
    "        dropout=0.5,\n",
    "        num_sensitive_classes=1,\n",
    "    ).to(experiment.device)\n",
    "    print(f\"Created FairAC model with {1} sensitive class\")\n",
    "        \n",
    "    # Create FairAC trainer\n",
    "    trainer = Trainer(\n",
    "        ac_model=fair_ac,\n",
    "        lambda2=params[\"lambda2\"],\n",
    "        dataset=dataset,\n",
    "        device=experiment.device,\n",
    "        gnn_config=gnn_config,\n",
    "        log_dir=log_dir,\n",
    "        min_acc=0.65,\n",
    "        min_roc=0.69,\n",
    "    )\n",
    "    print(f\"Created trainer with {'GCN'} model, using log_dir: {log_dir}\")\n",
    "\n",
    "    print(\"Starting pre-training phase\")\n",
    "    # Run pre-training\n",
    "    trainer.pretrain(epochs=200)\n",
    "    print(\"Finished pretraining\")\n",
    "    \n",
    "    # Main training loop, with GNN validation\n",
    "    print(\"Starting main training...\")\n",
    "    trainer.train(val_start_epoch=800, val_epoch_interval=200, epochs=2800)\n"
   ]
  }
 ],
 "metadata": {
  "kernelspec": {
   "display_name": "Python 3 (ipykernel)",
   "language": "python",
   "name": "python3"
  },
  "language_info": {
   "codemirror_mode": {
    "name": "ipython",
    "version": 3
   },
   "file_extension": ".py",
   "mimetype": "text/x-python",
   "name": "python",
   "nbconvert_exporter": "python",
   "pygments_lexer": "ipython3",
   "version": "3.8.13"
  }
 },
 "nbformat": 4,
 "nbformat_minor": 5
}
