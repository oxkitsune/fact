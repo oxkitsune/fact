{
 "cells": [
  {
   "cell_type": "code",
   "execution_count": null,
   "id": "bb0081b1-96b6-4e7c-8897-c169c2bee04a",
   "metadata": {},
   "outputs": [],
   "source": [
    "import sys\n",
    "import os\n",
    "import torch\n",
    "sys.path.append(os.path.abspath(\"../\"))\n",
    "from base_experiment import ExperimentRunner"
   ]
  },
  {
   "cell_type": "code",
   "execution_count": null,
   "id": "b42a14e5-a87c-4765-9535-fe27a6c286c7",
   "metadata": {},
   "outputs": [],
   "source": [
    "# Set up the experiment runner with the all the seeds and params we want\n",
    "experiment = ExperimentRunner(\n",
    "    experiment_name = \"pokec_z_fair_ac_alpha_experiments\",\n",
    "    seeds = [40, 41, 42],\n",
    "    data_path = \"dataset/pokec\",\n",
    "    log_dir=\"experiments/fair_ac/logs/pokec_z\", \n",
    "    device=3,\n",
    "    params=[{\"feat_drop_rate\": f} for f in (0.1, 0.3, 0.5, 0.8)]\n",
    ")\n",
    "\n",
    "# after we set up the experiment, we can import the rest\n",
    "from dataset import PokecZ\n",
    "from models.gnn import WrappedGNNConfig\n",
    "from models.fair.ac import FairAC, Trainer"
   ]
  },
  {
   "cell_type": "code",
   "execution_count": null,
   "id": "9f930eb9-9523-4584-98bf-45f7c749b97d",
   "metadata": {},
   "outputs": [],
   "source": [
    "gnn_config = WrappedGNNConfig(\n",
    "    hidden_dim=128,\n",
    "    kind=\"GCN\",\n",
    "    lr=1e-3,\n",
    "    weight_decay=1e-5,\n",
    "    kwargs={\"dropout\": 0.5},\n",
    ")"
   ]
  },
  {
   "cell_type": "code",
   "execution_count": null,
   "id": "13ac7751-fc8f-438c-a28e-05b124ab1c42",
   "metadata": {},
   "outputs": [],
   "source": [
    "for (seed, log_dir, device, params) in experiment.runs():\n",
    "    print(\"===========================\")\n",
    "    print(f\"Running {experiment.experiment_name} using seed {seed}\")\n",
    "    print(f\"Log directory: {log_dir}\")\n",
    "    print(f\"Params: {params}\")\n",
    "    print(\"===========================\")\n",
    "    \n",
    "    # Load in the dataset\n",
    "    dataset = PokecZ(\n",
    "        nodes_path=experiment.data_path / \"region_job.csv\",\n",
    "        edges_path=experiment.data_path / \"region_job_relationship.txt\",\n",
    "        embedding_path=experiment.data_path / \"pokec_z_embedding10.npy\",\n",
    "        feat_drop_rate=params[\"feat_drop_rate\"],\n",
    "        device=device\n",
    "    )\n",
    "\n",
    "    print(f\"Loaded dataset with {dataset.graph.num_nodes()} nodes and {dataset.graph.num_edges()} edges\")\n",
    "    print(f\"Using feat_drop_rate: {dataset.feat_drop_rate}\")\n",
    "\n",
    "    # Create FairAC model\n",
    "    fair_ac = FairAC(\n",
    "        feature_dim=dataset.features.shape[1],\n",
    "        transformed_feature_dim=128,\n",
    "        emb_dim=dataset.embeddings.shape[1],\n",
    "        attn_vec_dim=128,\n",
    "        attn_num_heads=1,\n",
    "        dropout=0.5,\n",
    "        num_sensitive_classes=1,\n",
    "    ).to(device)\n",
    "    print(f\"Created FairAC model with {1} sensitive class\")\n",
    "\n",
    "    # Create FairAC trainer\n",
    "    trainer = Trainer(\n",
    "        ac_model=fair_ac,\n",
    "        lambda1=1.0,\n",
    "        lambda2=1.0,\n",
    "        dataset=dataset,\n",
    "        device=device,\n",
    "        gnn_config=gnn_config,\n",
    "        log_dir=log_dir,\n",
    "        min_acc=0.65,\n",
    "        min_roc=0.69,\n",
    "    )\n",
    "    print(f\"Created trainer with {'GCN'} model, using log_dir: {log_dir}\")\n",
    "\n",
    "    print(\"Starting pre-training phase\")\n",
    "    # Run pre-training\n",
    "    trainer.pretrain(epochs=200)\n",
    "    print(\"Finished pretraining\")\n",
    "    \n",
    "    # Main training loop, with GNN validation\n",
    "    print(\"Starting main training...\")\n",
    "    trainer.train(val_start_epoch=800, val_epoch_interval=200, epochs=2800)\n",
    "\n",
    "    # As we allocate the entire dataset on the gpu, we need to de-allocate it, before starting over.\n",
    "    del dataset\n",
    "    del trainer\n",
    "    del fair_ac\n",
    "    torch.cuda.empty_cache()\n",
    "    print(\"Cleared cuda cache\")\n"
   ]
  }
 ],
 "metadata": {
  "kernelspec": {
   "display_name": "Python 3 (ipykernel)",
   "language": "python",
   "name": "python3"
  },
  "language_info": {
   "codemirror_mode": {
    "name": "ipython",
    "version": 3
   },
   "file_extension": ".py",
   "mimetype": "text/x-python",
   "name": "python",
   "nbconvert_exporter": "python",
   "pygments_lexer": "ipython3",
   "version": "3.8.13"
  }
 },
 "nbformat": 4,
 "nbformat_minor": 5
}
