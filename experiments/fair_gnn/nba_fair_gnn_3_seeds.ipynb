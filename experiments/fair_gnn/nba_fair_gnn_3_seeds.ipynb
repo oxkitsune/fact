{
 "cells": [
  {
   "cell_type": "markdown",
   "metadata": {},
   "source": [
    "## FairGNN Experiments on the NBA dataset\n",
    "This notebook can be used to run FairGNN experiments on the NBA dataset.\n",
    "\n",
    "It is currently configured to run a full training run on three different seeds."
   ]
  },
  {
   "cell_type": "code",
   "execution_count": 1,
   "id": "36490633-6b99-4cda-bbf8-6fba5ebefb38",
   "metadata": {},
   "outputs": [],
   "source": [
    "import sys\n",
    "import os\n",
    "import torch\n",
    "sys.path.append(os.path.abspath(\"../\"))\n",
    "from base_experiment import ExperimentRunner"
   ]
  },
  {
   "cell_type": "markdown",
   "metadata": {},
   "source": [
    "### Set up the experiment runner\n",
    "First we create an experiment runner, which is used to set the random seeds and provide params/logging directories to the different runs."
   ]
  },
  {
   "cell_type": "code",
   "execution_count": 2,
   "id": "85528069-1cf2-4e5a-8d97-56fde897e90a",
   "metadata": {},
   "outputs": [],
   "source": [
    "experiment = ExperimentRunner(\n",
    "    experiment_name = \"nba_fair_gnn_main\",\n",
    "    seeds = [40, 41, 42],\n",
    "    data_path = \"dataset/NBA\",\n",
    "    log_dir=\"experiments/fair_gnn/logs/nba\", \n",
    "    device=0,\n",
    "    params=[{\"alpha\": 10, \"beta\": 1}] # alpha is set to 10 for NBA\n",
    ")\n",
    "\n",
    "# after we set up the experiment, we can import the rest\n",
    "from dataset import NBA\n",
    "from models.gnn import WrappedGNNConfig\n",
    "from models.fair.gnn import FairGNN, Trainer"
   ]
  },
  {
   "cell_type": "markdown",
   "metadata": {},
   "source": [
    "### Run the experiments\n",
    "Now we're ready to run the experiments!\n",
    "\n",
    "We can do this by iterating of the `ExperimentRunner.runs()` method. This method returns a generator that yields the seed, logging directory, device and the params for the current experiment run.\n",
    "\n",
    "\n",
    "For each experiment run we first:\n",
    "1. Load in the dataset\n",
    "2. Create the FairGNN model instance\n",
    "3. Create the FairGNN trainer\n",
    "\n",
    "\n",
    "Once everything is initiliased, we can run the training using `Trainer.train()`. This trains the full FairGNN model for the specified epochs."
   ]
  },
  {
   "cell_type": "code",
   "execution_count": 3,
   "id": "98fc9abb-5519-43f3-a15e-a776034f317d",
   "metadata": {},
   "outputs": [
    {
     "name": "stdout",
     "output_type": "stream",
     "text": [
      "===========================\n",
      "Running nba_fair_gnn_main using seed 40\n",
      "Log directory: /home/fact21/fact_refactor/experiments/fair_gnn/logs/nba/nba_fair_gnn_main_40_alpha_10_beta_1\n",
      "Params: {'alpha': 10, 'beta': 1}\n",
      "===========================\n",
      "Loaded dataset with 403 nodes and 21645 edges\n",
      "Using feat_drop_rate: 0.3\n",
      "Created FairGNN model with 1 sensitive class\n",
      "Created trainer with GCN model, using LOG_DIR: /home/fact21/fact_refactor/experiments/fair_gnn/logs/nba/nba_fair_gnn_main_40_alpha_10_beta_1\n",
      "Starting training phase\n"
     ]
    },
    {
     "data": {
      "application/json": {
       "ascii": false,
       "bar_format": null,
       "colour": null,
       "elapsed": 0.00789499282836914,
       "initial": 0,
       "n": 0,
       "ncols": null,
       "nrows": 62,
       "postfix": null,
       "prefix": "",
       "rate": null,
       "total": 3000,
       "unit": "it",
       "unit_divisor": 1000,
       "unit_scale": false
      },
      "application/vnd.jupyter.widget-view+json": {
       "model_id": "af837b36b7ed4b68b5dc6fc8f1a7e8bc",
       "version_major": 2,
       "version_minor": 0
      },
      "text/plain": [
       "  0%|          | 0/3000 [00:00<?, ?it/s]"
      ]
     },
     "metadata": {},
     "output_type": "display_data"
    },
    {
     "name": "stdout",
     "output_type": "stream",
     "text": [
      "Finished training!\n",
      "Best fair model:\n",
      "\tacc: 0.6526\n",
      "\troc: 0.7332\n",
      "\tparity: 0.0124\n",
      "\tequality: 0.0399\n",
      "\tconsistency: 0.0264\n",
      "===========================\n",
      "Running nba_fair_gnn_main using seed 41\n",
      "Log directory: /home/fact21/fact_refactor/experiments/fair_gnn/logs/nba/nba_fair_gnn_main_41_alpha_10_beta_1\n",
      "Params: {'alpha': 10, 'beta': 1}\n",
      "===========================\n",
      "Loaded dataset with 403 nodes and 21645 edges\n",
      "Using feat_drop_rate: 0.3\n",
      "Created FairGNN model with 1 sensitive class\n",
      "Created trainer with GCN model, using LOG_DIR: /home/fact21/fact_refactor/experiments/fair_gnn/logs/nba/nba_fair_gnn_main_41_alpha_10_beta_1\n",
      "Starting training phase\n"
     ]
    },
    {
     "data": {
      "application/json": {
       "ascii": false,
       "bar_format": null,
       "colour": null,
       "elapsed": 0.009034395217895508,
       "initial": 0,
       "n": 0,
       "ncols": null,
       "nrows": 62,
       "postfix": null,
       "prefix": "",
       "rate": null,
       "total": 3000,
       "unit": "it",
       "unit_divisor": 1000,
       "unit_scale": false
      },
      "application/vnd.jupyter.widget-view+json": {
       "model_id": "400f8405218845c3b2d87ba494aba927",
       "version_major": 2,
       "version_minor": 0
      },
      "text/plain": [
       "  0%|          | 0/3000 [00:00<?, ?it/s]"
      ]
     },
     "metadata": {},
     "output_type": "display_data"
    },
    {
     "name": "stdout",
     "output_type": "stream",
     "text": [
      "Finished training!\n",
      "Best fair model:\n",
      "\tacc: 0.7230\n",
      "\troc: 0.7882\n",
      "\tparity: 0.0005\n",
      "\tequality: 0.0024\n",
      "\tconsistency: 0.0264\n",
      "===========================\n",
      "Running nba_fair_gnn_main using seed 42\n",
      "Log directory: /home/fact21/fact_refactor/experiments/fair_gnn/logs/nba/nba_fair_gnn_main_42_alpha_10_beta_1\n",
      "Params: {'alpha': 10, 'beta': 1}\n",
      "===========================\n",
      "Loaded dataset with 403 nodes and 21645 edges\n",
      "Using feat_drop_rate: 0.3\n",
      "Created FairGNN model with 1 sensitive class\n",
      "Created trainer with GCN model, using LOG_DIR: /home/fact21/fact_refactor/experiments/fair_gnn/logs/nba/nba_fair_gnn_main_42_alpha_10_beta_1\n",
      "Starting training phase\n"
     ]
    },
    {
     "data": {
      "application/json": {
       "ascii": false,
       "bar_format": null,
       "colour": null,
       "elapsed": 0.008977890014648438,
       "initial": 0,
       "n": 0,
       "ncols": null,
       "nrows": 62,
       "postfix": null,
       "prefix": "",
       "rate": null,
       "total": 3000,
       "unit": "it",
       "unit_divisor": 1000,
       "unit_scale": false
      },
      "application/vnd.jupyter.widget-view+json": {
       "model_id": "a46cb2e47d3f4df39da9b4e9df25e1b0",
       "version_major": 2,
       "version_minor": 0
      },
      "text/plain": [
       "  0%|          | 0/3000 [00:00<?, ?it/s]"
      ]
     },
     "metadata": {},
     "output_type": "display_data"
    },
    {
     "name": "stdout",
     "output_type": "stream",
     "text": [
      "Finished training!\n",
      "Best fair model:\n",
      "\tacc: 0.6667\n",
      "\troc: 0.7694\n",
      "\tparity: 0.0045\n",
      "\tequality: 0.0019\n",
      "\tconsistency: 0.0264\n"
     ]
    }
   ],
   "source": [
    "for (seed, log_dir, device, params) in experiment.runs():\n",
    "    print(\"===========================\")\n",
    "    print(f\"Running {experiment.experiment_name} using seed {seed}\")\n",
    "    print(f\"Log directory: {log_dir}\")\n",
    "    print(f\"Params: {params}\")\n",
    "    print(\"===========================\")\n",
    "    \n",
    "    # Load in the dataset\n",
    "    dataset = NBA(\n",
    "        nodes_path=experiment.data_path / \"nba.csv\",\n",
    "        edges_path=experiment.data_path / \"nba_relationship.txt\",\n",
    "        embedding_path=experiment.data_path / \"nba_embedding10.npy\",\n",
    "        feat_drop_rate=0.3,\n",
    "        device=experiment.device,\n",
    "    )\n",
    "    \n",
    "    print(f\"Loaded dataset with {dataset.graph.num_nodes()} nodes and {dataset.graph.num_edges()} edges\")\n",
    "    print(f\"Using feat_drop_rate: {dataset.feat_drop_rate}\")\n",
    "    \n",
    "    # Create FairGNN model\n",
    "    fair_gnn = FairGNN(\n",
    "        num_features=dataset.features.shape[1],\n",
    "        device = device,\n",
    "    ).to(device)\n",
    "    \n",
    "    # load pre-trained estimator\n",
    "    fair_gnn.load_estimator(experiment.data_path / \"GCN_sens_nba_ns_50\")\n",
    "    print(f\"Created FairGNN model with {1} sensitive class\")\n",
    "    \n",
    "    # Create fair gnn trainer\n",
    "    trainer = Trainer(\n",
    "        dataset=dataset,\n",
    "        fair_gnn=fair_gnn,\n",
    "        device=device,\n",
    "        log_dir=log_dir,\n",
    "        alpha=params[\"alpha\"],\n",
    "        beta=params[\"beta\"],\n",
    "        min_acc=0.65,\n",
    "        min_roc=0.69,\n",
    "    )\n",
    "    \n",
    "    print(f\"Created trainer with {'GCN'} model, using LOG_DIR: {log_dir}\")\n",
    "\n",
    "    print(\"Starting training phase\")\n",
    "    # Train the model\n",
    "    trainer.train(epochs=3000)\n"
   ]
  }
 ],
 "metadata": {
  "kernelspec": {
   "display_name": "Python 3 (ipykernel)",
   "language": "python",
   "name": "python3"
  },
  "language_info": {
   "codemirror_mode": {
    "name": "ipython",
    "version": 3
   },
   "file_extension": ".py",
   "mimetype": "text/x-python",
   "name": "python",
   "nbconvert_exporter": "python",
   "pygments_lexer": "ipython3",
   "version": "3.8.13"
  }
 },
 "nbformat": 4,
 "nbformat_minor": 5
}
