{
 "cells": [
  {
   "cell_type": "code",
   "execution_count": 1,
   "id": "36490633-6b99-4cda-bbf8-6fba5ebefb38",
   "metadata": {},
   "outputs": [
    {
     "name": "stdout",
     "output_type": "stream",
     "text": [
      "Using directories:\n",
      "root_dir: /home/fact21/fact_refactor\n",
      "data_dir: /home/fact21/fact_refactor/dataset/pokec\n",
      "log_dir: /home/fact21/fact_refactor/experiments/fair_gnn/logs/pokec_z\n",
      "========================================\n",
      "device: cuda:1\n"
     ]
    }
   ],
   "source": [
    "import sys\n",
    "import os\n",
    "sys.path.append(os.path.abspath(\"../\"))\n",
    "import base_experiment\n",
    "\n",
    "\n",
    "\n",
    "ROOT_DIR, DATA_PATH, LOG_DIR, DEVICE = base_experiment.setup_experiment(\n",
    "    seed=36, \n",
    "    data_path=\"dataset/pokec\", \n",
    "    log_dir=\"experiments/fair_gnn/logs/pokec_z\", \n",
    "    device=1\n",
    ")\n",
    "\n",
    "# import these after, as we need to set correct path in setup_experiment\n",
    "import torch\n",
    "import numpy as np\n",
    "from models.fair import FairGNN, FairGNNTrainer\n",
    "from dataset import PokecZ"
   ]
  },
  {
   "cell_type": "code",
   "execution_count": 2,
   "id": "85528069-1cf2-4e5a-8d97-56fde897e90a",
   "metadata": {},
   "outputs": [
    {
     "name": "stdout",
     "output_type": "stream",
     "text": [
      "Loaded dataset with 67796 nodes and 1303712 edges\n",
      "Using feat_drop_rate: 0.3\n"
     ]
    }
   ],
   "source": [
    "# Load in the dataset\n",
    "dataset = PokecZ(\n",
    "    nodes_path=DATA_PATH / \"region_job.csv\",\n",
    "    edges_path=DATA_PATH / \"region_job_relationship.txt\",\n",
    "    embedding_path=DATA_PATH / \"pokec_z_embedding10.npy\",\n",
    "    feat_drop_rate=0.3,\n",
    "    device=DEVICE\n",
    ")\n",
    "\n",
    "print(f\"Loaded dataset with {dataset.graph.num_nodes()} nodes and {dataset.graph.num_edges()} edges\")\n",
    "print(f\"Using feat_drop_rate: {dataset.feat_drop_rate}\")"
   ]
  },
  {
   "cell_type": "code",
   "execution_count": 3,
   "id": "c8048c63-8ab5-4df1-9a3a-690b9b7a7f22",
   "metadata": {},
   "outputs": [
    {
     "name": "stdout",
     "output_type": "stream",
     "text": [
      "Created FairGNN model with 1 sensitive class\n"
     ]
    }
   ],
   "source": [
    "# Create FairGNN model\n",
    "fair_gnn = FairGNN(\n",
    "    num_features=dataset.features.shape[1],\n",
    "    alpha=100, # for pokec_z, alpha is set to 100\n",
    ").to(DEVICE)\n",
    "\n",
    "# load pre-trained estimator\n",
    "estimator_path = ROOT_DIR / \"src/checkpoint/GCN_sens_region_job_ns_200\"\n",
    "fair_gnn.estimator.load_state_dict(torch.load(str(estimator_path.resolve())))\n",
    "\n",
    "print(f\"Created FairGNN model with {1} sensitive class\")"
   ]
  },
  {
   "cell_type": "code",
   "execution_count": 4,
   "id": "08da444a-ddb7-4f23-88c0-1b7374308b3a",
   "metadata": {},
   "outputs": [
    {
     "name": "stdout",
     "output_type": "stream",
     "text": [
      "Created trainer with GCN model, using LOG_DIR: /home/fact21/fact_refactor/experiments/fair_gnn/logs/pokec_z\n"
     ]
    }
   ],
   "source": [
    "# Create fair gnn trainer\n",
    "trainer = FairGNNTrainer(\n",
    "    dataset=dataset,\n",
    "    fair_gnn=fair_gnn,\n",
    "    device=DEVICE,\n",
    "    log_dir=LOG_DIR,\n",
    "    min_acc=0.65,\n",
    "    min_roc=0.69,\n",
    ")\n",
    "\n",
    "print(f\"Created trainer with {'GCN'} model, using LOG_DIR: {LOG_DIR}\")"
   ]
  },
  {
   "cell_type": "code",
   "execution_count": 5,
   "id": "bb52df54-5a2d-43d5-b783-e7e172f6c463",
   "metadata": {},
   "outputs": [
    {
     "data": {
      "application/json": {
       "ascii": false,
       "bar_format": null,
       "colour": null,
       "elapsed": 0.016864538192749023,
       "initial": 0,
       "n": 0,
       "ncols": null,
       "nrows": 66,
       "postfix": null,
       "prefix": "",
       "rate": null,
       "total": 3000,
       "unit": "it",
       "unit_divisor": 1000,
       "unit_scale": false
      },
      "application/vnd.jupyter.widget-view+json": {
       "model_id": "7456910dda024844ac1b5ef3ff963984",
       "version_major": 2,
       "version_minor": 0
      },
      "text/plain": [
       "  0%|          | 0/3000 [00:00<?, ?it/s]"
      ]
     },
     "metadata": {},
     "output_type": "display_data"
    },
    {
     "name": "stdout",
     "output_type": "stream",
     "text": [
      "Finished training!\n",
      "\n",
      "Best fair model:\n",
      "\tacc: 0.6571\n",
      "\troc: 0.7180\n",
      "\tparity: 0.0241\n",
      "\tequality: 0.0417\n"
     ]
    }
   ],
   "source": [
    "# Train the model\n",
    "trainer.train(epochs=3000)"
   ]
  }
 ],
 "metadata": {
  "kernelspec": {
   "display_name": "Python 3 (ipykernel)",
   "language": "python",
   "name": "python3"
  },
  "language_info": {
   "codemirror_mode": {
    "name": "ipython",
    "version": 3
   },
   "file_extension": ".py",
   "mimetype": "text/x-python",
   "name": "python",
   "nbconvert_exporter": "python",
   "pygments_lexer": "ipython3",
   "version": "3.8.13"
  }
 },
 "nbformat": 4,
 "nbformat_minor": 5
}
