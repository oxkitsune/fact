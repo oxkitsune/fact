{
 "cells": [
  {
   "cell_type": "code",
   "execution_count": 1,
   "id": "36490633-6b99-4cda-bbf8-6fba5ebefb38",
   "metadata": {},
   "outputs": [],
   "source": [
    "import sys\n",
    "import os\n",
    "import torch\n",
    "sys.path.append(os.path.abspath(\"../\"))\n",
    "from base_experiment import ExperimentRunner"
   ]
  },
  {
   "cell_type": "code",
   "execution_count": 2,
   "id": "85528069-1cf2-4e5a-8d97-56fde897e90a",
   "metadata": {},
   "outputs": [],
   "source": [
    "experiment = ExperimentRunner(\n",
    "    experiment_name = \"nba_fair_gnn_main\",\n",
    "    seeds = [40, 41, 42],\n",
    "    data_path = \"dataset/NBA\",\n",
    "    log_dir=\"experiments/fair_gnn/logs/nba\", \n",
    "    device=3,\n",
    "    params=[{\"alpha\": 10}] # alpha is set to 10 for NBA\n",
    ")\n",
    "\n",
    "# after we set up the experiment, we can import the rest\n",
    "from dataset import NBA\n",
    "from models.gnn import WrappedGNNConfig\n",
    "from models.fair.gnn import FairGNN, Trainer"
   ]
  },
  {
   "cell_type": "code",
   "execution_count": 3,
   "id": "f5dcc28b-93df-4873-a990-9e5a3dcf9537",
   "metadata": {},
   "outputs": [
    {
     "name": "stdout",
     "output_type": "stream",
     "text": [
      "Loaded dataset with 403 nodes and 21645 edges\n",
      "Using feat_drop_rate: 0.3\n"
     ]
    }
   ],
   "source": [
    "# Load in the dataset\n",
    "dataset = NBA(\n",
    "    nodes_path=experiment.data_path / \"nba.csv\",\n",
    "    edges_path=experiment.data_path / \"nba_relationship.txt\",\n",
    "    embedding_path=experiment.data_path / \"nba_embedding10.npy\",\n",
    "    feat_drop_rate=0.3,\n",
    "    device=experiment.device\n",
    ")\n",
    "\n",
    "print(f\"Loaded dataset with {dataset.graph.num_nodes()} nodes and {dataset.graph.num_edges()} edges\")\n",
    "print(f\"Using feat_drop_rate: {dataset.feat_drop_rate}\")"
   ]
  },
  {
   "cell_type": "code",
   "execution_count": null,
   "id": "98fc9abb-5519-43f3-a15e-a776034f317d",
   "metadata": {},
   "outputs": [
    {
     "name": "stdout",
     "output_type": "stream",
     "text": [
      "===========================\n",
      "Running nba_fair_gnn_main using seed 40\n",
      "Log directory: /home/fact21/fact_refactor/experiments/fair_gnn/logs/nba/nba_fair_gnn_main_40_alpha_10\n",
      "Params: {'alpha': 10}\n",
      "===========================\n",
      "Created FairGNN model with 1 sensitive class\n",
      "Created trainer with GCN model, using LOG_DIR: /home/fact21/fact_refactor/experiments/fair_gnn/logs/nba/nba_fair_gnn_main_40_alpha_10\n",
      "Starting training phase\n"
     ]
    },
    {
     "data": {
      "application/json": {
       "ascii": false,
       "bar_format": null,
       "colour": null,
       "elapsed": 0.008321046829223633,
       "initial": 0,
       "n": 0,
       "ncols": null,
       "nrows": 62,
       "postfix": null,
       "prefix": "",
       "rate": null,
       "total": 3000,
       "unit": "it",
       "unit_divisor": 1000,
       "unit_scale": false
      },
      "application/vnd.jupyter.widget-view+json": {
       "model_id": "770e1a3166b7490eb8b273cdffa2740d",
       "version_major": 2,
       "version_minor": 0
      },
      "text/plain": [
       "  0%|          | 0/3000 [00:00<?, ?it/s]"
      ]
     },
     "metadata": {},
     "output_type": "display_data"
    },
    {
     "name": "stdout",
     "output_type": "stream",
     "text": [
      "[505] updated to: Metrics(epoch=505, acc=0.6572769953051644, roc=0.6994708994708995, parity=0.2304948216340621, equality=0.2852969814995131, consistency=None)\n",
      "[526] updated to: Metrics(epoch=526, acc=0.6525821596244131, roc=0.7044091710758377, parity=0.22658227848101264, equality=0.24634858812074, consistency=None)\n",
      "[541] updated to: Metrics(epoch=541, acc=0.6713615023474179, roc=0.7088183421516756, parity=0.22658227848101264, equality=0.2205452775073029, consistency=None)\n",
      "[547] updated to: Metrics(epoch=547, acc=0.6525821596244131, roc=0.7069664902998237, parity=0.07249712313003454, equality=0.10418695228821806, consistency=None)\n",
      "[971] updated to: Metrics(epoch=971, acc=0.6525821596244131, roc=0.7627865961199295, parity=0.07410817031070194, equality=0.052580331061343744, consistency=None)\n",
      "[981] updated to: Metrics(epoch=981, acc=0.6525821596244131, roc=0.7622574955908289, parity=0.001380897583429186, equality=0.02434274586173324, consistency=None)\n",
      "[2106] updated to: Metrics(epoch=2106, acc=0.6572769953051644, roc=0.7782186948853616, parity=0.018757192174913673, equality=0.0014605647517039744, consistency=None)\n",
      "[2219] updated to: Metrics(epoch=2219, acc=0.6619718309859155, roc=0.7811287477954145, parity=0.012428078250863006, equality=0.0014605647517039744, consistency=None)\n",
      "[2842] updated to: Metrics(epoch=2842, acc=0.6666666666666666, roc=0.7828924162257496, parity=0.0060989643268124505, equality=0.0014605647517039744, consistency=None)\n",
      "Finished training!\n",
      "Best fair model:\n",
      "\tacc: 0.6667\n",
      "\troc: 0.7829\n",
      "\tparity: 0.0061\n",
      "\tequality: 0.0015\n",
      "\tconsistency: 0.0264\n",
      "===========================\n",
      "Running nba_fair_gnn_main using seed 41\n",
      "Log directory: /home/fact21/fact_refactor/experiments/fair_gnn/logs/nba/nba_fair_gnn_main_41_alpha_10\n",
      "Params: {'alpha': 10}\n",
      "===========================\n",
      "Created FairGNN model with 1 sensitive class\n",
      "Created trainer with GCN model, using LOG_DIR: /home/fact21/fact_refactor/experiments/fair_gnn/logs/nba/nba_fair_gnn_main_41_alpha_10\n",
      "Starting training phase\n"
     ]
    },
    {
     "data": {
      "application/json": {
       "ascii": false,
       "bar_format": null,
       "colour": null,
       "elapsed": 0.006819725036621094,
       "initial": 0,
       "n": 0,
       "ncols": null,
       "nrows": 62,
       "postfix": null,
       "prefix": "",
       "rate": null,
       "total": 3000,
       "unit": "it",
       "unit_divisor": 1000,
       "unit_scale": false
      },
      "application/vnd.jupyter.widget-view+json": {
       "model_id": "8fa73e28273e4249a07fa92177f5cf9a",
       "version_major": 2,
       "version_minor": 0
      },
      "text/plain": [
       "  0%|          | 0/3000 [00:00<?, ?it/s]"
      ]
     },
     "metadata": {},
     "output_type": "display_data"
    },
    {
     "name": "stdout",
     "output_type": "stream",
     "text": [
      "[429] updated to: Metrics(epoch=429, acc=0.6525821596244131, roc=0.696031746031746, parity=0.1285385500575374, equality=0.14410905550146058, consistency=None)\n",
      "[585] updated to: Metrics(epoch=585, acc=0.6619718309859155, roc=0.7224867724867725, parity=0.10402761795166854, equality=0.10564751703992215, consistency=None)\n",
      "[587] updated to: Metrics(epoch=587, acc=0.6525821596244131, roc=0.7194003527336863, parity=0.08354430379746836, equality=0.06621226874391428, consistency=None)\n",
      "[636] updated to: Metrics(epoch=636, acc=0.676056338028169, roc=0.7283950617283952, parity=0.08826237054085162, equality=0.05355404089581306, consistency=None)\n",
      "[654] updated to: Metrics(epoch=654, acc=0.6713615023474179, roc=0.7323633156966491, parity=0.08193325661680095, equality=0.04089581304771173, consistency=None)\n",
      "[1207] updated to: Metrics(epoch=1207, acc=0.6525821596244131, roc=0.7728395061728395, parity=0.03693901035673186, equality=0.011197663096397248, consistency=None)\n",
      "[1287] updated to: Metrics(epoch=1287, acc=0.6572769953051644, roc=0.7771604938271606, parity=0.04326812428078253, equality=0.0014605647517039744, consistency=None)\n",
      "[1303] updated to: Metrics(epoch=1303, acc=0.6525821596244131, roc=0.777336860670194, parity=0.02508630609896434, equality=0.0014605647517039744, consistency=None)\n"
     ]
    }
   ],
   "source": [
    "for (seed, log_dir, device, params) in experiment.runs():\n",
    "    print(\"===========================\")\n",
    "    print(f\"Running {experiment.experiment_name} using seed {seed}\")\n",
    "    print(f\"Log directory: {log_dir}\")\n",
    "    print(f\"Params: {params}\")\n",
    "    print(\"===========================\")\n",
    "\n",
    "    # Create FairGNN model\n",
    "    fair_gnn = FairGNN(\n",
    "        num_features=dataset.features.shape[1],\n",
    "        alpha=params[\"alpha\"],\n",
    "        device = device,\n",
    "    ).to(device)\n",
    "    \n",
    "    # load pre-trained estimator\n",
    "    fair_gnn.load_estimator(experiment.data_path / \"GCN_sens_nba_ns_50\")\n",
    "    print(f\"Created FairGNN model with {1} sensitive class\")\n",
    "    \n",
    "    # Create fair gnn trainer\n",
    "    trainer = Trainer(\n",
    "        dataset=dataset,\n",
    "        fair_gnn=fair_gnn,\n",
    "        device=device,\n",
    "        log_dir=log_dir,\n",
    "        min_acc=0.65,\n",
    "        min_roc=0.69,\n",
    "    )\n",
    "    \n",
    "    print(f\"Created trainer with {'GCN'} model, using LOG_DIR: {log_dir}\")\n",
    "\n",
    "    print(\"Starting training phase\")\n",
    "    # Train the model\n",
    "    trainer.train(epochs=3000)\n"
   ]
  }
 ],
 "metadata": {
  "kernelspec": {
   "display_name": "Python 3 (ipykernel)",
   "language": "python",
   "name": "python3"
  },
  "language_info": {
   "codemirror_mode": {
    "name": "ipython",
    "version": 3
   },
   "file_extension": ".py",
   "mimetype": "text/x-python",
   "name": "python",
   "nbconvert_exporter": "python",
   "pygments_lexer": "ipython3",
   "version": "3.8.13"
  }
 },
 "nbformat": 4,
 "nbformat_minor": 5
}
