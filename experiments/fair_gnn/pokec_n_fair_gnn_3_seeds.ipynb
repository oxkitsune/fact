{
 "cells": [
  {
   "cell_type": "markdown",
   "metadata": {},
   "source": [
    "## FairGNN Experiments on the Pokec-N dataset\n",
    "This notebook can be used to run FairGNN experiments on the Pokec-N dataset.\n",
    "\n",
    "It is currently configured to run a full training run on three different seeds."
   ]
  },
  {
   "cell_type": "code",
   "execution_count": null,
   "id": "36490633-6b99-4cda-bbf8-6fba5ebefb38",
   "metadata": {},
   "outputs": [],
   "source": [
    "import sys\n",
    "import os\n",
    "import torch\n",
    "sys.path.append(os.path.abspath(\"../\"))\n",
    "from base_experiment import ExperimentRunner"
   ]
  },
  {
   "cell_type": "markdown",
   "metadata": {},
   "source": [
    "### Set up the experiment runner\n",
    "First we create an experiment runner, which is used to set the random seeds and provide params/logging directories to the different runs."
   ]
  },
  {
   "cell_type": "code",
   "execution_count": null,
   "id": "85528069-1cf2-4e5a-8d97-56fde897e90a",
   "metadata": {},
   "outputs": [],
   "source": [
    "experiment = ExperimentRunner(\n",
    "    experiment_name = \"pokec_n_fair_gnn_main\",\n",
    "    seeds = [40, 41, 42],\n",
    "    data_path = \"dataset/pokec\",\n",
    "    log_dir=\"experiments/fair_gnn/logs/pokec_n\", \n",
    "    device=0,\n",
    "    params=[{\"alpha\": 50, \"beta\": 1}] # alpha is set to 50 for Pokec N\n",
    ")\n",
    "\n",
    "# after we set up the experiment, we can import the rest\n",
    "from dataset import PokecN\n",
    "from models.gnn import WrappedGNNConfig\n",
    "from models.fair.gnn import FairGNN, Trainer"
   ]
  },
  {
   "cell_type": "markdown",
   "metadata": {},
   "source": [
    "### Run the experiments\n",
    "Now we're ready to run the experiments!\n",
    "\n",
    "We can do this by iterating of the `ExperimentRunner.runs()` method. This method returns a generator that yields the seed, logging directory, device and the params for the current experiment run.\n",
    "\n",
    "\n",
    "For each experiment run we first:\n",
    "1. Load in the dataset\n",
    "2. Create the FairAC model instance\n",
    "3. Create the FairAC trainer\n",
    "\n",
    "\n",
    "Once everything is initiliased, we can run the pretraining using `Trainer.pretrain()`. This trains the AE and sensitivity classifier.\n",
    "\n",
    "Then we run the main training loop, this trains the full FairAC model for the remaining epochs."
   ]
  },
  {
   "cell_type": "code",
   "execution_count": null,
   "id": "98fc9abb-5519-43f3-a15e-a776034f317d",
   "metadata": {},
   "outputs": [],
   "source": [
    "for (seed, log_dir, device, params) in experiment.runs():\n",
    "    print(\"===========================\")\n",
    "    print(f\"Running {experiment.experiment_name} using seed {seed}\")\n",
    "    print(f\"Log directory: {log_dir}\")\n",
    "    print(f\"Params: {params}\")\n",
    "    print(\"===========================\")\n",
    "    \n",
    "    # Load in the dataset\n",
    "    dataset = PokecN(\n",
    "        nodes_path=experiment.data_path / \"region_job_2.csv\",\n",
    "        edges_path=experiment.data_path / \"region_job_2_relationship.txt\",\n",
    "        embedding_path=experiment.data_path / \"pokec_n_embedding10.npy\",\n",
    "        feat_drop_rate=0.3,\n",
    "        device=experiment.device\n",
    "    )\n",
    "\n",
    "    \n",
    "    print(f\"Loaded dataset with {dataset.graph.num_nodes()} nodes and {dataset.graph.num_edges()} edges\")\n",
    "    print(f\"Using feat_drop_rate: {dataset.feat_drop_rate}\")\n",
    "    \n",
    "    # Create FairGNN model\n",
    "    fair_gnn = FairGNN(\n",
    "        num_features=dataset.features.shape[1],\n",
    "        device = device,\n",
    "    ).to(device)\n",
    "    \n",
    "    # load pre-trained estimator\n",
    "    fair_gnn.load_estimator(experiment.data_path / \"GCN_sens_nba_ns_50\")\n",
    "    print(f\"Created FairGNN model with {1} sensitive class\")\n",
    "    \n",
    "    # Create fair gnn trainer\n",
    "    trainer = Trainer(\n",
    "        dataset=dataset,\n",
    "        fair_gnn=fair_gnn,\n",
    "        device=device,\n",
    "        log_dir=log_dir,\n",
    "        alpha=params[\"alpha\"],\n",
    "        beta=params[\"beta\"],\n",
    "        min_acc=0.65,\n",
    "        min_roc=0.69,\n",
    "    )\n",
    "    \n",
    "    print(f\"Created trainer with {'GCN'} model, using LOG_DIR: {log_dir}\")\n",
    "\n",
    "    print(\"Starting training phase\")\n",
    "    # Train the model\n",
    "    trainer.train(epochs=3000)\n"
   ]
  }
 ],
 "metadata": {
  "kernelspec": {
   "display_name": "Python 3 (ipykernel)",
   "language": "python",
   "name": "python3"
  },
  "language_info": {
   "codemirror_mode": {
    "name": "ipython",
    "version": 3
   },
   "file_extension": ".py",
   "mimetype": "text/x-python",
   "name": "python",
   "nbconvert_exporter": "python",
   "pygments_lexer": "ipython3",
   "version": "3.8.13"
  }
 },
 "nbformat": 4,
 "nbformat_minor": 5
}
