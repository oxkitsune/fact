{
 "cells": [
  {
   "cell_type": "code",
   "execution_count": 1,
   "id": "bb0081b1-96b6-4e7c-8897-c169c2bee04a",
   "metadata": {},
   "outputs": [],
   "source": [
    "import sys\n",
    "import os\n",
    "import torch\n",
    "sys.path.append(os.path.abspath(\"../\"))\n",
    "from base_experiment import ExperimentRunner"
   ]
  },
  {
   "cell_type": "code",
   "execution_count": 2,
   "id": "b42a14e5-a87c-4765-9535-fe27a6c286c7",
   "metadata": {},
   "outputs": [],
   "source": [
    "experiment = ExperimentRunner(\n",
    "    experiment_name = \"nba_fair_ac_main\",\n",
    "    seeds = [41],\n",
    "    # seeds = [40, 41, 42],\n",
    "    data_path = \"dataset/NBA\",\n",
    "    log_dir=\"experiments/fair_ac/logs/nba_testing\", \n",
    "    device=2,\n",
    "    params=[{\"lambda1\": 1.0, \"lambda2\": 1.0}]\n",
    ")\n",
    "\n",
    "# after we set up the experiment, we can import the rest\n",
    "from dataset import NBA\n",
    "from models.gnn import WrappedGNNConfig\n",
    "from models.fair.ac import FairAC, Trainer"
   ]
  },
  {
   "cell_type": "code",
   "execution_count": 3,
   "id": "45424210-ce9a-43dd-9c8a-0f2c09a04f06",
   "metadata": {},
   "outputs": [
    {
     "name": "stdout",
     "output_type": "stream",
     "text": [
      "Loaded dataset with 403 nodes and 21645 edges\n",
      "Using feat_drop_rate: 0.3\n"
     ]
    }
   ],
   "source": [
    "# Load in the dataset\n",
    "dataset = NBA(\n",
    "    nodes_path=experiment.data_path / \"nba.csv\",\n",
    "    edges_path=experiment.data_path / \"nba_relationship.txt\",\n",
    "    embedding_path=experiment.data_path / \"nba_embedding10.npy\",\n",
    "    feat_drop_rate=0.3,\n",
    "    device=experiment.device\n",
    ")\n",
    "\n",
    "print(f\"Loaded dataset with {dataset.graph.num_nodes()} nodes and {dataset.graph.num_edges()} edges\")\n",
    "print(f\"Using feat_drop_rate: {dataset.feat_drop_rate}\")"
   ]
  },
  {
   "cell_type": "code",
   "execution_count": 4,
   "id": "db9a8ab6-c0da-43fd-885b-4a14e14ab392",
   "metadata": {
    "editable": true,
    "slideshow": {
     "slide_type": ""
    },
    "tags": []
   },
   "outputs": [],
   "source": [
    "# Create downstream GNN config\n",
    "gnn_config = WrappedGNNConfig(\n",
    "    hidden_dim=128,\n",
    "    kind=\"GCN\",\n",
    "    lr=1e-3,\n",
    "    weight_decay=1e-5,\n",
    "    kwargs={\"dropout\": 0.5},\n",
    ")"
   ]
  },
  {
   "cell_type": "code",
   "execution_count": 5,
   "id": "13ac7751-fc8f-438c-a28e-05b124ab1c42",
   "metadata": {
    "editable": true,
    "slideshow": {
     "slide_type": ""
    },
    "tags": []
   },
   "outputs": [
    {
     "name": "stdout",
     "output_type": "stream",
     "text": [
      "SETTING SEED TO: 41\n",
      "===========================\n",
      "Running nba_fair_ac_main using seed 41\n",
      "Log directory: /home/fact21/fact_refactor/experiments/fair_ac/logs/nba_testing/nba_fair_ac_main_41_lambda1_1.0_lambda2_1.0\n",
      "Params: {'lambda1': 1.0, 'lambda2': 1.0}\n",
      "===========================\n",
      "Created FairAC model with 1 sensitive class\n",
      "Created trainer with GCN model, using log_dir: /home/fact21/fact_refactor/experiments/fair_ac/logs/nba_testing/nba_fair_ac_main_41_lambda1_1.0_lambda2_1.0\n",
      "Starting pre-training phase\n"
     ]
    },
    {
     "data": {
      "application/json": {
       "ascii": false,
       "bar_format": null,
       "colour": null,
       "elapsed": 0.009741067886352539,
       "initial": 0,
       "n": 0,
       "ncols": null,
       "nrows": 66,
       "postfix": null,
       "prefix": "",
       "rate": null,
       "total": 200,
       "unit": "it",
       "unit_divisor": 1000,
       "unit_scale": false
      },
      "application/vnd.jupyter.widget-view+json": {
       "model_id": "2f4e36c48e7a40569e6e43127401d415",
       "version_major": 2,
       "version_minor": 0
      },
      "text/plain": [
       "  0%|          | 0/200 [00:00<?, ?it/s]"
      ]
     },
     "metadata": {},
     "output_type": "display_data"
    },
    {
     "name": "stdout",
     "output_type": "stream",
     "text": [
      "Finished pretraining\n",
      "Starting main training...\n"
     ]
    },
    {
     "data": {
      "application/json": {
       "ascii": false,
       "bar_format": null,
       "colour": null,
       "elapsed": 0.005455732345581055,
       "initial": 0,
       "n": 0,
       "ncols": null,
       "nrows": 66,
       "postfix": null,
       "prefix": "",
       "rate": null,
       "total": 2800,
       "unit": "it",
       "unit_divisor": 1000,
       "unit_scale": false
      },
      "application/vnd.jupyter.widget-view+json": {
       "model_id": "2c4a7a66bdfc49e1bcb0ced692e6e6dc",
       "version_major": 2,
       "version_minor": 0
      },
      "text/plain": [
       "  0%|          | 0/2800 [00:00<?, ?it/s]"
      ]
     },
     "metadata": {},
     "output_type": "display_data"
    },
    {
     "data": {
      "application/json": {
       "ascii": false,
       "bar_format": null,
       "colour": null,
       "elapsed": 0.006074190139770508,
       "initial": 0,
       "n": 0,
       "ncols": null,
       "nrows": 66,
       "postfix": null,
       "prefix": "",
       "rate": null,
       "total": 1000,
       "unit": "it",
       "unit_divisor": 1000,
       "unit_scale": false
      },
      "application/vnd.jupyter.widget-view+json": {
       "model_id": "",
       "version_major": 2,
       "version_minor": 0
      },
      "text/plain": [
       "  0%|          | 0/1000 [00:00<?, ?it/s]"
      ]
     },
     "metadata": {},
     "output_type": "display_data"
    },
    {
     "name": "stdout",
     "output_type": "stream",
     "text": [
      "[1000:300] Found new best fairness of 0.364212\n",
      "[1000:337] Found new best fairness of 0.100248\n",
      "[1000:510] Found new best fairness of 0.050739\n",
      "[1000:533] Found new best fairness of 0.044410\n",
      "[1000:567] Found new best fairness of 0.029822\n",
      "[1000:635] Found new best fairness of 0.010835\n"
     ]
    },
    {
     "data": {
      "application/json": {
       "ascii": false,
       "bar_format": null,
       "colour": null,
       "elapsed": 0.0075092315673828125,
       "initial": 0,
       "n": 0,
       "ncols": null,
       "nrows": 66,
       "postfix": null,
       "prefix": "",
       "rate": null,
       "total": 1000,
       "unit": "it",
       "unit_divisor": 1000,
       "unit_scale": false
      },
      "application/vnd.jupyter.widget-view+json": {
       "model_id": "",
       "version_major": 2,
       "version_minor": 0
      },
      "text/plain": [
       "  0%|          | 0/1000 [00:00<?, ?it/s]"
      ]
     },
     "metadata": {},
     "output_type": "display_data"
    },
    {
     "name": "stdout",
     "output_type": "stream",
     "text": [
      "[1200:325] Found new best fairness of 0.002983\n"
     ]
    },
    {
     "data": {
      "application/json": {
       "ascii": false,
       "bar_format": null,
       "colour": null,
       "elapsed": 0.008549213409423828,
       "initial": 0,
       "n": 0,
       "ncols": null,
       "nrows": 66,
       "postfix": null,
       "prefix": "",
       "rate": null,
       "total": 1000,
       "unit": "it",
       "unit_divisor": 1000,
       "unit_scale": false
      },
      "application/vnd.jupyter.widget-view+json": {
       "model_id": "",
       "version_major": 2,
       "version_minor": 0
      },
      "text/plain": [
       "  0%|          | 0/1000 [00:00<?, ?it/s]"
      ]
     },
     "metadata": {},
     "output_type": "display_data"
    },
    {
     "data": {
      "application/json": {
       "ascii": false,
       "bar_format": null,
       "colour": null,
       "elapsed": 0.0076634883880615234,
       "initial": 0,
       "n": 0,
       "ncols": null,
       "nrows": 66,
       "postfix": null,
       "prefix": "",
       "rate": null,
       "total": 1000,
       "unit": "it",
       "unit_divisor": 1000,
       "unit_scale": false
      },
      "application/vnd.jupyter.widget-view+json": {
       "model_id": "",
       "version_major": 2,
       "version_minor": 0
      },
      "text/plain": [
       "  0%|          | 0/1000 [00:00<?, ?it/s]"
      ]
     },
     "metadata": {},
     "output_type": "display_data"
    },
    {
     "data": {
      "application/json": {
       "ascii": false,
       "bar_format": null,
       "colour": null,
       "elapsed": 0.007468461990356445,
       "initial": 0,
       "n": 0,
       "ncols": null,
       "nrows": 66,
       "postfix": null,
       "prefix": "",
       "rate": null,
       "total": 1000,
       "unit": "it",
       "unit_divisor": 1000,
       "unit_scale": false
      },
      "application/vnd.jupyter.widget-view+json": {
       "model_id": "",
       "version_major": 2,
       "version_minor": 0
      },
      "text/plain": [
       "  0%|          | 0/1000 [00:00<?, ?it/s]"
      ]
     },
     "metadata": {},
     "output_type": "display_data"
    },
    {
     "data": {
      "application/json": {
       "ascii": false,
       "bar_format": null,
       "colour": null,
       "elapsed": 0.007224559783935547,
       "initial": 0,
       "n": 0,
       "ncols": null,
       "nrows": 66,
       "postfix": null,
       "prefix": "",
       "rate": null,
       "total": 1000,
       "unit": "it",
       "unit_divisor": 1000,
       "unit_scale": false
      },
      "application/vnd.jupyter.widget-view+json": {
       "model_id": "",
       "version_major": 2,
       "version_minor": 0
      },
      "text/plain": [
       "  0%|          | 0/1000 [00:00<?, ?it/s]"
      ]
     },
     "metadata": {},
     "output_type": "display_data"
    },
    {
     "data": {
      "application/json": {
       "ascii": false,
       "bar_format": null,
       "colour": null,
       "elapsed": 0.007142066955566406,
       "initial": 0,
       "n": 0,
       "ncols": null,
       "nrows": 66,
       "postfix": null,
       "prefix": "",
       "rate": null,
       "total": 1000,
       "unit": "it",
       "unit_divisor": 1000,
       "unit_scale": false
      },
      "application/vnd.jupyter.widget-view+json": {
       "model_id": "",
       "version_major": 2,
       "version_minor": 0
      },
      "text/plain": [
       "  0%|          | 0/1000 [00:00<?, ?it/s]"
      ]
     },
     "metadata": {},
     "output_type": "display_data"
    },
    {
     "data": {
      "application/json": {
       "ascii": false,
       "bar_format": null,
       "colour": null,
       "elapsed": 0.007265329360961914,
       "initial": 0,
       "n": 0,
       "ncols": null,
       "nrows": 66,
       "postfix": null,
       "prefix": "",
       "rate": null,
       "total": 1000,
       "unit": "it",
       "unit_divisor": 1000,
       "unit_scale": false
      },
      "application/vnd.jupyter.widget-view+json": {
       "model_id": "",
       "version_major": 2,
       "version_minor": 0
      },
      "text/plain": [
       "  0%|          | 0/1000 [00:00<?, ?it/s]"
      ]
     },
     "metadata": {},
     "output_type": "display_data"
    },
    {
     "data": {
      "application/json": {
       "ascii": false,
       "bar_format": null,
       "colour": null,
       "elapsed": 0.007089138031005859,
       "initial": 0,
       "n": 0,
       "ncols": null,
       "nrows": 66,
       "postfix": null,
       "prefix": "",
       "rate": null,
       "total": 1000,
       "unit": "it",
       "unit_divisor": 1000,
       "unit_scale": false
      },
      "application/vnd.jupyter.widget-view+json": {
       "model_id": "",
       "version_major": 2,
       "version_minor": 0
      },
      "text/plain": [
       "  0%|          | 0/1000 [00:00<?, ?it/s]"
      ]
     },
     "metadata": {},
     "output_type": "display_data"
    },
    {
     "name": "stdout",
     "output_type": "stream",
     "text": [
      "[2600:731] Found new best fairness of 0.002036\n"
     ]
    },
    {
     "data": {
      "application/json": {
       "ascii": false,
       "bar_format": null,
       "colour": null,
       "elapsed": 0.0067789554595947266,
       "initial": 0,
       "n": 0,
       "ncols": null,
       "nrows": 66,
       "postfix": null,
       "prefix": "",
       "rate": null,
       "total": 1000,
       "unit": "it",
       "unit_divisor": 1000,
       "unit_scale": false
      },
      "application/vnd.jupyter.widget-view+json": {
       "model_id": "",
       "version_major": 2,
       "version_minor": 0
      },
      "text/plain": [
       "  0%|          | 0/1000 [00:00<?, ?it/s]"
      ]
     },
     "metadata": {},
     "output_type": "display_data"
    },
    {
     "name": "stdout",
     "output_type": "stream",
     "text": [
      "[2799:906] Found new best fairness of 0.001691\n",
      "Finished training!\n",
      "Best epoch: 2799\n",
      "\n",
      "Best fair model:\n",
      "\tacc: 0.6714\n",
      "\troc: 0.7441\n",
      "\tparity: 0.0002\n",
      "\tequality: 0.0015\n",
      "\tconsistency: 0.0264\n",
      "\n",
      "Best acc model:\n",
      "\tacc: 0.7465\n",
      "\troc: 0.7626\n",
      "\tparity: 0.0399\n",
      "\tequality: 0.0798\n",
      "\n",
      "Best auc model:\n",
      "\tacc: 0.5587\n",
      "\troc: 0.7811\n",
      "\tparity: 0.0023\n",
      "\tequality: 0.0365\n"
     ]
    }
   ],
   "source": [
    "for (seed, log_dir, device, params) in experiment.runs():\n",
    "    print(\"===========================\")\n",
    "    print(f\"Running {experiment.experiment_name} using seed {seed}\")\n",
    "    print(f\"Log directory: {log_dir}\")\n",
    "    print(f\"Params: {params}\")\n",
    "    print(\"===========================\")\n",
    "    \n",
    "    # Create FairAC model\n",
    "    fair_ac = FairAC(\n",
    "        feature_dim=dataset.features.shape[1],\n",
    "        transformed_feature_dim=128,\n",
    "        emb_dim=dataset.embeddings.shape[1],\n",
    "        attn_vec_dim=128,\n",
    "        attn_num_heads=1,\n",
    "        dropout=0.5,\n",
    "        num_sensitive_classes=1,\n",
    "    ).to(experiment.device)\n",
    "    print(f\"Created FairAC model with {1} sensitive class\")\n",
    "        \n",
    "    # Create FairAC trainer\n",
    "    trainer = Trainer(\n",
    "        ac_model=fair_ac,\n",
    "        lambda1=params[\"lambda1\"],\n",
    "        lambda2=params[\"lambda2\"],\n",
    "        dataset=dataset,\n",
    "        device=experiment.device,\n",
    "        gnn_config=gnn_config,\n",
    "        log_dir=log_dir,\n",
    "        min_acc=0.65,\n",
    "        min_roc=0.69,\n",
    "    )\n",
    "    print(f\"Created trainer with {'GCN'} model, using log_dir: {log_dir}\")\n",
    "\n",
    "    print(\"Starting pre-training phase\")\n",
    "    # Run pre-training\n",
    "    trainer.pretrain(epochs=200)\n",
    "    print(\"Finished pretraining\")\n",
    "    \n",
    "    # Main training loop, with GNN validation\n",
    "    print(\"Starting main training...\")\n",
    "    trainer.train(val_start_epoch=800, val_epoch_interval=200, epochs=2800)\n"
   ]
  }
 ],
 "metadata": {
  "kernelspec": {
   "display_name": "Python 3 (ipykernel)",
   "language": "python",
   "name": "python3"
  },
  "language_info": {
   "codemirror_mode": {
    "name": "ipython",
    "version": 3
   },
   "file_extension": ".py",
   "mimetype": "text/x-python",
   "name": "python",
   "nbconvert_exporter": "python",
   "pygments_lexer": "ipython3",
   "version": "3.8.13"
  }
 },
 "nbformat": 4,
 "nbformat_minor": 5
}
