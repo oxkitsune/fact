{
 "cells": [
  {
   "cell_type": "code",
   "execution_count": 1,
   "id": "8ed66bcd-8d89-4c60-988d-0d200efca8dc",
   "metadata": {},
   "outputs": [],
   "source": [
    "import sys\n",
    "import os\n",
    "import torch\n",
    "sys.path.append(os.path.abspath(\"../\"))\n",
    "\n",
    "import base_experiment"
   ]
  },
  {
   "cell_type": "code",
   "execution_count": 2,
   "id": "22abca88-3942-47d6-88a1-eec4d44cda81",
   "metadata": {},
   "outputs": [
    {
     "name": "stdout",
     "output_type": "stream",
     "text": [
      "Using directories:\n",
      "root_dir: /home/fact21/fact_refactor\n",
      "data_dir: /home/fact21/fact_refactor/dataset/NBA\n",
      "model_dir: /home/fact21/fact_refactor/experiments/fair_ac/logs/nba/nba_fair_ac_main_40_lambda1_1.0_lambda2_1.0\n",
      "========================================\n",
      "device: cuda:2\n"
     ]
    }
   ],
   "source": [
    "ROOT_DIR, DATA_PATH, MODEL_DIR, DEVICE = base_experiment.setup_evaluation(\n",
    "    seed=42,\n",
    "    data_path=\"dataset/NBA\",\n",
    "    model_dir=\"experiments/fair_ac/logs/nba/nba_fair_ac_main_40_lambda1_1.0_lambda2_1.0/\",\n",
    "    device=2\n",
    ")\n",
    "\n",
    "# after we set up the experiment, we can import the rest\n",
    "from dataset import NBA\n",
    "from models.fair.ac import FairAC, Evaluation"
   ]
  },
  {
   "cell_type": "code",
   "execution_count": 3,
   "id": "c522bf40-9656-4885-a217-e24fb3d1373e",
   "metadata": {},
   "outputs": [
    {
     "name": "stdout",
     "output_type": "stream",
     "text": [
      "Loaded dataset with 403 nodes and 21645 edges\n",
      "Using feat_drop_rate: 0.3\n"
     ]
    }
   ],
   "source": [
    "# Load in the dataset\n",
    "dataset = NBA(\n",
    "    nodes_path=DATA_PATH / \"nba.csv\",\n",
    "    edges_path=DATA_PATH / \"nba_relationship.txt\",\n",
    "    embedding_path=DATA_PATH / \"nba_embedding10.npy\",\n",
    "    feat_drop_rate=0.3,\n",
    "    device=DEVICE\n",
    ")\n",
    "\n",
    "print(f\"Loaded dataset with {dataset.graph.num_nodes()} nodes and {dataset.graph.num_edges()} edges\")\n",
    "print(f\"Using feat_drop_rate: {dataset.feat_drop_rate}\")\n",
    "    "
   ]
  },
  {
   "cell_type": "code",
   "execution_count": 4,
   "id": "7225cd57-54a4-4e11-88f7-78850548e4fa",
   "metadata": {},
   "outputs": [
    {
     "name": "stdout",
     "output_type": "stream",
     "text": [
      "Loaded best metrics {'fair': {'epoch': 2200, 'acc': 0.6525821596244131, 'roc': 0.735626102292769, 'parity': 0.0005753739930954849, 'equality': 0.0014605647517039744, 'consistency': 0.026404716594824573}, 'acc': {'epoch': 2600, 'acc': 0.7370892018779343, 'roc': 0.7589947089947091, 'parity': 0.09919447640966628, 'equality': 0.15725413826679657, 'consistency': None}, 'auc': {'epoch': 2000, 'acc': 0.5446009389671361, 'roc': 0.7713403880070546, 'parity': 0.02692750287686997, 'equality': 0.07546251217137293, 'consistency': None}, 'ar': {'epoch': 2600, 'acc': 0.7370892018779343, 'roc': 0.7589947089947091, 'parity': 0.09919447640966628, 'equality': 0.15725413826679657, 'consistency': None}, 'best_epoch': 2200, 'best_gnn_model': 'gnn_epoch2200.pt', 'best_ac_model': 'ac_epoch2200.pt'}\n",
      "Loaded model FairAC(\n",
      "  (ae): FairACAutoEncoder(\n",
      "    (encoder): Sequential(\n",
      "      (0): Linear(in_features=95, out_features=256, bias=True)\n",
      "      (1): ReLU()\n",
      "      (2): Linear(in_features=256, out_features=128, bias=True)\n",
      "    )\n",
      "    (decoder): Sequential(\n",
      "      (0): Linear(in_features=128, out_features=256, bias=True)\n",
      "      (1): ReLU()\n",
      "      (2): Linear(in_features=256, out_features=95, bias=True)\n",
      "    )\n",
      "  )\n",
      "  (hgnn_ac): HGNNAC(\n",
      "    (attention_0): _AttentionLayer(\n",
      "      (leakyrelu): LeakyReLU(negative_slope=0.2)\n",
      "    )\n",
      "  )\n",
      "  (sensitive_classifier): Linear(in_features=128, out_features=1, bias=True)\n",
      ")\n",
      "Loaded gnn_model WrappedGNN(\n",
      "  (gnn): GCNBody(\n",
      "    (gc1): GraphConv(in=128, out=128, normalization=both, activation=None)\n",
      "    (gc2): GraphConv(in=128, out=128, normalization=both, activation=None)\n",
      "    (dropout): Dropout(p=0.5, inplace=False)\n",
      "  )\n",
      "  (classifier): Linear(in_features=128, out_features=1, bias=True)\n",
      "  (criterion): BCEWithLogitsLoss()\n",
      ")\n"
     ]
    }
   ],
   "source": [
    "# Create evaluation\n",
    "evaluation = Evaluation(\n",
    "    dataset=dataset,\n",
    "    device=DEVICE,\n",
    ")\n",
    "\n",
    "evaluation.load_model(MODEL_DIR)"
   ]
  },
  {
   "cell_type": "code",
   "execution_count": 5,
   "id": "0d65c933-d9f3-425a-a4a6-58af68c927cd",
   "metadata": {},
   "outputs": [
    {
     "name": "stdout",
     "output_type": "stream",
     "text": [
      "WrappedGNN(\n",
      "  (gnn): GCNBody(\n",
      "    (gc1): GraphConv(in=128, out=128, normalization=both, activation=None)\n",
      "    (gc2): GraphConv(in=128, out=128, normalization=both, activation=None)\n",
      "    (dropout): Dropout(p=0.5, inplace=False)\n",
      "  )\n",
      "  (classifier): Linear(in_features=128, out_features=1, bias=True)\n",
      "  (criterion): BCEWithLogitsLoss()\n",
      ")\n"
     ]
    },
    {
     "data": {
      "application/json": {
       "ascii": false,
       "bar_format": null,
       "colour": null,
       "elapsed": 0.00943136215209961,
       "initial": 0,
       "n": 0,
       "ncols": null,
       "nrows": 66,
       "postfix": null,
       "prefix": "",
       "rate": null,
       "total": 3000,
       "unit": "it",
       "unit_divisor": 1000,
       "unit_scale": false
      },
      "application/vnd.jupyter.widget-view+json": {
       "model_id": "",
       "version_major": 2,
       "version_minor": 0
      },
      "text/plain": [
       "  0%|          | 0/3000 [00:00<?, ?it/s]"
      ]
     },
     "metadata": {},
     "output_type": "display_data"
    },
    {
     "name": "stdout",
     "output_type": "stream",
     "text": [
      "Best metrics updated, new fairness: 0.37070903779764536\n",
      "Best metrics updated, new fairness: 0.27425865273966543\n",
      "Best metrics updated, new fairness: 0.21729662742320976\n",
      "Best metrics updated, new fairness: 0.19830928565105777\n",
      "Best metrics updated, new fairness: 0.17299282995485532\n",
      "Best metrics updated, new fairness: 0.1494379038682837\n",
      "Best metrics updated, new fairness: 0.11065769673364612\n",
      "Best metrics updated, new fairness: 0.0979994688855449\n",
      "Best metrics updated, new fairness: 0.09247587855182793\n",
      "Best metrics updated, new fairness: 0.08614676462777737\n",
      "Best metrics updated, new fairness: 0.04929627334690623\n",
      "Best metrics updated, new fairness: 0.043285828095954715\n",
      "Best metrics updated, new fairness: 0.023979817650703672\n",
      "Best metrics updated, new fairness: 0.017650703726653005\n",
      "Best metrics updated, new fairness: 0.013100823227405467\n",
      "Best metrics updated, new fairness: 0.00508099495441261\n",
      "Best metrics updated, new fairness: 0.0029830928565105497\n",
      "Best metrics:\n",
      "\tepoch: 2809\n",
      "\tacc: 0.6526\n",
      "\troc: 0.7209\n",
      "\tparity: 0.0010, equality: 0.0019, sum: 0.0030\n",
      "\tconsistency: 0.0264\n"
     ]
    }
   ],
   "source": [
    "# Evaluate the FairAC model\n",
    "evaluation.evaluate()"
   ]
  },
  {
   "cell_type": "code",
   "execution_count": 6,
   "id": "21c91de3-3610-497f-ac1a-442c9c9a66d6",
   "metadata": {
    "editable": true,
    "slideshow": {
     "slide_type": ""
    },
    "tags": []
   },
   "outputs": [
    {
     "name": "stdout",
     "output_type": "stream",
     "text": [
      "Best metrics:\n",
      "\tacc: 0.6103\n",
      "\troc: 0.7247\n",
      "\tparity: 0.0524, equality: 0.0370, sum: 0.0894\n",
      "\tconsistency: 0.0264\n"
     ]
    }
   ],
   "source": [
    "# Evaluate the FairAC model using best GNN\n",
    "evaluation.evaluate_best_gnn()"
   ]
  }
 ],
 "metadata": {
  "kernelspec": {
   "display_name": "Python 3 (ipykernel)",
   "language": "python",
   "name": "python3"
  },
  "language_info": {
   "codemirror_mode": {
    "name": "ipython",
    "version": 3
   },
   "file_extension": ".py",
   "mimetype": "text/x-python",
   "name": "python",
   "nbconvert_exporter": "python",
   "pygments_lexer": "ipython3",
   "version": "3.8.13"
  }
 },
 "nbformat": 4,
 "nbformat_minor": 5
}
