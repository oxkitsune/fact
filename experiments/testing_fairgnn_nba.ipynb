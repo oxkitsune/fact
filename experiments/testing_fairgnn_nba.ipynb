{
 "cells": [
  {
   "cell_type": "code",
   "execution_count": null,
   "id": "36490633-6b99-4cda-bbf8-6fba5ebefb38",
   "metadata": {},
   "outputs": [],
   "source": [
    "import sys\n",
    "import os\n",
    "import torch\n",
    "sys.path.append(os.path.abspath(\"../\"))\n",
    "from base_experiment import ExperimentRunner"
   ]
  },
  {
   "cell_type": "code",
   "execution_count": null,
   "id": "85528069-1cf2-4e5a-8d97-56fde897e90a",
   "metadata": {},
   "outputs": [],
   "source": [
    "experiment = ExperimentRunner(\n",
    "    experiment_name = \"nba_fair_gnn_main\",\n",
    "    seeds = [40, 41, 42],\n",
    "    data_path = \"dataset/NBA\",\n",
    "    log_dir=\"experiments/fair_gnn/logs/nba\", \n",
    "    device=3,\n",
    "    params=[{\"alpha\": 10}] # alpha is set to 10 for NBA\n",
    ")\n",
    "\n",
    "# after we set up the experiment, we can import the rest\n",
    "from dataset import NBA\n",
    "from models.gnn import WrappedGNNConfig\n",
    "from models.fair.gnn import FairGNN, Trainer"
   ]
  },
  {
   "cell_type": "code",
   "execution_count": null,
   "id": "f5dcc28b-93df-4873-a990-9e5a3dcf9537",
   "metadata": {},
   "outputs": [],
   "source": [
    "# Load in the dataset\n",
    "dataset = NBA(\n",
    "    nodes_path=experiment.data_path / \"nba.csv\",\n",
    "    edges_path=experiment.data_path / \"nba_relationship.txt\",\n",
    "    embedding_path=experiment.data_path / \"nba_embedding10.npy\",\n",
    "    feat_drop_rate=0.3,\n",
    "    device=experiment.device\n",
    ")\n",
    "\n",
    "print(f\"Loaded dataset with {dataset.graph.num_nodes()} nodes and {dataset.graph.num_edges()} edges\")\n",
    "print(f\"Using feat_drop_rate: {dataset.feat_drop_rate}\")"
   ]
  },
  {
   "cell_type": "code",
   "execution_count": null,
   "id": "98fc9abb-5519-43f3-a15e-a776034f317d",
   "metadata": {},
   "outputs": [],
   "source": [
    "for (seed, log_dir, device, params) in experiment.runs():\n",
    "    print(\"===========================\")\n",
    "    print(f\"Running {experiment.experiment_name} using seed {seed}\")\n",
    "    print(f\"Log directory: {log_dir}\")\n",
    "    print(f\"Params: {params}\")\n",
    "    print(\"===========================\")\n",
    "\n",
    "    # Create FairGNN model\n",
    "    fair_gnn = FairGNN(\n",
    "        num_features=dataset.features.shape[1],\n",
    "        alpha=params[\"alpha\"],\n",
    "        device = device,\n",
    "    ).to(device)\n",
    "    \n",
    "    # load pre-trained estimator\n",
    "    fair_gnn.load_estimator(experiment.data_path / \"GCN_sens_nba_ns_50\")\n",
    "    print(f\"Created FairGNN model with {1} sensitive class\")\n",
    "    \n",
    "    # Create fair gnn trainer\n",
    "    trainer = Trainer(\n",
    "        dataset=dataset,\n",
    "        fair_gnn=fair_gnn,\n",
    "        device=device,\n",
    "        log_dir=log_dir,\n",
    "        min_acc=0.65,\n",
    "        min_roc=0.69,\n",
    "    )\n",
    "    \n",
    "    print(f\"Created trainer with {'GCN'} model, using LOG_DIR: {log_dir}\")\n",
    "\n",
    "    print(\"Starting training phase\")\n",
    "    # Train the model\n",
    "    trainer.train(epochs=3000)\n"
   ]
  }
 ],
 "metadata": {
  "kernelspec": {
   "display_name": "Python 3 (ipykernel)",
   "language": "python",
   "name": "python3"
  },
  "language_info": {
   "codemirror_mode": {
    "name": "ipython",
    "version": 3
   },
   "file_extension": ".py",
   "mimetype": "text/x-python",
   "name": "python",
   "nbconvert_exporter": "python",
   "pygments_lexer": "ipython3",
   "version": "3.8.13"
  }
 },
 "nbformat": 4,
 "nbformat_minor": 5
}
