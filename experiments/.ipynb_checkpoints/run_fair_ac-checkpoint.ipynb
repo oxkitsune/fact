{
 "cells": [
  {
   "cell_type": "code",
   "execution_count": 1,
   "id": "8ed66bcd-8d89-4c60-988d-0d200efca8dc",
   "metadata": {},
   "outputs": [],
   "source": [
    "import sys\n",
    "import os\n",
    "import torch\n",
    "sys.path.append(os.path.abspath(\"../\"))\n",
    "\n",
    "import base_experiment"
   ]
  },
  {
   "cell_type": "code",
   "execution_count": 2,
   "id": "22abca88-3942-47d6-88a1-eec4d44cda81",
   "metadata": {},
   "outputs": [
    {
     "name": "stdout",
     "output_type": "stream",
     "text": [
      "Using directories:\n",
      "root_dir: /home/fact21/fact_refactor\n",
      "data_dir: /home/fact21/fact_refactor/dataset/NBA\n",
      "model_dir: /home/fact21/fact_refactor/experiments/fair_ac/logs/nba/nba_fair_ac_main_40_lambda1_1.0_lambda2_1.0\n",
      "========================================\n",
      "device: cuda:2\n"
     ]
    }
   ],
   "source": [
    "ROOT_DIR, DATA_PATH, MODEL_DIR, DEVICE = base_experiment.setup_evaluation(\n",
    "    seed=42,\n",
    "    data_path=\"dataset/NBA\",\n",
    "    model_dir=\"experiments/fair_ac/logs/nba/nba_fair_ac_main_40_lambda1_1.0_lambda2_1.0/\",\n",
    "    device=2\n",
    ")\n",
    "\n",
    "# after we set up the experiment, we can import the rest\n",
    "from dataset import NBA\n",
    "from models.fair.ac import FairAC, Evaluation"
   ]
  },
  {
   "cell_type": "code",
   "execution_count": 3,
   "id": "c522bf40-9656-4885-a217-e24fb3d1373e",
   "metadata": {},
   "outputs": [
    {
     "name": "stdout",
     "output_type": "stream",
     "text": [
      "Loaded dataset with 403 nodes and 21645 edges\n",
      "Using feat_drop_rate: 0.3\n"
     ]
    }
   ],
   "source": [
    "# Load in the dataset\n",
    "dataset = NBA(\n",
    "    nodes_path=DATA_PATH / \"nba.csv\",\n",
    "    edges_path=DATA_PATH / \"nba_relationship.txt\",\n",
    "    embedding_path=DATA_PATH / \"nba_embedding10.npy\",\n",
    "    feat_drop_rate=0.3,\n",
    "    device=DEVICE\n",
    ")\n",
    "\n",
    "print(f\"Loaded dataset with {dataset.graph.num_nodes()} nodes and {dataset.graph.num_edges()} edges\")\n",
    "print(f\"Using feat_drop_rate: {dataset.feat_drop_rate}\")\n",
    "    "
   ]
  },
  {
   "cell_type": "code",
   "execution_count": 4,
   "id": "7225cd57-54a4-4e11-88f7-78850548e4fa",
   "metadata": {},
   "outputs": [
    {
     "name": "stdout",
     "output_type": "stream",
     "text": [
      "Loaded best metrics {'fair': {'epoch': 1400, 'acc': 0.6713615023474179, 'roc': 0.7341269841269841, 'parity': 0.0018411967779056182, 'equality': 0.0019474196689386325, 'consistency': 0.026404716594824573}, 'acc': {'epoch': 1600, 'acc': 0.7511737089201878, 'roc': 0.759700176366843, 'parity': 0.09286536248561561, 'equality': 0.1699123661148978, 'consistency': None}, 'auc': {'epoch': 1800, 'acc': 0.5492957746478874, 'roc': 0.7715167548500881, 'parity': 0.05857307249712314, 'equality': 0.16455696202531644, 'consistency': None}, 'ar': {'epoch': 1600, 'acc': 0.7511737089201878, 'roc': 0.759700176366843, 'parity': 0.09286536248561561, 'equality': 0.1699123661148978, 'consistency': None}, 'best_epoch': 1400, 'best_gnn_model': 'gnn_epoch1400.pt', 'best_ac_model': 'ac_epoch1400.pt'}\n",
      "Loaded model FairAC(\n",
      "  (ae): FairACAutoEncoder(\n",
      "    (encoder): Sequential(\n",
      "      (0): Linear(in_features=95, out_features=256, bias=True)\n",
      "      (1): ReLU()\n",
      "      (2): Linear(in_features=256, out_features=128, bias=True)\n",
      "    )\n",
      "    (decoder): Sequential(\n",
      "      (0): Linear(in_features=128, out_features=256, bias=True)\n",
      "      (1): ReLU()\n",
      "      (2): Linear(in_features=256, out_features=95, bias=True)\n",
      "    )\n",
      "  )\n",
      "  (hgnn_ac): HGNNAC(\n",
      "    (attention_0): _AttentionLayer(\n",
      "      (leakyrelu): LeakyReLU(negative_slope=0.2)\n",
      "    )\n",
      "  )\n",
      "  (sensitive_classifier): Linear(in_features=128, out_features=1, bias=True)\n",
      ")\n",
      "Loaded gnn_model WrappedGNN(\n",
      "  (gnn): GCNBody(\n",
      "    (gc1): GraphConv(in=128, out=128, normalization=both, activation=None)\n",
      "    (gc2): GraphConv(in=128, out=128, normalization=both, activation=None)\n",
      "    (dropout): Dropout(p=0.5, inplace=False)\n",
      "  )\n",
      "  (classifier): Linear(in_features=128, out_features=1, bias=True)\n",
      "  (criterion): BCEWithLogitsLoss()\n",
      ")\n"
     ]
    }
   ],
   "source": [
    "# Create evaluation\n",
    "evaluation = Evaluation(\n",
    "    dataset=dataset,\n",
    "    device=DEVICE,\n",
    ")\n",
    "\n",
    "evaluation.load_model(MODEL_DIR)"
   ]
  },
  {
   "cell_type": "code",
   "execution_count": 5,
   "id": "0d65c933-d9f3-425a-a4a6-58af68c927cd",
   "metadata": {},
   "outputs": [
    {
     "name": "stdout",
     "output_type": "stream",
     "text": [
      "WrappedGNN(\n",
      "  (gnn): GCNBody(\n",
      "    (gc1): GraphConv(in=128, out=128, normalization=both, activation=None)\n",
      "    (gc2): GraphConv(in=128, out=128, normalization=both, activation=None)\n",
      "    (dropout): Dropout(p=0.5, inplace=False)\n",
      "  )\n",
      "  (classifier): Linear(in_features=128, out_features=1, bias=True)\n",
      "  (criterion): BCEWithLogitsLoss()\n",
      ")\n"
     ]
    },
    {
     "data": {
      "application/json": {
       "ascii": false,
       "bar_format": null,
       "colour": null,
       "elapsed": 0.008662700653076172,
       "initial": 0,
       "n": 0,
       "ncols": null,
       "nrows": 62,
       "postfix": null,
       "prefix": "",
       "rate": null,
       "total": 1000,
       "unit": "it",
       "unit_divisor": 1000,
       "unit_scale": false
      },
      "application/vnd.jupyter.widget-view+json": {
       "model_id": "",
       "version_major": 2,
       "version_minor": 0
      },
      "text/plain": [
       "  0%|          | 0/1000 [00:00<?, ?it/s]"
      ]
     },
     "metadata": {},
     "output_type": "display_data"
    },
    {
     "name": "stdout",
     "output_type": "stream",
     "text": [
      "Best metrics updated, new fairness: 0.025396122864477344\n",
      "Best metrics updated, new fairness: 0.014694166592900793\n",
      "Best metrics updated, new fairness: 0.011427812693635464\n",
      "Best metrics updated, new fairness: 0.007559529078516425\n",
      "Best metrics:\n",
      "\tepoch: 655\n",
      "\tacc: 0.6667\n",
      "\troc: 0.7752\n",
      "\tparity: 0.0061, equality: 0.0015, sum: 0.0076\n",
      "\tconsistency: 0.0264\n"
     ]
    }
   ],
   "source": [
    "# Evaluate the FairAC model\n",
    "evaluation.evaluate()"
   ]
  },
  {
   "cell_type": "code",
   "execution_count": 6,
   "id": "21c91de3-3610-497f-ac1a-442c9c9a66d6",
   "metadata": {
    "editable": true,
    "slideshow": {
     "slide_type": ""
    },
    "tags": []
   },
   "outputs": [
    {
     "name": "stdout",
     "output_type": "stream",
     "text": [
      "Best metrics:\n",
      "\tacc: 0.5869\n",
      "\troc: 0.7277\n",
      "\tparity: 0.0064, equality: 0.0759, sum: 0.0824\n",
      "\tconsistency: 0.0264\n"
     ]
    }
   ],
   "source": [
    "# Evaluate the FairAC model using best GNN\n",
    "evaluation.evaluate_best_gnn()"
   ]
  }
 ],
 "metadata": {
  "kernelspec": {
   "display_name": "Python 3 (ipykernel)",
   "language": "python",
   "name": "python3"
  },
  "language_info": {
   "codemirror_mode": {
    "name": "ipython",
    "version": 3
   },
   "file_extension": ".py",
   "mimetype": "text/x-python",
   "name": "python",
   "nbconvert_exporter": "python",
   "pygments_lexer": "ipython3",
   "version": "3.8.13"
  }
 },
 "nbformat": 4,
 "nbformat_minor": 5
}
